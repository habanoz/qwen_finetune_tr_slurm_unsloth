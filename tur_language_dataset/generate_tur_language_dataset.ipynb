{
 "cells": [
  {
   "cell_type": "code",
   "execution_count": 1,
   "id": "a2f7e260",
   "metadata": {},
   "outputs": [],
   "source": [
    "from datasets import Dataset, load_dataset, concatenate_datasets"
   ]
  },
  {
   "cell_type": "markdown",
   "id": "e6fd7abb",
   "metadata": {},
   "source": [
    "## Load Dataset"
   ]
  },
  {
   "cell_type": "code",
   "execution_count": 2,
   "id": "282005e4",
   "metadata": {},
   "outputs": [],
   "source": [
    "news_tr=load_dataset(\"habanoz/news-tr-90k\")"
   ]
  },
  {
   "cell_type": "code",
   "execution_count": 3,
   "id": "392aa4e9",
   "metadata": {},
   "outputs": [
    {
     "data": {
      "text/plain": [
       "DatasetDict({\n",
       "    train: Dataset({\n",
       "        features: ['Id', 'Tag', 'Labels', 'Title', 'Summary', 'Text', '__index_level_0__'],\n",
       "        num_rows: 90787\n",
       "    })\n",
       "})"
      ]
     },
     "execution_count": 3,
     "metadata": {},
     "output_type": "execute_result"
    }
   ],
   "source": [
    "news_tr"
   ]
  },
  {
   "cell_type": "code",
   "execution_count": 4,
   "id": "894f2cb2",
   "metadata": {},
   "outputs": [
    {
     "data": {
      "application/vnd.jupyter.widget-view+json": {
       "model_id": "859cfcd6757e4ea1a898ddfe59ed89c7",
       "version_major": 2,
       "version_minor": 0
      },
      "text/plain": [
       "Filter:   0%|          | 0/90787 [00:00<?, ? examples/s]"
      ]
     },
     "metadata": {},
     "output_type": "display_data"
    }
   ],
   "source": [
    "news_tr_cultur = news_tr.filter(lambda x: 'kultur-sanat' == x['Tag'])"
   ]
  },
  {
   "cell_type": "code",
   "execution_count": 6,
   "id": "92d6385f",
   "metadata": {},
   "outputs": [
    {
     "data": {
      "text/plain": [
       "DatasetDict({\n",
       "    train: Dataset({\n",
       "        features: ['Id', 'Tag', 'Labels', 'Title', 'Summary', 'Text', '__index_level_0__'],\n",
       "        num_rows: 2502\n",
       "    })\n",
       "})"
      ]
     },
     "execution_count": 6,
     "metadata": {},
     "output_type": "execute_result"
    }
   ],
   "source": [
    "news_tr_cultur"
   ]
  },
  {
   "cell_type": "code",
   "execution_count": 8,
   "id": "359fde44",
   "metadata": {},
   "outputs": [
    {
     "data": {
      "text/plain": [
       "{'Id': 508735,\n",
       " 'Tag': 'kultur-sanat',\n",
       " 'Labels': 'Nevşehir,Tarihi kilise',\n",
       " 'Title': \"'Hristiyan alemini heyecanlandıracak keşif'\",\n",
       " 'Summary': 'Nevşehir Belediye Başkanı Ünver, bulunan yer altı şehriyle ilgili, \"Dünya Ortodoksluğu\\'nun tarihi akışına yön verecek bulgularla karşı karşıyayız\" dedi.',\n",
       " 'Text': '**Arkeolojik sit alanı** ilan edilen, kazı çalışmalarının sürdüğü alanda bulunan tarihi kiliseyle ilgili gazetecilere açıklamada bulunan Nevşehir Belediye Başkanı Hasan Ünver, \"**Dünya Ortodoksluğu** \\'nun tarihi akışına yön verecek bulgularla karşı karşıyayız. Tamamıyla yerin altında kalıp içi toprak dolduğu için **fresk** lerde (Yaş duvar sıvası üzerine kireç suyunda eritilmiş madeni boyalarla resim yapma yöntemi) pek bozulma olmamış. İlk verilere göre milattan sonra 5\\'inci yüzyıla ait görünüyor. Hristiyan dünyasında **heyecan** uyandıracak bulgulara ulaştık\" diye konuştu.\\n\\nÜnver, **kilise**nin içinde **İsa Peygamber** \\'in gökyüzüne yükseldiğini ve kötü ruhun öldürülmesinin tasvir edildiği freskler olduğunu, yapılan araştırmalarda bu tür fresklerle daha önce karşılaşılmadığının anlaşıldığını söyledi.\\n\\nYer altındaki kayadan oyma kilisenin turizme açılmasının Kapadokya\\'yı Ortodoksların hac ibadetini yapacakları bir yer haline dönüştürebileceğini ifade eden Ünver, bu durumun Kapadokya\\'yı marka olarak çok daha farklı konuma getireceğine dikkati çekti.\\n\\nKilisenin bölgeye gelen turist sayısının kat kat artmasına neden olabileceğini belirten Ünver, şöyle konuştu:\\n\\n\"Yer altı şehrinde çalışmalarımız devam ediyor. Temizlik yaparak açtığımız alanlar heyecan uyandırıyor. Çeşitli tarihi eşyalar bulunuyordu ama çok daha önemli ve tarihi anlamda ciddi bir veriyle karşı karşıyayız. Dünya Ortodoksluğunun tarihi akışına yön verecek bulgularla karşı karşıyayız. Kazı çalışmalarında yeni bulunan Ortodoks yer altı kilisesindeki freskler çok özgün. Sadece bu kiliseye ait olabileceği düşünülen bugüne kadar karşılaşılmayan resimler. Toprak temizleme çalışmaları devam ediyor. Çalışmalar sonunda kilisenin bölümlerinin ne kadar ileriye uzandığını, büyüklüğünü de tespit etmiş olacağız. Burası turizme açıldığında, Kapadokya bölgesi ve Nevşehir belki de Ortodoksların hac yeri haline gelecek. Belki de bölgeye gelen 3 milyon turist sayısını 15 milyona ulaştıracaktır.\"\\nNevşehir Kalesi çevresindeki 11 mahalleyi içine alan 360 bin metrekarelik alandaki kazı çalışmaları sırasında daha önce de yer altı şehrine ait geçiş tünelleri, yaşam odaları ve su yolları bulunmuştu.\\n\\nMuhabir: Behçet Alkan',\n",
       " '__index_level_0__': 32}"
      ]
     },
     "execution_count": 8,
     "metadata": {},
     "output_type": "execute_result"
    }
   ],
   "source": [
    "news_tr_cultur['train'][0]"
   ]
  },
  {
   "cell_type": "code",
   "execution_count": 9,
   "id": "eafbcda5",
   "metadata": {},
   "outputs": [
    {
     "data": {
      "application/vnd.jupyter.widget-view+json": {
       "model_id": "1de9fa4ccf7a481ba8d5a282cb1b9d1b",
       "version_major": 2,
       "version_minor": 0
      },
      "text/plain": [
       "Downloading readme:   0%|          | 0.00/495 [00:00<?, ?B/s]"
      ]
     },
     "metadata": {},
     "output_type": "display_data"
    },
    {
     "data": {
      "application/vnd.jupyter.widget-view+json": {
       "model_id": "7fbee8dd31d941ab9898cd2611cda929",
       "version_major": 2,
       "version_minor": 0
      },
      "text/plain": [
       "Downloading data:   0%|          | 0.00/192M [00:00<?, ?B/s]"
      ]
     },
     "metadata": {},
     "output_type": "display_data"
    },
    {
     "data": {
      "application/vnd.jupyter.widget-view+json": {
       "model_id": "2c05e79b552646e8a38aef62748ef715",
       "version_major": 2,
       "version_minor": 0
      },
      "text/plain": [
       "Generating train split:   0%|          | 0/164620 [00:00<?, ? examples/s]"
      ]
     },
     "metadata": {},
     "output_type": "display_data"
    }
   ],
   "source": [
    "euronews_tr=load_dataset(\"habanoz/euronews-tr-v1.0\")"
   ]
  },
  {
   "cell_type": "code",
   "execution_count": 10,
   "id": "12c00539",
   "metadata": {},
   "outputs": [
    {
     "data": {
      "application/vnd.jupyter.widget-view+json": {
       "model_id": "b7adcd499939442c9e596a5ba506c654",
       "version_major": 2,
       "version_minor": 0
      },
      "text/plain": [
       "Filter:   0%|          | 0/164620 [00:00<?, ? examples/s]"
      ]
     },
     "metadata": {},
     "output_type": "display_data"
    }
   ],
   "source": [
    "euronews_tr_cultur = euronews_tr.filter(lambda x: 'kultur' == x['Tag'])"
   ]
  },
  {
   "cell_type": "code",
   "execution_count": 12,
   "id": "7858a0df",
   "metadata": {},
   "outputs": [
    {
     "data": {
      "text/plain": [
       "DatasetDict({\n",
       "    train: Dataset({\n",
       "        features: ['Id', 'Tag', 'Labels', 'Title', 'Summary', 'Text', '__index_level_0__'],\n",
       "        num_rows: 2713\n",
       "    })\n",
       "})"
      ]
     },
     "execution_count": 12,
     "metadata": {},
     "output_type": "execute_result"
    }
   ],
   "source": [
    "euronews_tr_cultur"
   ]
  },
  {
   "cell_type": "markdown",
   "id": "39252d8a",
   "metadata": {},
   "source": [
    "## Combine Datasets"
   ]
  },
  {
   "cell_type": "code",
   "execution_count": 15,
   "id": "4e3c8b0d",
   "metadata": {},
   "outputs": [],
   "source": [
    "culter_tr = concatenated_datasets = concatenate_datasets([news_tr_cultur['train'].remove_columns(['Id', 'Tag', '__index_level_0__']), \n",
    "                                                          euronews_tr_cultur['train'].remove_columns(['Id', 'Tag', '__index_level_0__'])]\n",
    "                                                         )"
   ]
  },
  {
   "cell_type": "code",
   "execution_count": 16,
   "id": "50b29af2",
   "metadata": {},
   "outputs": [
    {
     "data": {
      "text/plain": [
       "Dataset({\n",
       "    features: ['Labels', 'Title', 'Summary', 'Text'],\n",
       "    num_rows: 5215\n",
       "})"
      ]
     },
     "execution_count": 16,
     "metadata": {},
     "output_type": "execute_result"
    }
   ],
   "source": [
    "culter_tr"
   ]
  },
  {
   "cell_type": "markdown",
   "id": "7c4753a7",
   "metadata": {},
   "source": [
    "## Generate Article Dataset"
   ]
  },
  {
   "cell_type": "code",
   "execution_count": 141,
   "id": "ec5e3a6b",
   "metadata": {},
   "outputs": [],
   "source": [
    "prompt = \"Generate a news article in Turkish about the following title:\\n\\nTitle:{}\\nLabels:{}\""
   ]
  },
  {
   "cell_type": "code",
   "execution_count": 146,
   "id": "9d2723a0",
   "metadata": {},
   "outputs": [
    {
     "data": {
      "application/vnd.jupyter.widget-view+json": {
       "model_id": "494b9379b9764694886aaa36242ad638",
       "version_major": 2,
       "version_minor": 0
      },
      "text/plain": [
       "Map:   0%|          | 0/1215 [00:00<?, ? examples/s]"
      ]
     },
     "metadata": {},
     "output_type": "display_data"
    }
   ],
   "source": [
    "culter_article_ds = culter_tr.shuffle(123).select(range(4000, len(culter_tr))).map(lambda x: {'conversation': [{'role':'user', 'content': prompt.format(x['Title'], x['Labels'])}, {'role':'assistant', 'content': x['Text']}]}, remove_columns=culter_tr.column_names)"
   ]
  },
  {
   "cell_type": "code",
   "execution_count": 148,
   "id": "bfc016d7",
   "metadata": {},
   "outputs": [
    {
     "data": {
      "text/plain": [
       "Dataset({\n",
       "    features: ['conversation'],\n",
       "    num_rows: 1215\n",
       "})"
      ]
     },
     "execution_count": 148,
     "metadata": {},
     "output_type": "execute_result"
    }
   ],
   "source": [
    "culter_article_ds"
   ]
  },
  {
   "cell_type": "code",
   "execution_count": 149,
   "id": "8a629d12",
   "metadata": {},
   "outputs": [
    {
     "data": {
      "text/plain": [
       "[{'content': 'Generate a news article in Turkish about the following title:\\n\\nTitle:Abdalların efsane müzisyeni: Neşet Ertaş\\nLabels:abdal,Abdallar Köyü,Anadolu efsanesi,anma,Bozkırın tezenesi,Kırşehir,Neşet Ertaş,Vefat',\n",
       "  'role': 'user'},\n",
       " {'content': '#### \"Bozkırın Tezenesi\", \"Anadolu Efsanesi\" ve \"Abdal Müzisyen\" lakaplarıyla da müzik dünyasında tanınan halk ozanı, abdallık geleneğinin son temsilcilerinden Neşet Ertaş, yaşamı boyunca ürettiği unutulmaz eserleri Türk müziğine miras bıraktı.\\n###### İstanbul\\nTürküleri kendine has üslubuyla icra eden **Neşet Ertaş,** saz üstadı Muharrem Ertaş ile Döne Hanım\\'ın oğlu olarak Kırşehir\\'in Çiçekdağı ilçesine bağlı Abdallar (Kırtıllar) Köyü\\'nde 1938\\'de dünyaya geldi.\\n\\nBabası sayesinde müziğe ilgi duyan sanatçı, yaptığı bir açıklamada, o günleri, \"Düğünlerde kaşık tutamayan küçüklere zil verilirdi. Babam bana da zil vermişti. Ben aşağı yukarı 4-5 sene babamın yanında zil çaldım. Zille başladım, kaşık da tuttum sonunda. Eskiden saz neredeydi? Babalarımız bir saz bulursa, şükrederdik. Kırılınca yapıştırırlardı tutkalla öte yanını, beri yanını. Saz yoktu. Rahmetlik babam, 2-3 ay çıkar giderdi.\" sözleriyle anlatmıştı.\\n\\nErtaş, 12 yaşında annesini kaybetti. Çok küçük yaşta bağlama ve keman çalmayı öğrenen sanatçı, babasıyla 8 sene Kırşehir, Nevşehir, Niğde, Kırıkkale, Yozgat ve Kayseri\\'de köy köy gezerek düğünlerde sahne aldı.\\n\\n### Abdallar Topluluğu\\'nu kurdu\\nKırşehir\\'de kendisi gibi yetenekli müzisyenlerle Abdallar Topluluğu\\'nu kuran sanatçı, düğünlerde sazını çalmaya devam etti. Ertaş, çalıştığı için okula gidemedi, okumayı ağabeyi Necati Ertaş\\'tan öğrendi.\\n\\nBozlak türkülerini \"feryat\" diye tanımlayan Ertaş, 14 yaşında İstanbul\\'a gitti. Sanatçının, \"Aynı ruhun insanıyız.\" dediği babasıyla seslendirdiği \"Neden Garip Garip Ötersin Bülbül\" adlı ilk plağı 1957\\'nin sonunda yayımlandı.\\n\\nBabası tarafından sözleri yazılan ve İstanbul Şen Çalar Plak\\'tan çıkan bu çalışmasıyla halk tarafından yoğun ilgi gören Ertaş, geniş kitlelere ulaşmayı başardı.\\n\\nKendisi gibi müzisyenlerle köylerde, düğünlerde çalan sanatçı, gittiği bir köyde yazdığı ilk bestesinin hikayesini şu sözlerle anlatmıştı:\\n\\n\"Bir düğüne gittik. Düğünde çalgıcıları oda oda gezdirirlerdi. Gelen misafirler, akşam köyün odalarına dağılırdı. Odalardan birine vardım ki, içeride bir hasta yatıyordu. Bir kadın vardı yanında. Ben geri çıktım. Köyün kahyası dedi ki \\'Burada da çalacaksın.\\' Ben ne çalayım? Genç bir delikanlı yatıyor, bir de yaşlı anası var yanında. Ne çalıp söylediğimi bilmiyorum. O gece etkilendim o gençten. Geldim, oturdum, kendi kendime, \\'Anam ağlar başucumda, oturur\\'u yazdım. İlk bestem bu oldu. Ama benim yazdığımı uzun yıllar hiç kimseye söylemedim.\"\\n\\n### UNESCO tarafından \"Yaşayan insan hazinesi\" kabul edildi\\nİstanbul\\'dan ayrılarak Ankara\\'da sanat çalışmalarına devam eden sanatçı, çalıştığı gazinoda tanıştığı Leyla Hanım\\'la 1960\\'ta evlendi. Üç çocuk sahibi olan Ertaş çifti, 7 yıl sonra ayrıldı.\\n\\nSanatçı, ilk plağının ardından birçok plak ve kasete imza attı, \"Garip\" mahlasıyla kaleme aldığı şiirlerde kendi hayatını anlattı.\\n\\n\"Mahalli sanatçı\" unvanıyla Ankara TRT Radyo Evi\\'nde programlar yapan Ertaş, geçirdiği felç nedeniyle Almanya\\'ya giderek, tedavisine orada devam etti. Tedavisi olumlu sonuçlanan sanatçı, ara verdiği sanat hayatına 2000\\'de İstanbul konseriyle geri döndü.\\n\\nNeşet Ertaş, UNESCO tarafından Somut Olmayan Kültürel Mirasın Korunması Sözleşmesi kapsamında Yaşayan İnsan Hazineleri Türkiye Ulusal Envanteri\\'ne alınarak \"Yaşayan insan hazinesi\" kabul edildi.\\n\\nSüleyman Demirel\\'in Cumhurbaşkanlığı döneminde kendisine teklif edilen \"Devlet Sanatçısı\" unvanını reddeden sanatçı, bir röportajında \"Ne demek devlet sanatçılığı? Hepimiz bu devletin vatandaşı, bu memleketin sanatçısıyız. Ayrıca bir \\'devlet sanatçısı\\' ne demek? Ben burada bir \\'ayrım\\' gördüğüm için kabul etmedim.\" sözlerini kullanmıştı.\\n\\nEserlerinde Anadolu insanının acı ve kederini dile getirdiğini ifade eden Ertaş\\'a, İstanbul Teknik Üniversitesi Devlet Konservatuvarı tarafından 2011\\'de fahri doktora unvanı verildi. Aynı zamanda sanatçının bağlamadaki tavrı ve türküleri konservatuvarlarda ders olarak okutuldu.\\n\\n### 400\\'ten fazla plak çıkardı\\nYaşamı boyunca yaklaşık 400 plak, birçok kaset ve \"long play\"e imza atan Ertaş, 25 Eylül 2012\\'de prostat kanserine yenik düşerek, İzmir\\'de 74 yaşında vefat etti.\\n\\nBabası Muharrem Ertaş\\'la Kırşehir\\'de bir de anıtı bulunan usta sanatçının hayatı ve eserleri, Prof. Dr. Erol Parlak tarafından iki ciltlik bir kitap halinde yayımlandı.\\n\\nErtaş, kaleme aldığı \"Zahidem\" türküsünün hikayesini bir röportajında, \"Biz dedelerimizden beri düğünlerde çalıp söyleriz. 13-14 yaşındayken bizim Kırşehir\\'in Çiçekdağı kazasının bir köyündeki düğünde elime bir şiir yazılı kağıt verdiler. Sonradan öğrendiğime göre öksüz bir çocuk yazmış bu şiiri. Bu öksüz çocuğu bir aile evine almış, o da o evin kızına aşık olmuş. Kızın adı Zahide imiş. Çocuk askere gidince kızı başkasına vermişler. Ben bu dörtlükleri düzelttim. 45 yıl önce plağa okudum.\" ifadeleriyle anlatmıştı.\\n\\nUsta isim, \"Neredesin Sen?\"in hikayesi hakkında ise şunları ifade etmişti:\\n\\n\"1960\\'lı yıllarda TRT sanatçılarıyla Almanya\\'ya gitmiştim. Otomobilim vardı ama ne ehliyetim vardı ne de kullanmayı biliyordum. Bazıları dönünce mecburen ben kullandım otomobili. Dönüşte kaza yaptık. Beni cezaevine koydular. Üç ay hapis yattım. Kağıt-kalem de vermiyorlardı. Bu türkünün sözlerini sigara kağıtlarının üzerine kibrit çöpünün barutlu kısmını tükürükle ıslatarak yazdım.\"\\n\\nTürkülerinde yoğunlukla aşk temasını ele alan sanatçının bazı albümleri şöyle:\\n\\n\"Gönül Ne Gezersin Seyran Yerinde\", \"Kendim Ettim Kendim Buldum\", \"Kibar Kız\", \"Gel Gayri Gel\", \"Türküler Yolcu\", \"Gitme Leylam\", \"Kova Kova İndirdiler Yazıya\", \"Seher Vakti\", \"Polis Lojmanları\", \"Benim Yurdum\", \"Gönül Yarası\", \"Zülüf Dökülmüş Yüze\", \"Zahidem\", \"Gönül Dağı\", \"Ölmeyen Türküler 2\", \"Ölmeyen Türküler 3\", \"Sazlı Sözlü Oyun Havaları\", \"Niye Çattın Kaşlarını\", \"Yar Gönlünü Bilenlere\", \"Garibin Dünyada Yüzü Gülemez\", \"Altın Ezgiler\", \"Gurban Olduğum\", \"Ağla Sazım\", \"Hata Benim\", \"Mühür Gözlüm.\"\\n\\nAnadolu Ajansı web sitesinde, AA Haber Akış Sistemi (HAS) üzerinden abonelere sunulan haberler, özetlenerek yayımlanmaktadır.**Abonelik için lütfen iletişime geçiniz.**',\n",
       "  'role': 'assistant'}]"
      ]
     },
     "execution_count": 149,
     "metadata": {},
     "output_type": "execute_result"
    }
   ],
   "source": [
    "culter_article_ds['conversation'][0]"
   ]
  },
  {
   "cell_type": "code",
   "execution_count": 150,
   "id": "ed0d45f5",
   "metadata": {},
   "outputs": [],
   "source": [
    "sys_prompt = \"Your are a helpful assistant. Generate a news article in Turkish about the given title and labels\""
   ]
  },
  {
   "cell_type": "code",
   "execution_count": 144,
   "id": "67a649bf",
   "metadata": {},
   "outputs": [
    {
     "data": {
      "application/vnd.jupyter.widget-view+json": {
       "model_id": "caf5ada75bab4906857e9e68bcfcd90b",
       "version_major": 2,
       "version_minor": 0
      },
      "text/plain": [
       "Map:   0%|          | 0/4000 [00:00<?, ? examples/s]"
      ]
     },
     "metadata": {},
     "output_type": "display_data"
    }
   ],
   "source": [
    "culter_article_chat_ds = culter_tr.shuffle(547).take(4000).map(\n",
    "    lambda x: {\n",
    "        'conversation':[ [{'role': 'system', 'content': sys_prompt}] + \n",
    "        [item for i in range(len(x['Title'])) for item in [\n",
    "            {'role': 'user', 'content': f\"Başlık: {x['Title'][i]}\\nEtiketler: {x['Labels'][i]}\"}, \n",
    "            {'role': 'assistant', 'content': x['Text'][i]}\n",
    "        ]]\n",
    "        ]\n",
    "    },\n",
    "    remove_columns=culter_tr.column_names, \n",
    "    batched=True, \n",
    "    batch_size=2\n",
    ")"
   ]
  },
  {
   "cell_type": "code",
   "execution_count": 145,
   "id": "b702d12e",
   "metadata": {},
   "outputs": [
    {
     "data": {
      "text/plain": [
       "Dataset({\n",
       "    features: ['conversation'],\n",
       "    num_rows: 2000\n",
       "})"
      ]
     },
     "execution_count": 145,
     "metadata": {},
     "output_type": "execute_result"
    }
   ],
   "source": [
    "culter_article_chat_ds"
   ]
  },
  {
   "cell_type": "code",
   "execution_count": 129,
   "id": "3cb3d97d",
   "metadata": {},
   "outputs": [
    {
     "data": {
      "text/plain": [
       "{'conversation': [{'content': 'Your are a helpful assistant. Generate a news article in Turkish about the given title and labels',\n",
       "   'role': 'system'},\n",
       "  {'content': 'Başlık: Bu hafta 7 film vizyona girecek\\nEtiketler: sinema',\n",
       "   'role': 'user'},\n",
       "  {'content': 'Bu hafta 2\\'si yerli 7 film vizyona girecek.\\n\\nÖdüllü yönetmen Spike Jonze\\'un, Altın Küre\\'den \"En iyi Senaryo\", Amerikan Film Enstitüsü\\'nden (AFI) \"En İyi Film\" ödülleri kazanan uzun metrajlı filmi \"Aşk\", izleyici ile buluşuyor.\\n\\nYalnızlık ve yaratıcılık sıkıntısı çeken bir yazarın dram ve komediyle yoğrulan öyküsünü beyaz perdeye taşıyan filmin başrolünde Joaquin Phoenix yer alırken, Scarlett Johansson da gizemli bilgisayar uygulamasına sesiyle hayat veriyor.\\n\\n**\"Vampir Akademisi\"**\\n\\nVampir filmi hayranları tarafından merakla beklenen \"Vampir Akademisi\" filmi, 35 ülkede çok satanlar listesinde uzun süre yerini koruyan altılı seri \"Vampir Akademisi\"nin sinemaya uyarlanan ilk bölümü. Tüm dünyada 14 Şubat\\'ta vizyona girecek olan filmin sonraki bölümlerinin de 14 Şubat tarihlerinde vizyona girmesi planlanıyor.\\n\\n\"Harry Potter\" ve \"Alacakaranlık\" serilerinden sonra büyük beğeni toplaması beklenen filmin yönetmen koltuğunda Mark Waters oturuyor. Zoey Deutch, Lucy Fry ve Sarah Hyland gibi oyuncuların rol aldığı film, Aziz Vladimir Akademisi\\'nde öğrenim gören yarı vampir, yarı insan Rose Hathaway ile genç vampirlerin yaşadıkları büyüme sürecini anlatıyor.\\n\\n**\"Balayı\" **\\n\\nKoray Baliç\\'in yönetmenliğini yaptığı \"Balayı\" filminde, Seda Tosun, Emre Kılıç ve Bertan Ceylan gibi oyuncular rol alıyor.\\n\\nGerilimsevenleri sinema salonlarına çekmeyi hedefleyen filmin konusu şöyle:\\n\\n\"Ülkenin en zengin iş adamlarından biri olan Uğur, çok ünlü bir oyuncu olan eşi Gül\\'ü, sürpriz balayı için Kaleköy\\'e götürür. Uğur, Gül\\'le baş başa kalmak için ise köylüleri köyden göndermiştir. Balayından bir hafta önce tanışıp, yıldırım nikahı ile evlenen çift, günler geçtikçe ilişkileri ile ilgili bir hesaplaşmanın içine girerler. Uğur\\'a göre Gül, dilinin altında bir bakla saklıyor gibidir. Zaman geçtikçe çiftin arasındaki bu gerilimli durum çözülmez ve Uğur bu saklı olanı ortaya çıkardığında kıyamet kopar.\"\\n\\n**\"Bi Küçük Eylül Meselesi\"**\\n\\nKerem Deren\\'in yönetmen koltuğunda oturduğu \"Bi Küçük Eylül Meselesi\"nin başrollerini Farah Zeynep Abdullah ile Engin Akyürek paylaşıyor.\\n\\nBozcaada\\'nın büyüleyici atmosferinde geçen çarpıcı bir aşk hikayesini beyaz perdeye taşıyan film, ezber bozan kurgusuyla sinemaseverleri şaşırtacak.\\n\\nFilm, İstanbul\\'un en popüler semtlerinden birinde yetişmiş Eylül ile Bozcaada\\'nın huzurlu ve sakin ortamında kendi halinde yaşayan Tekin\\'in tesadüflerle başlayan sıra dışı birlikteliklerini konu alıyor.\\n\\n**\"RoboCop\"**\\n\\nJose Padilha\\'nın yönetmenliğini yaptığı \"RoboCop\"un oyuncu kadrosunda, Joel Kinnaman, Gary Oldman ve Michael Keaton dikkat çekiyor.\\n\\nBilimkurgu sevenlerin ilgisini çekmesi beklenen filmin konusu, şöyle:\\n\\n\"2028 yılında, robot teknolojisinde dünya lideri olan OmniCorp, her şehirde bir RoboCop hayal etmektedir ve programın başarılı olması için engel tanımayacaktır. Fakat o makinenin içinde, hala adalet için savaşan bir insan vardır.\"\\n\\n**\"Sadece Aşıklar Hayatta Kalır\"**\\n\\nBaşrollerde Tom Hiddleston ile Tilda Swinton\\'ın yer aldığı \"Sadece Aşıklar Hayatta Kalır\"ın yönetmenliği ve senaryosu Amerikan bağımsız sinemasının başarılı ismi Jim Jarmusch\\'a ait.\\n\\nMia Wasikowska, John Hurt ve Anton Yelchin gibi önemli isimlerin de rol aldığı filmde, çok bilinmeyen genelde yeraltı camiasının tanıdığı bir müzisyen olan vampir Adam ile kendisi gibi vampir olan sevgilisi Eve\\'in tükenmeyen aşkları ve Eve\\'in küçük kız kardeşi Ava\\'nın bu aşkı sekteye uğratması konu alınıyor.\\n\\n**\"Sonsuz Aşk\"**\\n\\n\"Sonsuz Aşk\"ın başrollerini genç oyuncular Alex Pettyfer ve Gabriella Wilde paylaşıyor.\\n\\nShana Feste\\'in yönetmenliğini yaptığı film, David ve Jade isimli iki gencin, sınırları zorlayan aşk hikayesini, aşklarına sahip çıkmak uğruna yaşadıkları sıkıntıları ve karşılarına çıkan engelleri anlatıyor.\\n\\nMuhabir: Hilal Uştuk\\n\\nAnadolu Ajansı web sitesinde, AA Haber Akış Sistemi (HAS) üzerinden abonelere sunulan haberler, özetlenerek yayımlanmaktadır.**Abonelik için lütfen iletişime geçiniz.**',\n",
       "   'role': 'assistant'},\n",
       "  {'content': \"Başlık: 'Usta' Kosova'da seyirciyle buluştu\\nEtiketler: 2. Abdülhamit,Kosova\",\n",
       "   'role': 'user'},\n",
       "  {'content': '**Sultan 2. Abdülhamid Han**’ın hayatını anlatan \"**Usta** \" isimli tiyatro oyunu **Kosova** \\'nın güneybatısındaki Prizren kentinde sahnelendi.\\n\\nTürk İşbirliği ve Koordinasyon Ajansı Başkanlığı (TİKA) himayesinde, Makedonya Türk Sivil Toplum Teşkilatları Birliği (MATÜSİTEB) iş birliğinde Prizren Kültür Evi salonunda düzenlenen tiyatro oyununa Türk Temsil Heyet Başkanı Albay Numan Baş, TİKA Priştine Koordinatörü Hasan Burak Ceran ve çok sayıda davetli katıldı.\\n\\nSultan 2. Abdülhamid Han’ın gençlik günlerinden başlayıp son günlerine kadar olan dönemi baba-kız ilişkisi üzerinden anlatan ve yer yer duygusal anların yaşandığı oyun seyircilerden tam not aldı.\\n\\nSultan İkinci Abdülhamid Han’ı canlandıran tiyatro sanatçısı Rıdvan Dağlar, gazetecilere yaptığı açıklamada, 100 yıl önce gerçekleştirilen tarihi bir olaya ayna tutmak için yola çıktıklarını belirterek, \"Kosova\\'ya gelmekten dolayı çok mutluyuz. Çok sıcakkanlı ve misafirperver karşılandık. Kosovalılar ile bir arada olmak bizleri ziyadesiyle mutlu etti.\" dedi.\\n\\nTiyatro sanatçısı Zülfü Demirtaş ise Evlad-ı Fatihan olarak nitelendirdikleri, İstanbul fetih edilmeden önce yurtları, beldeleri olan Kosova’ya gelmenin kendileri için ayrı bir duygu olduğunu söyledi.\\n\\nSinema, dizi ve tiyatro oyuncusu Ahmet Yenilmez\\'in yazıp yönettiği oyun, Kosova’nın ardından 26 Haziran’da Kuzey Makedonya’nın başkenti Üsküp’te seyirciyle buluşacak.\\n\\nAnadolu Ajansı web sitesinde, AA Haber Akış Sistemi (HAS) üzerinden abonelere sunulan haberler, özetlenerek yayımlanmaktadır.**Abonelik için lütfen iletişime geçiniz.**',\n",
       "   'role': 'assistant'},\n",
       "  {'content': \"Başlık: Video: 'Trenlerin kralı, kralların treni': Adı İstanbul ile anılan ünlü Şark Ekspresi\\nEtiketler: Seyahat,Kültürel miras,tren\",\n",
       "   'role': 'user'},\n",
       "  {'content': 'Lüks tren yolculuğunun sembol ismi Şark Ekspresi bugün seferlerini yapmasa da bu tarihin bir çok önemli anına tanıklık etmiş ve bir çok önemli ismini tanımış tren Avrupa\\'nın çeşitli noktalarında gezici bir müze gibi sergileniyor\\n\\nLüks tren yolculuğunun sembol ismi Şark Ekspresi bugün seferlerini yapmasa da bu tarihin bir çok önemli anına tanıklık etmiş ve birçok önemli ismini tanımış tren Avrupa\\'nın çeşitli noktalarında gezici bir müze gibi sergileniyor.\\n\\nŞark Ekspresi\\'nin son durağı Avrupa Kültürel Miras Günleri kapmasında Fransa\\'nın Lyon şehri oldu.\\n\\nİlk yolculuğuna 1883 yılında Paris\\'ten başlayan Şark Ekspresi Avrupa\\'yı bir baştan bir başa kat ederek 80 saatte İstanbul\\'a ulaştı. Bu hat yaklaşık 100 yıl boyunca uzun mesafeli lüks yolculuklarda bir devrimi gerçekleştirdi.\\n\\n1900\\'lü yılların başlarında en şaşaalı günlerini yaşayan Şark Ekspresi iki dünya savaşı nedeniyle seferlerine ara verse de savaşın ardından yolculuğuna devam etti.\\n\\nFakat Birinci Dünya Savaşı\\'ndan sonra Simplon Şark Ekspresi adıyla Almanya ve Avusturya duraklarını iptal ederek haftanın her günü Paris, Lozan, Milano, Venedik, Belgrad üzerinden İstanbul\\'a seferlerini sürdürdü.\\n\\n1930\\'larda ise Şark Ekspresi eski hattı olan Paris, Strazburg, Munih, Viyana, Budapeşte, Belgrad ve İstanbul\\'a haftanın üç günü sefer yapmaya başladı.\\n\\n1977\\'de tamamen sonlandırılan Şark Ekspresi\\'nin vagonları farkı şirketler tarafından satın alındı. 2014 yılında Fransız Devlet Demiryolları şirketi SNCF bu vagonlarda bir kısmını alarak bu kültürel mirası yaşatma kararı aldı.\\n\\nŞark Ekspresi Kültürel Mirası Direktörü Arthur Mettetal Mata Hari, Josephine Baker, Bulgaristan Kralı ve Belçika Kralı gibi ünlü isimlerin bu trende ağırlandığını belirterek bu sayede Şark Ekspresi\\'nin etrafında biraz gerçeklerle biraz da abartıyla karışık bir çekicilik oluştuğunu vurguladı.\\n\\nMattetal ayrıca Oryantalizmin yükselişine denk gelen on dokuzuncu yüzyılın sonlarında son durağının İstanbul olmasının da Şark Ekspresi mitine katkıda bulunduğunu belirtti.\\n\\nÜnlü İngiliz polisiye roman yazarı Agatha Christie\\'nin 1934 yılında yayınlanan Şark Ekspresi\\'nde Cinayet romanı da \"trenlerin kralı, kralların treni\" algısının yükselmesini sağladı.',\n",
       "   'role': 'assistant'}]}"
      ]
     },
     "execution_count": 129,
     "metadata": {},
     "output_type": "execute_result"
    }
   ],
   "source": [
    "culter_article_chat_ds[0]"
   ]
  },
  {
   "cell_type": "markdown",
   "id": "98ab2a23",
   "metadata": {},
   "source": [
    "## Generate Summary Dataset"
   ]
  },
  {
   "cell_type": "code",
   "execution_count": 151,
   "id": "a13eda09",
   "metadata": {},
   "outputs": [],
   "source": [
    "prompt = \"Generate a summary in Turkish language for a given article in Turkish.\\n\\nArticle:\\n\""
   ]
  },
  {
   "cell_type": "code",
   "execution_count": 152,
   "id": "cee2a11a",
   "metadata": {},
   "outputs": [],
   "source": [
    "import re\n",
    "def generate_article(example):\n",
    "    text = example['Text'].replace(example['Summary'],'')\n",
    "    text = re.sub(r'^[#\\s]+', '', text) # remove leading # and spaces\n",
    "    return {'conversation': [{'role':'user', 'content': prompt+text}, {'role':'assistant', 'content': example['Summary']}]}"
   ]
  },
  {
   "cell_type": "code",
   "execution_count": 156,
   "id": "f5c55246",
   "metadata": {},
   "outputs": [
    {
     "data": {
      "application/vnd.jupyter.widget-view+json": {
       "model_id": "8fd1924793d94f578a9ccd51aa61ddde",
       "version_major": 2,
       "version_minor": 0
      },
      "text/plain": [
       "Map:   0%|          | 0/5215 [00:00<?, ? examples/s]"
      ]
     },
     "metadata": {},
     "output_type": "display_data"
    }
   ],
   "source": [
    "news_summary_ds = culter_tr.map(generate_article, remove_columns=culter_tr.column_names)"
   ]
  },
  {
   "cell_type": "code",
   "execution_count": 157,
   "id": "1df69107",
   "metadata": {},
   "outputs": [
    {
     "data": {
      "text/plain": [
       "Dataset({\n",
       "    features: ['conversation'],\n",
       "    num_rows: 5215\n",
       "})"
      ]
     },
     "execution_count": 157,
     "metadata": {},
     "output_type": "execute_result"
    }
   ],
   "source": [
    "news_summary_ds"
   ]
  },
  {
   "cell_type": "markdown",
   "id": "fd5562fe",
   "metadata": {},
   "source": [
    "## Generate Final Dataset"
   ]
  },
  {
   "cell_type": "code",
   "execution_count": 158,
   "id": "14906060",
   "metadata": {},
   "outputs": [],
   "source": [
    "tur_news_ds = concatenate_datasets([culter_article_ds, culter_article_chat_ds, news_summary_ds])"
   ]
  },
  {
   "cell_type": "code",
   "execution_count": 159,
   "id": "2c568ebc",
   "metadata": {},
   "outputs": [
    {
     "data": {
      "text/plain": [
       "Dataset({\n",
       "    features: ['conversation'],\n",
       "    num_rows: 8430\n",
       "})"
      ]
     },
     "execution_count": 159,
     "metadata": {},
     "output_type": "execute_result"
    }
   ],
   "source": [
    "tur_news_ds"
   ]
  },
  {
   "cell_type": "code",
   "execution_count": null,
   "id": "ac976c60",
   "metadata": {},
   "outputs": [
    {
     "data": {
      "application/vnd.jupyter.widget-view+json": {
       "model_id": "e01eb510e0494f518536a9018529573c",
       "version_major": 2,
       "version_minor": 0
      },
      "text/plain": [
       "Uploading the dataset shards:   0%|          | 0/1 [00:00<?, ?it/s]"
      ]
     },
     "metadata": {},
     "output_type": "display_data"
    },
    {
     "data": {
      "application/vnd.jupyter.widget-view+json": {
       "model_id": "84733b2ae10c4bce97a3c184a991f7bd",
       "version_major": 2,
       "version_minor": 0
      },
      "text/plain": [
       "Creating parquet from Arrow format:   0%|          | 0/9 [00:00<?, ?ba/s]"
      ]
     },
     "metadata": {},
     "output_type": "display_data"
    },
    {
     "name": "stderr",
     "output_type": "stream",
     "text": [
      "Uploading files as a binary IO buffer is not supported by Xet Storage. Falling back to HTTP upload.\n"
     ]
    },
    {
     "data": {
      "text/plain": [
       "CommitInfo(commit_url='https://huggingface.co/datasets/habanoz/cultur_articles_tr/commit/20fa21894e96204cfeff9f29008a404cbdeeb747', commit_message='Upload dataset', commit_description='', oid='20fa21894e96204cfeff9f29008a404cbdeeb747', pr_url=None, repo_url=RepoUrl('https://huggingface.co/datasets/habanoz/cultur_articles_tr', endpoint='https://huggingface.co', repo_type='dataset', repo_id='habanoz/cultur_articles_tr'), pr_revision=None, pr_num=None)"
      ]
     },
     "execution_count": 160,
     "metadata": {},
     "output_type": "execute_result"
    }
   ],
   "source": [
    "tur_news_ds.push_to_hub(\"habanoz/cultur_articles_tr\", private=False, token=\"xxx\")"
   ]
  },
  {
   "cell_type": "code",
   "execution_count": null,
   "id": "e10a8cbe",
   "metadata": {},
   "outputs": [],
   "source": []
  }
 ],
 "metadata": {
  "kernelspec": {
   "display_name": "myenv",
   "language": "python",
   "name": "python3"
  },
  "language_info": {
   "codemirror_mode": {
    "name": "ipython",
    "version": 3
   },
   "file_extension": ".py",
   "mimetype": "text/x-python",
   "name": "python",
   "nbconvert_exporter": "python",
   "pygments_lexer": "ipython3",
   "version": "3.11.9"
  }
 },
 "nbformat": 4,
 "nbformat_minor": 5
}
