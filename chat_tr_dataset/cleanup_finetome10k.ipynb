{
 "cells": [
  {
   "cell_type": "code",
   "execution_count": null,
   "id": "a4e6b1cc",
   "metadata": {},
   "outputs": [
    {
     "name": "stdout",
     "output_type": "stream",
     "text": [
      "Requirement already satisfied: datasketch in /home/melek/miniconda3/envs/myenv/lib/python3.11/site-packages (1.6.5)\n",
      "Requirement already satisfied: datasets in /home/melek/miniconda3/envs/myenv/lib/python3.11/site-packages (2.20.0)\n",
      "Requirement already satisfied: numpy>=1.11 in /home/melek/miniconda3/envs/myenv/lib/python3.11/site-packages (from datasketch) (1.26.4)\n",
      "Requirement already satisfied: scipy>=1.0.0 in /home/melek/miniconda3/envs/myenv/lib/python3.11/site-packages (from datasketch) (1.13.1)\n",
      "Requirement already satisfied: filelock in /home/melek/miniconda3/envs/myenv/lib/python3.11/site-packages (from datasets) (3.14.0)\n",
      "Requirement already satisfied: pyarrow>=15.0.0 in /home/melek/miniconda3/envs/myenv/lib/python3.11/site-packages (from datasets) (16.1.0)\n",
      "Requirement already satisfied: pyarrow-hotfix in /home/melek/miniconda3/envs/myenv/lib/python3.11/site-packages (from datasets) (0.6)\n",
      "Requirement already satisfied: dill<0.3.9,>=0.3.0 in /home/melek/miniconda3/envs/myenv/lib/python3.11/site-packages (from datasets) (0.3.8)\n",
      "Requirement already satisfied: pandas in /home/melek/miniconda3/envs/myenv/lib/python3.11/site-packages (from datasets) (2.2.2)\n",
      "Requirement already satisfied: requests>=2.32.2 in /home/melek/miniconda3/envs/myenv/lib/python3.11/site-packages (from datasets) (2.32.3)\n",
      "Requirement already satisfied: tqdm>=4.66.3 in /home/melek/miniconda3/envs/myenv/lib/python3.11/site-packages (from datasets) (4.66.4)\n",
      "Requirement already satisfied: xxhash in /home/melek/miniconda3/envs/myenv/lib/python3.11/site-packages (from datasets) (3.5.0)\n",
      "Requirement already satisfied: multiprocess in /home/melek/miniconda3/envs/myenv/lib/python3.11/site-packages (from datasets) (0.70.16)\n",
      "Requirement already satisfied: fsspec<=2024.5.0,>=2023.1.0 in /home/melek/miniconda3/envs/myenv/lib/python3.11/site-packages (from fsspec[http]<=2024.5.0,>=2023.1.0->datasets) (2024.5.0)\n",
      "Requirement already satisfied: aiohttp in /home/melek/miniconda3/envs/myenv/lib/python3.11/site-packages (from datasets) (3.9.5)\n",
      "Requirement already satisfied: huggingface-hub>=0.21.2 in /home/melek/miniconda3/envs/myenv/lib/python3.11/site-packages (from datasets) (0.34.4)\n",
      "Requirement already satisfied: packaging in /home/melek/miniconda3/envs/myenv/lib/python3.11/site-packages (from datasets) (23.2)\n",
      "Requirement already satisfied: pyyaml>=5.1 in /home/melek/miniconda3/envs/myenv/lib/python3.11/site-packages (from datasets) (6.0.1)\n",
      "Requirement already satisfied: aiosignal>=1.1.2 in /home/melek/miniconda3/envs/myenv/lib/python3.11/site-packages (from aiohttp->datasets) (1.3.1)\n",
      "Requirement already satisfied: attrs>=17.3.0 in /home/melek/miniconda3/envs/myenv/lib/python3.11/site-packages (from aiohttp->datasets) (23.2.0)\n",
      "Requirement already satisfied: frozenlist>=1.1.1 in /home/melek/miniconda3/envs/myenv/lib/python3.11/site-packages (from aiohttp->datasets) (1.4.1)\n",
      "Requirement already satisfied: multidict<7.0,>=4.5 in /home/melek/miniconda3/envs/myenv/lib/python3.11/site-packages (from aiohttp->datasets) (6.0.5)\n",
      "Requirement already satisfied: yarl<2.0,>=1.0 in /home/melek/miniconda3/envs/myenv/lib/python3.11/site-packages (from aiohttp->datasets) (1.9.4)\n",
      "Requirement already satisfied: typing-extensions>=3.7.4.3 in /home/melek/miniconda3/envs/myenv/lib/python3.11/site-packages (from huggingface-hub>=0.21.2->datasets) (4.14.1)\n",
      "Requirement already satisfied: hf-xet<2.0.0,>=1.1.3 in /home/melek/miniconda3/envs/myenv/lib/python3.11/site-packages (from huggingface-hub>=0.21.2->datasets) (1.1.8)\n",
      "Requirement already satisfied: charset-normalizer<4,>=2 in /home/melek/miniconda3/envs/myenv/lib/python3.11/site-packages (from requests>=2.32.2->datasets) (3.3.2)\n",
      "Requirement already satisfied: idna<4,>=2.5 in /home/melek/miniconda3/envs/myenv/lib/python3.11/site-packages (from requests>=2.32.2->datasets) (3.7)\n",
      "Requirement already satisfied: urllib3<3,>=1.21.1 in /home/melek/miniconda3/envs/myenv/lib/python3.11/site-packages (from requests>=2.32.2->datasets) (2.2.1)\n",
      "Requirement already satisfied: certifi>=2017.4.17 in /home/melek/miniconda3/envs/myenv/lib/python3.11/site-packages (from requests>=2.32.2->datasets) (2024.2.2)\n",
      "Requirement already satisfied: python-dateutil>=2.8.2 in /home/melek/miniconda3/envs/myenv/lib/python3.11/site-packages (from pandas->datasets) (2.9.0)\n",
      "Requirement already satisfied: pytz>=2020.1 in /home/melek/miniconda3/envs/myenv/lib/python3.11/site-packages (from pandas->datasets) (2024.1)\n",
      "Requirement already satisfied: tzdata>=2022.7 in /home/melek/miniconda3/envs/myenv/lib/python3.11/site-packages (from pandas->datasets) (2024.1)\n",
      "Requirement already satisfied: six>=1.5 in /home/melek/miniconda3/envs/myenv/lib/python3.11/site-packages (from python-dateutil>=2.8.2->pandas->datasets) (1.16.0)\n"
     ]
    }
   ],
   "source": [
    "!pip install datasets"
   ]
  },
  {
   "cell_type": "markdown",
   "id": "1960bceb",
   "metadata": {},
   "source": [
    "## Load Dataset"
   ]
  },
  {
   "cell_type": "code",
   "execution_count": 1,
   "id": "14460ffd",
   "metadata": {},
   "outputs": [],
   "source": [
    "from datasets import load_dataset, Dataset"
   ]
  },
  {
   "cell_type": "code",
   "execution_count": 2,
   "id": "768e9909",
   "metadata": {},
   "outputs": [
    {
     "data": {
      "application/vnd.jupyter.widget-view+json": {
       "model_id": "d5a831b9591e482487c814ef79cacd74",
       "version_major": 2,
       "version_minor": 0
      },
      "text/plain": [
       "Downloading readme:   0%|          | 0.00/439 [00:00<?, ?B/s]"
      ]
     },
     "metadata": {},
     "output_type": "display_data"
    },
    {
     "data": {
      "application/vnd.jupyter.widget-view+json": {
       "model_id": "87e7a08a982340e99f3d622a23558cf8",
       "version_major": 2,
       "version_minor": 0
      },
      "text/plain": [
       "Downloading data:   0%|          | 0.00/116M [00:00<?, ?B/s]"
      ]
     },
     "metadata": {},
     "output_type": "display_data"
    },
    {
     "data": {
      "application/vnd.jupyter.widget-view+json": {
       "model_id": "ed1039bb801a4c349d6076339ee22db8",
       "version_major": 2,
       "version_minor": 0
      },
      "text/plain": [
       "Generating train split:   0%|          | 0/99523 [00:00<?, ? examples/s]"
      ]
     },
     "metadata": {},
     "output_type": "display_data"
    }
   ],
   "source": [
    "\n",
    "ds = load_dataset(\"mlabonne/FineTome-100k-dedup\")['train']"
   ]
  },
  {
   "cell_type": "code",
   "execution_count": 6,
   "id": "9c01e4e3",
   "metadata": {},
   "outputs": [],
   "source": [
    "ds = ds.shuffle(seed=42).select(range(10000))  # take a subset for faster processing"
   ]
  },
  {
   "cell_type": "code",
   "execution_count": 8,
   "id": "3b112609",
   "metadata": {},
   "outputs": [
    {
     "data": {
      "application/vnd.jupyter.widget-view+json": {
       "model_id": "dfc9d5f779454c3fa6992787a3ef54d2",
       "version_major": 2,
       "version_minor": 0
      },
      "text/plain": [
       "Map:   0%|          | 0/10000 [00:00<?, ? examples/s]"
      ]
     },
     "metadata": {},
     "output_type": "display_data"
    }
   ],
   "source": [
    "ds = ds.map(lambda x: {'conversations':  [ {'role':'user' if msg['from']=='human' else 'assistant' if msg['from']=='gpt' else msg['from'], 'content': msg['value']} for msg in x['conversations']]})  # remove any turn data except role and content"
   ]
  },
  {
   "cell_type": "markdown",
   "id": "ea436d4f",
   "metadata": {},
   "source": [
    "## Anonymize PII Data"
   ]
  },
  {
   "cell_type": "code",
   "execution_count": null,
   "id": "10c6707a",
   "metadata": {},
   "outputs": [],
   "source": [
    "import re\n",
    "\n",
    "patterns = {\n",
    "    \"EMAIL\": r\"\\b[A-Za-z0-9._%+-]+@[A-Za-z0-9.-]+\\.[A-Za-z]{2,}\\b\",\n",
    "    \"PHONE\": r\"(?:\\+?\\d{1,3}[-.\\s]?)?(?:\\(?\\d{2,4}\\)?[-.\\s]?)?\\d{3,4}[-.\\s]?\\d{4}\",\n",
    "    \"CREDIT_CARD\": r\"\\b(?:\\d[ -]*?){13,19}\\b\",\n",
    "    \"SSN\": r\"\\b\\d{3}-\\d{2}-\\d{4}\\b\",\n",
    "    \"IP\": r\"\\b(?:\\d{1,3}\\.){3}\\d{1,3}\\b\",\n",
    "}\n",
    "\n",
    "anonymized = {\n",
    "    \"EMAIL\" : \"someone@gmail.com\",\n",
    "    \"PHONE\": \"+90 555 555 5555\",\n",
    "    \"CREDIT_CARD\": \"4111 1111 1111 1111\",\n",
    "    \"SSN\": \"000-00-0000\",\n",
    "    \"IP\": \"192.168.1.0\"\n",
    "}\n",
    "\n",
    "n_cleaned = 0\n",
    "\n",
    "def redact_pii(text):\n",
    "    global n_cleaned\n",
    "    for label, pattern in patterns.items():\n",
    "        clean_text = re.sub(pattern, f\"<{anonymized[label]}>\", text, flags=re.IGNORECASE)\n",
    "    n_cleaned += (text != clean_text)\n",
    "    return clean_text\n",
    "\n",
    "def redact_chat(conversation):\n",
    "    for con in conversation:\n",
    "        con['content'] = redact_pii(con['content'])\n",
    "    return conversation"
   ]
  },
  {
   "cell_type": "code",
   "execution_count": 12,
   "id": "384d2a7e",
   "metadata": {},
   "outputs": [
    {
     "data": {
      "application/vnd.jupyter.widget-view+json": {
       "model_id": "c2252ba167584c289de846dbab693140",
       "version_major": 2,
       "version_minor": 0
      },
      "text/plain": [
       "Map:   0%|          | 0/10000 [00:00<?, ? examples/s]"
      ]
     },
     "metadata": {},
     "output_type": "display_data"
    }
   ],
   "source": [
    "ds_no_pii = ds.map(lambda x: {'conversations': redact_chat(x['conversations'])})"
   ]
  },
  {
   "cell_type": "code",
   "execution_count": 13,
   "id": "e4408cde",
   "metadata": {},
   "outputs": [
    {
     "data": {
      "text/plain": [
       "6"
      ]
     },
     "execution_count": 13,
     "metadata": {},
     "output_type": "execute_result"
    }
   ],
   "source": [
    "n_cleaned"
   ]
  },
  {
   "cell_type": "markdown",
   "id": "a86b7ca0",
   "metadata": {},
   "source": [
    "## Save Clean Data"
   ]
  },
  {
   "cell_type": "code",
   "execution_count": 15,
   "id": "27ee1157",
   "metadata": {},
   "outputs": [],
   "source": [
    "final_ds= ds_no_pii"
   ]
  },
  {
   "cell_type": "code",
   "execution_count": 18,
   "id": "8695ecfc",
   "metadata": {},
   "outputs": [],
   "source": [
    "final_ds = final_ds.remove_columns(['source', 'score'])"
   ]
  },
  {
   "cell_type": "code",
   "execution_count": 19,
   "id": "255812f0",
   "metadata": {},
   "outputs": [
    {
     "data": {
      "application/vnd.jupyter.widget-view+json": {
       "model_id": "670222fe3d54498480868ec5f707cf93",
       "version_major": 2,
       "version_minor": 0
      },
      "text/plain": [
       "Uploading the dataset shards:   0%|          | 0/1 [00:00<?, ?it/s]"
      ]
     },
     "metadata": {},
     "output_type": "display_data"
    },
    {
     "data": {
      "application/vnd.jupyter.widget-view+json": {
       "model_id": "558243be8719437498c4e38b21c3c4af",
       "version_major": 2,
       "version_minor": 0
      },
      "text/plain": [
       "Creating parquet from Arrow format:   0%|          | 0/10 [00:00<?, ?ba/s]"
      ]
     },
     "metadata": {},
     "output_type": "display_data"
    },
    {
     "name": "stderr",
     "output_type": "stream",
     "text": [
      "Uploading files as a binary IO buffer is not supported by Xet Storage. Falling back to HTTP upload.\n"
     ]
    },
    {
     "data": {
      "text/plain": [
       "CommitInfo(commit_url='https://huggingface.co/datasets/habanoz/FineTome-10k-dedup-clean/commit/55d3724c9f624ac9896aa2cd7b8f528adac921fe', commit_message='Upload dataset', commit_description='', oid='55d3724c9f624ac9896aa2cd7b8f528adac921fe', pr_url=None, repo_url=RepoUrl('https://huggingface.co/datasets/habanoz/FineTome-10k-dedup-clean', endpoint='https://huggingface.co', repo_type='dataset', repo_id='habanoz/FineTome-10k-dedup-clean'), pr_revision=None, pr_num=None)"
      ]
     },
     "execution_count": 19,
     "metadata": {},
     "output_type": "execute_result"
    }
   ],
   "source": [
    "final_ds.push_to_hub(\"habanoz/FineTome-10k-dedup-clean\", private=False, token=\"xxxx\")"
   ]
  },
  {
   "cell_type": "code",
   "execution_count": null,
   "id": "c1b7676d",
   "metadata": {},
   "outputs": [],
   "source": []
  }
 ],
 "metadata": {
  "kernelspec": {
   "display_name": "myenv",
   "language": "python",
   "name": "python3"
  },
  "language_info": {
   "codemirror_mode": {
    "name": "ipython",
    "version": 3
   },
   "file_extension": ".py",
   "mimetype": "text/x-python",
   "name": "python",
   "nbconvert_exporter": "python",
   "pygments_lexer": "ipython3",
   "version": "3.11.9"
  }
 },
 "nbformat": 4,
 "nbformat_minor": 5
}
