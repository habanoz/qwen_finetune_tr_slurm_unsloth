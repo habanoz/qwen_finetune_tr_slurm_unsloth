{
 "cells": [
  {
   "cell_type": "markdown",
   "id": "c13003ec",
   "metadata": {},
   "source": [
    "## Generate Planning Data"
   ]
  },
  {
   "cell_type": "markdown",
   "id": "e59fe5fc",
   "metadata": {},
   "source": [
    "### Load Json Document"
   ]
  },
  {
   "cell_type": "code",
   "execution_count": 6,
   "id": "057613b5",
   "metadata": {},
   "outputs": [],
   "source": [
    "import json\n",
    "from datasets import load_dataset, Dataset"
   ]
  },
  {
   "cell_type": "code",
   "execution_count": 4,
   "id": "836d0ccf",
   "metadata": {},
   "outputs": [],
   "source": [
    "with open('planning_data.json', 'r') as f:\n",
    "    data = json.load(f)"
   ]
  },
  {
   "cell_type": "code",
   "execution_count": 5,
   "id": "67ed4eaf",
   "metadata": {},
   "outputs": [
    {
     "data": {
      "text/plain": [
       "896"
      ]
     },
     "execution_count": 5,
     "metadata": {},
     "output_type": "execute_result"
    }
   ],
   "source": [
    "len(data)"
   ]
  },
  {
   "cell_type": "code",
   "execution_count": 15,
   "id": "5ddafc98",
   "metadata": {},
   "outputs": [],
   "source": [
    "system_prompt_en = open(\"system_prompt_en.txt\", \"r\").read()\n",
    "system_prompt_tr = open(\"system_prompt_tr.txt\", \"r\").read()"
   ]
  },
  {
   "cell_type": "code",
   "execution_count": 18,
   "id": "779b2d63",
   "metadata": {},
   "outputs": [
    {
     "name": "stdout",
     "output_type": "stream",
     "text": [
      "You are a helpful assistant that summarizes raw tour itineraries into clear, structured, and concise daily travel plans in Turkish.\n",
      "\n",
      "Rules:\n",
      "1. Input is always a raw tour program.\n",
      "2. Extract only essential details: şehirler, tarihi/kültürel yerler, aktiviteler, deneyimler.\n",
      "3. Exclude irrelevant info: biletleme, check-in, pasaport, otel transferi, pazarlama cümleleri.\n",
      "4. Preserve chronological order with daily headings (1. Gün, 2. Gün, ...).\n",
      "5. Write in short, clear, and natural Turkish sentences.\n",
      "6. Always use the exact format below for each day:\n",
      "\n",
      "X. Gün\n",
      "[Şehir]\n",
      "[Kısa özet, maddeler halinde veya kısa paragraflar]\n",
      "Görülecek Yerler: [places]\n",
      "Hitap Ettiği Kategoriler: [ör. Mimari, İslam sanatı, fotoğrafçılık, kültürel deneyim]\\n\"\n",
      "Günün Yeme-İçme Tavsiyesi: [recommendations]\n",
      "Alışveriş Tavsiyesi: [recommendations]\n",
      "\n",
      "7. Always infer and add Relevant Categories.\n",
      "8. The response must be fully in Turkish.\n",
      "9. Do not include any explanations, headings, or introductory text outside this format.\n"
     ]
    }
   ],
   "source": [
    "print(system_prompt_en)"
   ]
  },
  {
   "cell_type": "markdown",
   "id": "98b4678d",
   "metadata": {},
   "source": [
    "## Generate Data Rows"
   ]
  },
  {
   "cell_type": "code",
   "execution_count": 19,
   "id": "bfaf6c90",
   "metadata": {},
   "outputs": [
    {
     "data": {
      "text/plain": [
       "{'url': 'https://www.jollytur.com/dolu-dolu-buyuk-sri-lanka-turu-rotasi-26-ocak-2026-4-yildizli-oteller-vb#tur-programi',\n",
       " 'raw_text': \"## Tur Programı\\n**1.Gün**\\nNegombo Colombo İstanbul\\nDOLU DOLU BÜYÜK SRİ LANKA   \\nTURU ROTASI   \\nNegombo(1) Sigirya (2) – Kandy (1) -   \\nNuwara Eliya(1) - Kolombo (1)  \\nTHY | 6 Gece  \\n  \\nİSTANBUL - KOLOMBO \\nİstanbul Havalimanı Dış Hatlar Gidiş Terminali'nde buluşarak, bilet, bagaj ve pasaport işlemlerimizi tamamlıyor ve Türk Hava Yolları tarifeli seferi ile Kolombo’ya hareket ediyoruz. Geceleme uçakta.\\n  \\nKOLOMBO - NEGOMBO\\nKolombo’ya varışın ardından bizi bekleyen aracımıza geçiyoruz ve Sri Lanka’nın eşsiz doğa manzarası ile Negombo’da bulunan Otelimize transfer oluyoruz, Check-In işlemlerinin ardından serbest zaman ve dinlenme, Geceleme Otelimizde.\\n**2.Gün**\\nSigiriya pinnawala Dambulla Negombo\\nNEGOMBO - PİNNAWALA – DAMBULLA - SIGIRYA\\nOtelde alacağımız kahvaltının ardından Pinnawala’ya doğru yola çıkıyoruz. Pinnewala’da 1975 yılında kurulmuş olan dünyadaki ilk Fil Yetimhanesi’ni ziyaret edip, ormanda yaralı veya bebekken bulunmuş fillerin beslenme ve banyo yapışlarını izleyeceğiz. Gezimizin bitişiyle Pinnawala'dan geçerken bir sonraki durağımız Dambulla'daki mağara tapınağı olacaktır. Dambulla'nın antik merkezi, MÖ 1. yüzyıla kadar uzanıyor. Bu bölge birçok kral tarafından yönetilmiştir. Bugün, Dambulla Kaya Tapınağı, Dambulla'nın altın tapınağını çevreleyen muhteşem 5 mağara tapınağında inşa edilmiş en eşsiz çizimlerden bazılarına ev sahipliği yapmaktadır. Lord Buddha'nın 150 heykelini barındıran duvarlar boyunca zarif mağara resimleri çizilmiştir. İçeriye girdiğinizde altın rengi ışıltılar saçan devasa bir Buda heykeli sizi karşılıyor. Turumuzun sonunda otelimize transfer. Geceleme otelemizde.\\n**3.Gün**\\nSigiriya\\nSIGIRYA- HABARANA\\nOtelde alacağımız kahvaltının ardından Sabah Erken saatte antik kent Sigiriya’ya doğru yola çıkıyoruz. Adı Aslan Kayası anlamına gelen Sigiriya Kaya Kalesi adına yakışan görkemli bir kayalığın üstüne kurulmuştur. Kuruluşu M.Ö. 477 yılına dayanan antik kent, deniz seviyesinden 370 metre yükseklikte bulunmaktadır. Yemyeşil doğanın içinden yükselen, bölgeye kuş bakışı hâkim bu kaleyi hayranlıkla geziyor ve ardından Habarana’ya doğru yolumuza devam ediyoruz. Öğleden sonra 2 saatlik bir yürüyüş için Hiriwaduna'ya doğru yola çıkıyoruz. Birlikte yemyeşil patikalar boyunca yürüyecek, geleneksel evlerin ve bizi sıcak gülümsemelerle karşılayacak dost canlısı yerlilerin yanından geçeceğiz. Bu büyüleyici köyde dolaşırken, Sri Lanka'nın kırsal yaşamına dair daha derin bir takdir kazanacağız. Hiriwadunna sakin göl kenarı ortamıyla ünlüdür ve bunu ilk elden deneyimleme ayrıcalığına sahip olacağız. Birlikte, doğanın manzaraları ve sesleriyle çevrili sakin sularda huzurlu bir katamaran yolculuğuna çıkacağız. Gölün aynaya benzeyen yüzeyi, yemyeşil bitki örtüsünü ve masmavi gökyüzünü yansıtarak rüyalardan fırlamış bir sahne yaratıyor. Turumuzun ardından otelimize transfer ve Ardından Sri Lanka Geleneksel Show turumuz için hareket. Asya Harikası Sri Lanka'nın zengin ve canlı kültürünü, görsel showlarla güçlendirilmiş geleneksel müzik ve davul ritmine adım atıyoruz. Turumuzun ardından otelimize transfer. Geceleme otelimizde.\\n**4.Gün**\\nKandy Habarana\\nHABARANA - KANDY\\nOtelde alacağımız kahvaltının ardından Kandy’ye hareket. Yol üstünde Spice Garden’a uğruyoruz, Bu yemyeşil cennete adım attığımızda bizi bir koku senfonisi karşılayacak. Birlikte tarçın, kakule, karanfil ve diğer egzotik baharatların bolca yetiştiği canlı yeşillikler arasında dolaşacağız. Bu değerli malzemelerin yetiştirilmesi, hasat edilmesi ve işlenmesi hakkında bilgi edinirken yolculuğumuz duyusal bir zevk olacak. Bu baharatları adaya getiren eski ticaret yollarını ve ülkenin mutfak geleneklerini şekillendirmedeki rollerini keşfedeceğiz. Ancak Baharat Bahçesi sadece baharatlardan ibaret değil; aynı zamanda bitkisel ilaçların da bir hazinesi. Geleneksel Ayurveda tıbbında kullanılan şifalı bitkileri ve otları keşfedecek, iyileştirici özellikleri hakkında fikir edineceğiz. Birlikte, bu asırlık ilaçların bugün Sri Lanka'da hala nasıl yaygın olarak uygulandığını öğreneceğiz. Ardından Kandy turumuz için hareket, otelimize geçip check-in işlemlerini yapıyoruz. Ardından Kandy turumuz için hareket. Kandy'ye adım attığımızda, gelenek ve tarihin modern yaşamla kusursuz bir şekilde harmanlandığı bir dünyaya taşınacağız. Turumuzda Diş Kalıntısı Tapınağı ve Peradeniya Botanik Bahçesi görülecek yerler arasındadır. Kandy Gölü, şehrin kalbinde bir vahadır. Birlikte, sakin güzelliği ve şehir manzaralarını seyrederek gölün çevresinde yavaş bir yürüyüşün tadını çıkaracağız. Turumuzun ardından Kandy’deki otelimize transfer ve dinlenmek üzere serbest zaman. Geceleme otelimizde.\\n**5.Gün**\\nNuwara Eliya Kandy\\nKANDY - NUWARA ELIYA\\nOtelde alacağımız kahvaltının ardından Nuwara Eliya'ya gideceğiz. Seyahat etmenin en iyi yolu trendir. Yolculuk Peradeniya tren istasyonundan başlayıp Nanu Oya'da sona erecek. Tren istasyonundan çıktıktan sonra bizleri bekleyen aracımızla yolumuza devam ediyoruz. Nuwara Eliya, dağ iklimi ve manzarasıyla tanınır. Şehrin kalbinde bir rezervuar olan Gregory Gölü'nü ziyaret edeceğiz. Göl ve çevresini seyredeceğiz. Otelimize geçiyoruz ve Geceleme otelimizde\\n  \\n\\n**6.Gün**\\nColombo Nuwara Eliya\\nNUWARA ELIYA - KOLOMBO\\nKahvaltının ardından odaların boşaltılması ve Giragama Çay Fabrikası turumuz için hareket. Seylan Çayı söz konusu olduğunda Giragama her zaman bilinen bir isimdir. Bir fincan çayın etrafında kıvrılmış otantik bir deneyim için Giragama'daki çay fabrikasını ziyaret ediyoruz. Sınıflandırılmadan önce çayın nasıl işlendiğini izliyor ve araziden yeni çıkmış taze bir fincan Seylan Çayı’nın tadına bakıyoruz. Turumuzun bitiminde Kolomboya gitmek üzere yolcuğumuza devam ediyoruz, Colombo’ya varışımızın ardından şehir turumuzu yapıyoruz, Turumuzda sömürge dönemi mimarisinin modern gökdelenlerle kusursuz bir şekilde harmanlanarak büyüleyici bir kentsel manzara oluşturduğu hareketli sokaklarda dolaşacağız. Kendimizi sürekli gelişen, ancak mirasını gururla koruyan bir şehrin ortasında bulacağız. Kolombo'nun sahil şeridi, Okyanus esintisini yüzümüzde hissedeceğimiz ve Hint Okyanusu üzerinde büyüleyici gün batımına tanık olacağımız Galle Face Green’den geçeceğiz. Turumuzda Lotus Kulesi, Belediye Binası, Konsolosluklar Caddesi, Bağımsızlık Anıtı, Gangaramaya Tapınağı panoramik olarak görülecek yerler arasındadır. Turumuzun ardından Colombo’daki otelimize transfer ve dinlenmek üzere serbest zaman. Geceleme otelimizde.\\n**7.Gün**\\nColombo İstanbul\\nKOLOMBO - İSTANBUL \\nSabah Kahvaltının ardından odaların boşaltılması ile çıkış yapıp Kolombo havalimanına transfer oluyoruz. Pasaport ve check-in işlemlerinin ardından İstanbul uçuşumuzu gerçekleştiriyoruz. Yerel saat ile öğlen saatlerinde İstanbul’a Varışımız ile birlikte turumuz son buluyor.\",\n",
       " 'summarization': \"1. Gün\\nNegombo\\nSri Lanka'ya hoş geldiniz! Negombo'da bulunan otelimize transfer oluyoruz.\\n\\nGörülecek Yerler: \\nHitap Ettiği Kategoriler: Doğa, Kültür\\nGünün Yeme-İçme Tavsiyesi: Sri Lanka mutfağının yerel lezzetlerini deneyin.\\nAlışveriş Tavsiyesi: Yerel pazarlarda hediyelik eşya alın.\\n\\n2. Gün\\nSigiriya\\nPinnawala'daki Fil Yetimhanesi'ni ziyaret ediyoruz. Sonra Dambulla mağara tapınağına gidiyoruz.\\n\\nGörülecek Yerler: Pinnawala Fil Yetimhanesi, Dambulla mağara tapınağı\\nHitap Ettiği Kategoriler: Doğa, Kültür, Mimari\\nGünün Yeme-İçme Tavsiyesi: Sri Lanka mutfağının yerel lezzetlerini deneyin.\\nAlışveriş Tavsiyesi: Yerel pazarlarda hediyelik eşya alın.\\n\\n3. Gün\\nSigiriya\\nSigiriya Kaya Kalesi'ni ziyaret ediyoruz. Sonra Habarana'ya gidiyoruz.\\n\\nGörülecek Yerler: Sigiriya Kaya Kalesi, Habarana\\nHitap Ettiği Kategoriler: Tarih, Kültür, Mimari\\nGünün Yeme-İçme Tavsiyesi: Sri Lanka mutfağının yerel lezzetlerini deneyin.\\nAlışveriş Tavsiyesi: Yerel pazarlarda hediyelik eşya alın.\\n\\n4. Gün\\nKandy\\nKandy'ye gidiyoruz. Spice Garden'ı ziyaret ediyoruz.\\n\\nGörülecek Yerler: Spice Garden, Kandy\\nHitap Ettiği Kategoriler: Kültür, Tarih, Bahçecilik\\nGünün Yeme-İçme Tavsiyesi: Sri Lanka mutfağının yerel lezzetlerini deneyin.\\nAlışveriş Tavsiyesi: Yerel pazarlarda hediyelik eşya alın.\\n\\n5. Gün\\nNuwara Eliya\\nNuwara Eliya'ya gidiyoruz. Gregory Gölü'nü ziyaret ediyoruz.\\n\\nGörülecek Yerler: Gregory Gölü, Nuwara Eliya\\nHitap Ettiği Kategoriler: Doğa, Kültür\\nGünün Yeme-İçme Tavsiyesi: Sri Lanka mutfağının yerel lezzetlerini deneyin.\\nAlışveriş Tavsiyesi: Yerel pazarlarda hediyelik eşya alın.\\n\\n6. Gün\\nColombo\\nNuwara Eliya'dan Colombo'ya gidiyoruz. Giragama Çay Fabrikası'nı ziyaret ediyoruz.\\n\\nGörülecek Yerler: Giragama Çay Fabrikası, Colombo\\nHitap Ettiği Kategoriler: Kültür, Tarih, Çay\\nGünün Yeme-İçme Tavsiyesi: Sri Lanka mutfağının yerel lezzetlerini deneyin.\\nAlışveriş Tavsiyesi: Yerel pazarlarda hediyelik eşya alın.\\n\\n7. Gün\\nColombo\\nColombo şehir turumuzu yapıyoruz. Sonra İstanbul'a dönüyoruz.\\n\\nGörülecek Yerler: Colombo şehir merkezi, Galle Face Green\\nHitap Ettiği Kategoriler: Kültür, Tarih, Şehir\\nGünün Yeme-İçme Tavsiyesi: Sri Lanka mutfağının yerel lezzetlerini deneyin.\\nAlışveriş Tavsiyesi: Yerel pazarlarda hediyelik eşya alın.\",\n",
       " 'id': 0}"
      ]
     },
     "execution_count": 19,
     "metadata": {},
     "output_type": "execute_result"
    }
   ],
   "source": [
    "data[0]"
   ]
  },
  {
   "cell_type": "code",
   "execution_count": 23,
   "id": "71c7d92b",
   "metadata": {},
   "outputs": [],
   "source": [
    "conversation_data_list = [ [ {'role':'system', 'content': system_prompt_en}, {'role':'user', 'content': row['raw_text']}, {'role':'assistant', 'content': row['summarization']} ] for row in data]"
   ]
  },
  {
   "cell_type": "code",
   "execution_count": null,
   "id": "e787e486",
   "metadata": {},
   "outputs": [
    {
     "name": "stdout",
     "output_type": "stream",
     "text": [
      "You are a helpful assistant that summarizes raw tour itineraries into clear, structured, and concise daily travel plans in Turkish.\n",
      "\n",
      "Rules:\n",
      "1. Input is always a raw tour program.\n",
      "2. Extract only essential details: şehirler, tarihi/kültürel yerler, aktiviteler, deneyimler.\n",
      "3. Exclude irrelevant info: biletleme, check-in, pasaport, otel transferi, pazarlama cümleleri.\n",
      "4. Preserve chronological order with daily headings (1. Gün, 2. Gün, ...).\n",
      "5. Write in short, clear, and natural Turkish sentences.\n",
      "6. Always use the exact format below for each day:\n",
      "\n",
      "X. Gün\n",
      "[Şehir]\n",
      "[Kısa özet, maddeler halinde veya kısa paragraflar]\n",
      "Görülecek Yerler: [places]\n",
      "Hitap Ettiği Kategoriler: [ör. Mimari, İslam sanatı, fotoğrafçılık, kültürel deneyim]\\n\"\n",
      "Günün Yeme-İçme Tavsiyesi: [recommendations]\n",
      "Alışveriş Tavsiyesi: [recommendations]\n",
      "\n",
      "7. Always infer and add Relevant Categories.\n",
      "8. The response must be fully in Turkish.\n",
      "9. Do not include any explanations, headings, or introductory text outside this format.\n"
     ]
    }
   ],
   "source": [
    "print(conversation_data_list[0][0]['content'])"
   ]
  },
  {
   "cell_type": "code",
   "execution_count": 28,
   "id": "15be54ec",
   "metadata": {},
   "outputs": [
    {
     "name": "stdout",
     "output_type": "stream",
     "text": [
      "## Tur Programı\n",
      "**1.Gün**\n",
      "Negombo Colombo İstanbul\n",
      "DOLU DOLU BÜYÜK SRİ LANKA   \n",
      "TURU ROTASI   \n",
      "Negombo(1) Sigirya (2) – Kandy (1) -   \n",
      "Nuwara Eliya(1) - Kolombo (1)  \n",
      "THY | 6 Gece  \n",
      "  \n",
      "İSTANBUL - KOLOMBO \n",
      "İstanbul Havalimanı Dış Hatlar Gidiş Terminali'nde buluşarak, bilet, bagaj ve pasaport işlemlerimizi tamamlıyor ve Türk Hava Yolları tarifeli seferi ile Kolombo’ya hareket ediyoruz. Geceleme uçakta.\n",
      "  \n",
      "KOLOMBO - NEGOMBO\n",
      "Kolombo’ya varışın ardından bizi bekleyen aracımıza geçiyoruz ve Sri Lanka’nın eşsiz doğa manzarası ile Negombo’da bulunan Otelimize transfer oluyoruz, Check-In işlemlerinin ardından serbest zaman ve dinlenme, Geceleme Otelimizde.\n",
      "**2.Gün**\n",
      "Sigiriya pinnawala Dambulla Negombo\n",
      "NEGOMBO - PİNNAWALA – DAMBULLA - SIGIRYA\n",
      "Otelde alacağımız kahvaltının ardından Pinnawala’ya doğru yola çıkıyoruz. Pinnewala’da 1975 yılında kurulmuş olan dünyadaki ilk Fil Yetimhanesi’ni ziyaret edip, ormanda yaralı veya bebekken bulunmuş fillerin beslenme ve banyo yapışlarını izleyeceğiz. Gezimizin bitişiyle Pinnawala'dan geçerken bir sonraki durağımız Dambulla'daki mağara tapınağı olacaktır. Dambulla'nın antik merkezi, MÖ 1. yüzyıla kadar uzanıyor. Bu bölge birçok kral tarafından yönetilmiştir. Bugün, Dambulla Kaya Tapınağı, Dambulla'nın altın tapınağını çevreleyen muhteşem 5 mağara tapınağında inşa edilmiş en eşsiz çizimlerden bazılarına ev sahipliği yapmaktadır. Lord Buddha'nın 150 heykelini barındıran duvarlar boyunca zarif mağara resimleri çizilmiştir. İçeriye girdiğinizde altın rengi ışıltılar saçan devasa bir Buda heykeli sizi karşılıyor. Turumuzun sonunda otelimize transfer. Geceleme otelemizde.\n",
      "**3.Gün**\n",
      "Sigiriya\n",
      "SIGIRYA- HABARANA\n",
      "Otelde alacağımız kahvaltının ardından Sabah Erken saatte antik kent Sigiriya’ya doğru yola çıkıyoruz. Adı Aslan Kayası anlamına gelen Sigiriya Kaya Kalesi adına yakışan görkemli bir kayalığın üstüne kurulmuştur. Kuruluşu M.Ö. 477 yılına dayanan antik kent, deniz seviyesinden 370 metre yükseklikte bulunmaktadır. Yemyeşil doğanın içinden yükselen, bölgeye kuş bakışı hâkim bu kaleyi hayranlıkla geziyor ve ardından Habarana’ya doğru yolumuza devam ediyoruz. Öğleden sonra 2 saatlik bir yürüyüş için Hiriwaduna'ya doğru yola çıkıyoruz. Birlikte yemyeşil patikalar boyunca yürüyecek, geleneksel evlerin ve bizi sıcak gülümsemelerle karşılayacak dost canlısı yerlilerin yanından geçeceğiz. Bu büyüleyici köyde dolaşırken, Sri Lanka'nın kırsal yaşamına dair daha derin bir takdir kazanacağız. Hiriwadunna sakin göl kenarı ortamıyla ünlüdür ve bunu ilk elden deneyimleme ayrıcalığına sahip olacağız. Birlikte, doğanın manzaraları ve sesleriyle çevrili sakin sularda huzurlu bir katamaran yolculuğuna çıkacağız. Gölün aynaya benzeyen yüzeyi, yemyeşil bitki örtüsünü ve masmavi gökyüzünü yansıtarak rüyalardan fırlamış bir sahne yaratıyor. Turumuzun ardından otelimize transfer ve Ardından Sri Lanka Geleneksel Show turumuz için hareket. Asya Harikası Sri Lanka'nın zengin ve canlı kültürünü, görsel showlarla güçlendirilmiş geleneksel müzik ve davul ritmine adım atıyoruz. Turumuzun ardından otelimize transfer. Geceleme otelimizde.\n",
      "**4.Gün**\n",
      "Kandy Habarana\n",
      "HABARANA - KANDY\n",
      "Otelde alacağımız kahvaltının ardından Kandy’ye hareket. Yol üstünde Spice Garden’a uğruyoruz, Bu yemyeşil cennete adım attığımızda bizi bir koku senfonisi karşılayacak. Birlikte tarçın, kakule, karanfil ve diğer egzotik baharatların bolca yetiştiği canlı yeşillikler arasında dolaşacağız. Bu değerli malzemelerin yetiştirilmesi, hasat edilmesi ve işlenmesi hakkında bilgi edinirken yolculuğumuz duyusal bir zevk olacak. Bu baharatları adaya getiren eski ticaret yollarını ve ülkenin mutfak geleneklerini şekillendirmedeki rollerini keşfedeceğiz. Ancak Baharat Bahçesi sadece baharatlardan ibaret değil; aynı zamanda bitkisel ilaçların da bir hazinesi. Geleneksel Ayurveda tıbbında kullanılan şifalı bitkileri ve otları keşfedecek, iyileştirici özellikleri hakkında fikir edineceğiz. Birlikte, bu asırlık ilaçların bugün Sri Lanka'da hala nasıl yaygın olarak uygulandığını öğreneceğiz. Ardından Kandy turumuz için hareket, otelimize geçip check-in işlemlerini yapıyoruz. Ardından Kandy turumuz için hareket. Kandy'ye adım attığımızda, gelenek ve tarihin modern yaşamla kusursuz bir şekilde harmanlandığı bir dünyaya taşınacağız. Turumuzda Diş Kalıntısı Tapınağı ve Peradeniya Botanik Bahçesi görülecek yerler arasındadır. Kandy Gölü, şehrin kalbinde bir vahadır. Birlikte, sakin güzelliği ve şehir manzaralarını seyrederek gölün çevresinde yavaş bir yürüyüşün tadını çıkaracağız. Turumuzun ardından Kandy’deki otelimize transfer ve dinlenmek üzere serbest zaman. Geceleme otelimizde.\n",
      "**5.Gün**\n",
      "Nuwara Eliya Kandy\n",
      "KANDY - NUWARA ELIYA\n",
      "Otelde alacağımız kahvaltının ardından Nuwara Eliya'ya gideceğiz. Seyahat etmenin en iyi yolu trendir. Yolculuk Peradeniya tren istasyonundan başlayıp Nanu Oya'da sona erecek. Tren istasyonundan çıktıktan sonra bizleri bekleyen aracımızla yolumuza devam ediyoruz. Nuwara Eliya, dağ iklimi ve manzarasıyla tanınır. Şehrin kalbinde bir rezervuar olan Gregory Gölü'nü ziyaret edeceğiz. Göl ve çevresini seyredeceğiz. Otelimize geçiyoruz ve Geceleme otelimizde\n",
      "  \n",
      "\n",
      "**6.Gün**\n",
      "Colombo Nuwara Eliya\n",
      "NUWARA ELIYA - KOLOMBO\n",
      "Kahvaltının ardından odaların boşaltılması ve Giragama Çay Fabrikası turumuz için hareket. Seylan Çayı söz konusu olduğunda Giragama her zaman bilinen bir isimdir. Bir fincan çayın etrafında kıvrılmış otantik bir deneyim için Giragama'daki çay fabrikasını ziyaret ediyoruz. Sınıflandırılmadan önce çayın nasıl işlendiğini izliyor ve araziden yeni çıkmış taze bir fincan Seylan Çayı’nın tadına bakıyoruz. Turumuzun bitiminde Kolomboya gitmek üzere yolcuğumuza devam ediyoruz, Colombo’ya varışımızın ardından şehir turumuzu yapıyoruz, Turumuzda sömürge dönemi mimarisinin modern gökdelenlerle kusursuz bir şekilde harmanlanarak büyüleyici bir kentsel manzara oluşturduğu hareketli sokaklarda dolaşacağız. Kendimizi sürekli gelişen, ancak mirasını gururla koruyan bir şehrin ortasında bulacağız. Kolombo'nun sahil şeridi, Okyanus esintisini yüzümüzde hissedeceğimiz ve Hint Okyanusu üzerinde büyüleyici gün batımına tanık olacağımız Galle Face Green’den geçeceğiz. Turumuzda Lotus Kulesi, Belediye Binası, Konsolosluklar Caddesi, Bağımsızlık Anıtı, Gangaramaya Tapınağı panoramik olarak görülecek yerler arasındadır. Turumuzun ardından Colombo’daki otelimize transfer ve dinlenmek üzere serbest zaman. Geceleme otelimizde.\n",
      "**7.Gün**\n",
      "Colombo İstanbul\n",
      "KOLOMBO - İSTANBUL \n",
      "Sabah Kahvaltının ardından odaların boşaltılması ile çıkış yapıp Kolombo havalimanına transfer oluyoruz. Pasaport ve check-in işlemlerinin ardından İstanbul uçuşumuzu gerçekleştiriyoruz. Yerel saat ile öğlen saatlerinde İstanbul’a Varışımız ile birlikte turumuz son buluyor.\n"
     ]
    }
   ],
   "source": [
    "print(conversation_data_list[0][1] ['content'])"
   ]
  },
  {
   "cell_type": "code",
   "execution_count": 29,
   "id": "742b42c7",
   "metadata": {},
   "outputs": [
    {
     "name": "stdout",
     "output_type": "stream",
     "text": [
      "1. Gün\n",
      "Negombo\n",
      "Sri Lanka'ya hoş geldiniz! Negombo'da bulunan otelimize transfer oluyoruz.\n",
      "\n",
      "Görülecek Yerler: \n",
      "Hitap Ettiği Kategoriler: Doğa, Kültür\n",
      "Günün Yeme-İçme Tavsiyesi: Sri Lanka mutfağının yerel lezzetlerini deneyin.\n",
      "Alışveriş Tavsiyesi: Yerel pazarlarda hediyelik eşya alın.\n",
      "\n",
      "2. Gün\n",
      "Sigiriya\n",
      "Pinnawala'daki Fil Yetimhanesi'ni ziyaret ediyoruz. Sonra Dambulla mağara tapınağına gidiyoruz.\n",
      "\n",
      "Görülecek Yerler: Pinnawala Fil Yetimhanesi, Dambulla mağara tapınağı\n",
      "Hitap Ettiği Kategoriler: Doğa, Kültür, Mimari\n",
      "Günün Yeme-İçme Tavsiyesi: Sri Lanka mutfağının yerel lezzetlerini deneyin.\n",
      "Alışveriş Tavsiyesi: Yerel pazarlarda hediyelik eşya alın.\n",
      "\n",
      "3. Gün\n",
      "Sigiriya\n",
      "Sigiriya Kaya Kalesi'ni ziyaret ediyoruz. Sonra Habarana'ya gidiyoruz.\n",
      "\n",
      "Görülecek Yerler: Sigiriya Kaya Kalesi, Habarana\n",
      "Hitap Ettiği Kategoriler: Tarih, Kültür, Mimari\n",
      "Günün Yeme-İçme Tavsiyesi: Sri Lanka mutfağının yerel lezzetlerini deneyin.\n",
      "Alışveriş Tavsiyesi: Yerel pazarlarda hediyelik eşya alın.\n",
      "\n",
      "4. Gün\n",
      "Kandy\n",
      "Kandy'ye gidiyoruz. Spice Garden'ı ziyaret ediyoruz.\n",
      "\n",
      "Görülecek Yerler: Spice Garden, Kandy\n",
      "Hitap Ettiği Kategoriler: Kültür, Tarih, Bahçecilik\n",
      "Günün Yeme-İçme Tavsiyesi: Sri Lanka mutfağının yerel lezzetlerini deneyin.\n",
      "Alışveriş Tavsiyesi: Yerel pazarlarda hediyelik eşya alın.\n",
      "\n",
      "5. Gün\n",
      "Nuwara Eliya\n",
      "Nuwara Eliya'ya gidiyoruz. Gregory Gölü'nü ziyaret ediyoruz.\n",
      "\n",
      "Görülecek Yerler: Gregory Gölü, Nuwara Eliya\n",
      "Hitap Ettiği Kategoriler: Doğa, Kültür\n",
      "Günün Yeme-İçme Tavsiyesi: Sri Lanka mutfağının yerel lezzetlerini deneyin.\n",
      "Alışveriş Tavsiyesi: Yerel pazarlarda hediyelik eşya alın.\n",
      "\n",
      "6. Gün\n",
      "Colombo\n",
      "Nuwara Eliya'dan Colombo'ya gidiyoruz. Giragama Çay Fabrikası'nı ziyaret ediyoruz.\n",
      "\n",
      "Görülecek Yerler: Giragama Çay Fabrikası, Colombo\n",
      "Hitap Ettiği Kategoriler: Kültür, Tarih, Çay\n",
      "Günün Yeme-İçme Tavsiyesi: Sri Lanka mutfağının yerel lezzetlerini deneyin.\n",
      "Alışveriş Tavsiyesi: Yerel pazarlarda hediyelik eşya alın.\n",
      "\n",
      "7. Gün\n",
      "Colombo\n",
      "Colombo şehir turumuzu yapıyoruz. Sonra İstanbul'a dönüyoruz.\n",
      "\n",
      "Görülecek Yerler: Colombo şehir merkezi, Galle Face Green\n",
      "Hitap Ettiği Kategoriler: Kültür, Tarih, Şehir\n",
      "Günün Yeme-İçme Tavsiyesi: Sri Lanka mutfağının yerel lezzetlerini deneyin.\n",
      "Alışveriş Tavsiyesi: Yerel pazarlarda hediyelik eşya alın.\n"
     ]
    }
   ],
   "source": [
    "print(conversation_data_list[0][2] ['content'])"
   ]
  },
  {
   "cell_type": "code",
   "execution_count": 36,
   "id": "4cb140bb",
   "metadata": {},
   "outputs": [],
   "source": [
    "conversation_data_list_tr = [ [ {'role':'system', 'content': system_prompt_tr}, {'role':'user', 'content': row['raw_text']}, {'role':'assistant', 'content': row['summarization']} ] for row in data[:100]]"
   ]
  },
  {
   "cell_type": "code",
   "execution_count": 37,
   "id": "246baef3",
   "metadata": {},
   "outputs": [],
   "source": [
    "conversation_data_list = conversation_data_list + conversation_data_list_tr"
   ]
  },
  {
   "cell_type": "code",
   "execution_count": 38,
   "id": "571db124",
   "metadata": {},
   "outputs": [
    {
     "data": {
      "text/plain": [
       "996"
      ]
     },
     "execution_count": 38,
     "metadata": {},
     "output_type": "execute_result"
    }
   ],
   "source": [
    "len(conversation_data_list)"
   ]
  },
  {
   "cell_type": "markdown",
   "id": "e0724def",
   "metadata": {},
   "source": [
    "## Generate Dataset"
   ]
  },
  {
   "cell_type": "code",
   "execution_count": 39,
   "id": "78a3bbef",
   "metadata": {},
   "outputs": [],
   "source": [
    "ds = Dataset.from_dict({'conversations': conversation_data_list})"
   ]
  },
  {
   "cell_type": "code",
   "execution_count": 40,
   "id": "83adc389",
   "metadata": {},
   "outputs": [
    {
     "data": {
      "text/plain": [
       "Dataset({\n",
       "    features: ['conversations'],\n",
       "    num_rows: 996\n",
       "})"
      ]
     },
     "execution_count": 40,
     "metadata": {},
     "output_type": "execute_result"
    }
   ],
   "source": [
    "ds"
   ]
  },
  {
   "cell_type": "code",
   "execution_count": null,
   "id": "fb38658d",
   "metadata": {},
   "outputs": [
    {
     "data": {
      "application/vnd.jupyter.widget-view+json": {
       "model_id": "c292973ff4f444118370d865f86d2908",
       "version_major": 2,
       "version_minor": 0
      },
      "text/plain": [
       "Uploading the dataset shards:   0%|          | 0/1 [00:00<?, ?it/s]"
      ]
     },
     "metadata": {},
     "output_type": "display_data"
    },
    {
     "data": {
      "application/vnd.jupyter.widget-view+json": {
       "model_id": "d41fb597b89e442e8d1556f38d0d8075",
       "version_major": 2,
       "version_minor": 0
      },
      "text/plain": [
       "Creating parquet from Arrow format:   0%|          | 0/1 [00:00<?, ?ba/s]"
      ]
     },
     "metadata": {},
     "output_type": "display_data"
    },
    {
     "name": "stderr",
     "output_type": "stream",
     "text": [
      "Uploading files as a binary IO buffer is not supported by Xet Storage. Falling back to HTTP upload.\n"
     ]
    },
    {
     "data": {
      "text/plain": [
       "CommitInfo(commit_url='https://huggingface.co/datasets/habanoz/planning_dataset_v1/commit/a9c0eb37e15193dcc81df4068807aa801f7f1b43', commit_message='Upload dataset', commit_description='', oid='a9c0eb37e15193dcc81df4068807aa801f7f1b43', pr_url=None, repo_url=RepoUrl('https://huggingface.co/datasets/habanoz/planning_dataset_v1', endpoint='https://huggingface.co', repo_type='dataset', repo_id='habanoz/planning_dataset_v1'), pr_revision=None, pr_num=None)"
      ]
     },
     "execution_count": 41,
     "metadata": {},
     "output_type": "execute_result"
    }
   ],
   "source": [
    "ds.push_to_hub(\"habanoz/planning_dataset_v1\", private=False, token=\"xxx\")"
   ]
  },
  {
   "cell_type": "code",
   "execution_count": null,
   "id": "b39a4f1e",
   "metadata": {},
   "outputs": [],
   "source": []
  }
 ],
 "metadata": {
  "kernelspec": {
   "display_name": "myenv",
   "language": "python",
   "name": "python3"
  },
  "language_info": {
   "codemirror_mode": {
    "name": "ipython",
    "version": 3
   },
   "file_extension": ".py",
   "mimetype": "text/x-python",
   "name": "python",
   "nbconvert_exporter": "python",
   "pygments_lexer": "ipython3",
   "version": "3.11.9"
  }
 },
 "nbformat": 4,
 "nbformat_minor": 5
}
