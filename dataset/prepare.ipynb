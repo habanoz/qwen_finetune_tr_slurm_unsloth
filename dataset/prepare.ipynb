{
 "cells": [
  {
   "cell_type": "code",
   "execution_count": 68,
   "id": "dbd21119",
   "metadata": {},
   "outputs": [],
   "source": [
    "import datasets"
   ]
  },
  {
   "cell_type": "markdown",
   "id": "ee9357af",
   "metadata": {},
   "source": [
    "# mlabonne/FineTome-100k"
   ]
  },
  {
   "cell_type": "code",
   "execution_count": 2,
   "id": "eaf82512",
   "metadata": {},
   "outputs": [
    {
     "data": {
      "application/vnd.jupyter.widget-view+json": {
       "model_id": "0bc136f936234927a4441944271cb6cb",
       "version_major": 2,
       "version_minor": 0
      },
      "text/plain": [
       "Downloading readme:   0%|          | 0.00/982 [00:00<?, ?B/s]"
      ]
     },
     "metadata": {},
     "output_type": "display_data"
    },
    {
     "data": {
      "application/vnd.jupyter.widget-view+json": {
       "model_id": "09cf4b410f2b4f239d2af859283f26b3",
       "version_major": 2,
       "version_minor": 0
      },
      "text/plain": [
       "Downloading data:   0%|          | 0.00/117M [00:00<?, ?B/s]"
      ]
     },
     "metadata": {},
     "output_type": "display_data"
    },
    {
     "data": {
      "application/vnd.jupyter.widget-view+json": {
       "model_id": "534f5f0149bd465f82a9276c2e37d897",
       "version_major": 2,
       "version_minor": 0
      },
      "text/plain": [
       "Generating train split:   0%|          | 0/100000 [00:00<?, ? examples/s]"
      ]
     },
     "metadata": {},
     "output_type": "display_data"
    }
   ],
   "source": [
    "ds_finetome = datasets.load_dataset(\"mlabonne/FineTome-100k\")"
   ]
  },
  {
   "cell_type": "code",
   "execution_count": 4,
   "id": "e8d93210",
   "metadata": {},
   "outputs": [],
   "source": [
    "ds_finetome=ds_finetome[\"train\"].shuffle(seed=42).select(range(10000))"
   ]
  },
  {
   "cell_type": "code",
   "execution_count": 5,
   "id": "42edd88e",
   "metadata": {},
   "outputs": [
    {
     "data": {
      "text/plain": [
       "Dataset({\n",
       "    features: ['conversations', 'source', 'score'],\n",
       "    num_rows: 10000\n",
       "})"
      ]
     },
     "execution_count": 5,
     "metadata": {},
     "output_type": "execute_result"
    }
   ],
   "source": [
    "ds_finetome"
   ]
  },
  {
   "cell_type": "code",
   "execution_count": 7,
   "id": "1d6a4078",
   "metadata": {},
   "outputs": [],
   "source": [
    "pds = ds_finetome.to_pandas()"
   ]
  },
  {
   "cell_type": "code",
   "execution_count": 15,
   "id": "825857de",
   "metadata": {},
   "outputs": [
    {
     "data": {
      "text/html": [
       "<div>\n",
       "<style scoped>\n",
       "    .dataframe tbody tr th:only-of-type {\n",
       "        vertical-align: middle;\n",
       "    }\n",
       "\n",
       "    .dataframe tbody tr th {\n",
       "        vertical-align: top;\n",
       "    }\n",
       "\n",
       "    .dataframe thead th {\n",
       "        text-align: right;\n",
       "    }\n",
       "</style>\n",
       "<table border=\"1\" class=\"dataframe\">\n",
       "  <thead>\n",
       "    <tr style=\"text-align: right;\">\n",
       "      <th></th>\n",
       "      <th>conversations</th>\n",
       "      <th>score</th>\n",
       "    </tr>\n",
       "    <tr>\n",
       "      <th>source</th>\n",
       "      <th></th>\n",
       "      <th></th>\n",
       "    </tr>\n",
       "  </thead>\n",
       "  <tbody>\n",
       "    <tr>\n",
       "      <th>WebInstructSub_axolotl</th>\n",
       "      <td>2357</td>\n",
       "      <td>2357</td>\n",
       "    </tr>\n",
       "    <tr>\n",
       "      <th>airoboros-3.2</th>\n",
       "      <td>225</td>\n",
       "      <td>225</td>\n",
       "    </tr>\n",
       "    <tr>\n",
       "      <th>financial-instructions-cleaned-2</th>\n",
       "      <td>126</td>\n",
       "      <td>126</td>\n",
       "    </tr>\n",
       "    <tr>\n",
       "      <th>glaive-function-calling-v2-sharegpt</th>\n",
       "      <td>320</td>\n",
       "      <td>320</td>\n",
       "    </tr>\n",
       "    <tr>\n",
       "      <th>infini-instruct-top-500k</th>\n",
       "      <td>4290</td>\n",
       "      <td>4290</td>\n",
       "    </tr>\n",
       "    <tr>\n",
       "      <th>reasoning-sharegpt</th>\n",
       "      <td>336</td>\n",
       "      <td>336</td>\n",
       "    </tr>\n",
       "    <tr>\n",
       "      <th>self-instruct-sharegpt</th>\n",
       "      <td>542</td>\n",
       "      <td>542</td>\n",
       "    </tr>\n",
       "    <tr>\n",
       "      <th>systemchat-2.0-sharegpt</th>\n",
       "      <td>173</td>\n",
       "      <td>173</td>\n",
       "    </tr>\n",
       "    <tr>\n",
       "      <th>ultrainteract_trajectories_sharegpt</th>\n",
       "      <td>1631</td>\n",
       "      <td>1631</td>\n",
       "    </tr>\n",
       "  </tbody>\n",
       "</table>\n",
       "</div>"
      ],
      "text/plain": [
       "                                     conversations  score\n",
       "source                                                   \n",
       "WebInstructSub_axolotl                        2357   2357\n",
       "airoboros-3.2                                  225    225\n",
       "financial-instructions-cleaned-2               126    126\n",
       "glaive-function-calling-v2-sharegpt            320    320\n",
       "infini-instruct-top-500k                      4290   4290\n",
       "reasoning-sharegpt                             336    336\n",
       "self-instruct-sharegpt                         542    542\n",
       "systemchat-2.0-sharegpt                        173    173\n",
       "ultrainteract_trajectories_sharegpt           1631   1631"
      ]
     },
     "execution_count": 15,
     "metadata": {},
     "output_type": "execute_result"
    }
   ],
   "source": [
    "pds.groupby(['source']).count()"
   ]
  },
  {
   "cell_type": "code",
   "execution_count": 22,
   "id": "ccd5d00e",
   "metadata": {},
   "outputs": [
    {
     "data": {
      "text/plain": [
       "[{'from': 'human', 'value': 'Give three types of computer graphics.'},\n",
       " {'from': 'gpt',\n",
       "  'value': '1. Raster Graphics: These are also called bitmap graphics and are composed of pixels arranged in a grid. Each pixel can have a different color and shade. Raster graphics excel at representing photographic images and digital painting.\\n\\n2. Vector Graphics: These graphics are constructed using mathematical formulas representing geometric shapes like lines, curves, and polygons. They are resolution-independent, meaning they can be scaled up or down in size without losing quality. Vector graphics are commonly used for logos, icons, typography and illustrations.\\n\\n3. 3D Graphics: These graphics are used to create three-dimensional digital representations of objects. 3D graphics use techniques like modeling, rendering, and shading to simulate depth and surface properties. These graphics are used in animation, video games, architecture, engineering, and virtual reality.'}]"
      ]
     },
     "execution_count": 22,
     "metadata": {},
     "output_type": "execute_result"
    }
   ],
   "source": [
    "ds_finetome[0][\"conversations\"]"
   ]
  },
  {
   "cell_type": "code",
   "execution_count": 50,
   "id": "1032d240",
   "metadata": {},
   "outputs": [
    {
     "data": {
      "application/vnd.jupyter.widget-view+json": {
       "model_id": "813a4fc8ca0a40cd9ff90d5c7ff7c78c",
       "version_major": 2,
       "version_minor": 0
      },
      "text/plain": [
       "Map:   0%|          | 0/10000 [00:00<?, ? examples/s]"
      ]
     },
     "metadata": {},
     "output_type": "display_data"
    }
   ],
   "source": [
    "ds_finetome = ds_finetome.map(lambda x: {\"conversations\": [{\"role\":\"user\" if con['from']=='human' else \"assistant\", \"content\":con['value']} for con in x[\"conversations\"]]})"
   ]
  },
  {
   "cell_type": "code",
   "execution_count": 51,
   "id": "09482588",
   "metadata": {},
   "outputs": [
    {
     "data": {
      "text/plain": [
       "[{'content': 'Give three types of computer graphics.', 'role': 'user'},\n",
       " {'content': '1. Raster Graphics: These are also called bitmap graphics and are composed of pixels arranged in a grid. Each pixel can have a different color and shade. Raster graphics excel at representing photographic images and digital painting.\\n\\n2. Vector Graphics: These graphics are constructed using mathematical formulas representing geometric shapes like lines, curves, and polygons. They are resolution-independent, meaning they can be scaled up or down in size without losing quality. Vector graphics are commonly used for logos, icons, typography and illustrations.\\n\\n3. 3D Graphics: These graphics are used to create three-dimensional digital representations of objects. 3D graphics use techniques like modeling, rendering, and shading to simulate depth and surface properties. These graphics are used in animation, video games, architecture, engineering, and virtual reality.',\n",
       "  'role': 'assistant'}]"
      ]
     },
     "execution_count": 51,
     "metadata": {},
     "output_type": "execute_result"
    }
   ],
   "source": [
    "ds_finetome[0][\"conversations\"]"
   ]
  },
  {
   "cell_type": "code",
   "execution_count": 64,
   "id": "a0c8a0cf",
   "metadata": {},
   "outputs": [],
   "source": [
    "ds_finetome = ds_finetome.remove_columns([\"source\", \"score\"])"
   ]
  },
  {
   "cell_type": "code",
   "execution_count": 65,
   "id": "fda7f52a",
   "metadata": {},
   "outputs": [
    {
     "data": {
      "text/plain": [
       "Dataset({\n",
       "    features: ['conversations'],\n",
       "    num_rows: 10000\n",
       "})"
      ]
     },
     "execution_count": 65,
     "metadata": {},
     "output_type": "execute_result"
    }
   ],
   "source": [
    "ds_finetome"
   ]
  },
  {
   "cell_type": "markdown",
   "id": "eac30872",
   "metadata": {},
   "source": [
    "# habanoz/WildChat-turkce"
   ]
  },
  {
   "cell_type": "code",
   "execution_count": 23,
   "id": "2bd1a4de",
   "metadata": {},
   "outputs": [
    {
     "data": {
      "application/vnd.jupyter.widget-view+json": {
       "model_id": "713c7663644f4e489f409bca47812354",
       "version_major": 2,
       "version_minor": 0
      },
      "text/plain": [
       "Downloading readme: 0.00B [00:00, ?B/s]"
      ]
     },
     "metadata": {},
     "output_type": "display_data"
    },
    {
     "data": {
      "application/vnd.jupyter.widget-view+json": {
       "model_id": "224e1697e44f4865a5da2d0b056aa6e7",
       "version_major": 2,
       "version_minor": 0
      },
      "text/plain": [
       "Downloading data:   0%|          | 0.00/21.1M [00:00<?, ?B/s]"
      ]
     },
     "metadata": {},
     "output_type": "display_data"
    },
    {
     "data": {
      "application/vnd.jupyter.widget-view+json": {
       "model_id": "3b2e887b097746779bd62dfd507b9308",
       "version_major": 2,
       "version_minor": 0
      },
      "text/plain": [
       "Generating train split:   0%|          | 0/6104 [00:00<?, ? examples/s]"
      ]
     },
     "metadata": {},
     "output_type": "display_data"
    }
   ],
   "source": [
    "ds_wc_tr = datasets.load_dataset(\"habanoz/WildChat-turkce\")"
   ]
  },
  {
   "cell_type": "code",
   "execution_count": 25,
   "id": "e2ec3479",
   "metadata": {},
   "outputs": [],
   "source": [
    "ds_wc_tr= ds_wc_tr[\"train\"]"
   ]
  },
  {
   "cell_type": "code",
   "execution_count": 26,
   "id": "0985af31",
   "metadata": {},
   "outputs": [
    {
     "data": {
      "text/plain": [
       "Dataset({\n",
       "    features: ['conversation_hash', 'model', 'timestamp', 'conversation', 'turn', 'language', 'openai_moderation', 'detoxify_moderation', 'toxic', 'redacted', 'state', 'country', 'hashed_ip', 'header'],\n",
       "    num_rows: 6104\n",
       "})"
      ]
     },
     "execution_count": 26,
     "metadata": {},
     "output_type": "execute_result"
    }
   ],
   "source": [
    "ds_wc_tr"
   ]
  },
  {
   "cell_type": "code",
   "execution_count": 34,
   "id": "a7867fc6",
   "metadata": {},
   "outputs": [],
   "source": [
    "ds_wc_tr = ds_wc_tr.remove_columns(['conversation_hash', 'model', 'timestamp', 'turn', 'language', 'openai_moderation', 'detoxify_moderation', 'toxic', 'redacted', 'state', 'country', 'hashed_ip', 'header'])"
   ]
  },
  {
   "cell_type": "code",
   "execution_count": 35,
   "id": "ff9169fd",
   "metadata": {},
   "outputs": [
    {
     "data": {
      "text/plain": [
       "Dataset({\n",
       "    features: ['conversation'],\n",
       "    num_rows: 6104\n",
       "})"
      ]
     },
     "execution_count": 35,
     "metadata": {},
     "output_type": "execute_result"
    }
   ],
   "source": [
    "ds_wc_tr"
   ]
  },
  {
   "cell_type": "code",
   "execution_count": 44,
   "id": "8b745dd2",
   "metadata": {},
   "outputs": [
    {
     "data": {
      "application/vnd.jupyter.widget-view+json": {
       "model_id": "cafd035d2c53401b93ef9afd881ffccc",
       "version_major": 2,
       "version_minor": 0
      },
      "text/plain": [
       "Map:   0%|          | 0/6104 [00:00<?, ? examples/s]"
      ]
     },
     "metadata": {},
     "output_type": "display_data"
    }
   ],
   "source": [
    "ds_wc_tr = ds_wc_tr.map(lambda x: {\"conversations\": [{\"role\":con['role'], \"content\":con['content']} for con in x[\"conversation\"]]}).remove_columns(['conversation'])"
   ]
  },
  {
   "cell_type": "code",
   "execution_count": 48,
   "id": "192ca114",
   "metadata": {},
   "outputs": [
    {
     "data": {
      "text/plain": [
       "[{'content': 'bu metni türkçeye çevir', 'role': 'user'},\n",
       " {'content': \"bu metni Türkçe'ye çevir\", 'role': 'assistant'},\n",
       " {'content': \"User Consent for Data Collection, Use, and Sharing\\n▼\\nBy using our app, which is powered by OpenAI's API, you acknowledge and agree to the following terms regarding the data you provide:\\n\\nCollection: We may collect information, including the inputs you type into our app, the outputs generated by OpenAI's API, and certain technical details about your device and connection (such as browser type, operating system, and IP address) provided by your device's request headers.\\nUse: We may use the collected data for research purposes, to improve our services, and to develop new products or services, including commercial applications, and for security purposes, such as protecting against unauthorized access and attacks.\\nSharing and Publication: Your data, including the technical details collected from your device's request headers, may be published, shared with third parties, or used for analysis and reporting purposes.\\nData Retention: We may retain your data, including the technical details collected from your device's request headers, for as long as necessary.\\nBy continuing to use our app, you provide your explicit consent to the collection, use, and potential sharing of your data as described above. If you do not agree with our data collection, use, and sharing practices, please do not use our app.\",\n",
       "  'role': 'user'},\n",
       " {'content': \"Veri Toplama, Kullanma ve Paylaşma için Kullanıcı Onayı\\n▼\\nOpenAI API'si tarafından desteklenen uygulamamızı kullanarak, sağladığınız verilere ilişkin aşağıdaki şartları kabul etmiş sayılırsınız:\\n\\nToplama: Uygulamamıza girdiğiniz bilgileri, OpenAI API'si tarafından üretilen çıktıları ve cihazınızın istek başlıkları tarafından sağlanan cihazınız ve bağlantınıza ilişkin teknik detayları (tarayıcı türü, işletim sistemi ve IP adresi gibi) toplayabiliriz.\\nKullanım: Toplanan verileri araştırma amacıyla, hizmetlerimizi geliştirmek ve yeni ürünler ya da hizmetler geliştirmek, ticari uygulamalar dahil, ve güvenlik amacıyla, yetkisiz erişimi ve saldırıları önlemek için kullanabiliriz.\\nPaylaşma ve Yayınlama: Verileriniz, cihazınızın istek başlıklarından toplanan teknik detaylar dahil, yayımlanabilir, üçüncü taraflarla paylaşılabilir veya analiz ve raporlama amacıyla kullanılabilir.\\nVeri Saklama: Verilerinizi, cihazınızın istek başlıklarından toplanan teknik detaylar dahil, gerektiği sürece saklayabiliriz.\\nUygulamamızı kullanmaya devam ederek, yukarıda açıklanan şekilde verilerinizin toplanmasına, kullanılmasına ve potansiyel olarak paylaşılmasına açıkça onay vermiş olursunuz. Eğer veri toplama, kullanma ve paylaşma uygulamalarımızı kabul etmiyorsanız, lütfen uygulamamızı kullanmayın.\",\n",
       "  'role': 'assistant'}]"
      ]
     },
     "execution_count": 48,
     "metadata": {},
     "output_type": "execute_result"
    }
   ],
   "source": [
    "ds_wc_tr[0]['conversations']"
   ]
  },
  {
   "cell_type": "markdown",
   "id": "a736255e",
   "metadata": {},
   "source": [
    "## Custom"
   ]
  },
  {
   "cell_type": "code",
   "execution_count": 55,
   "id": "5c5b58d0",
   "metadata": {},
   "outputs": [],
   "source": [
    "from datasets import Dataset\n",
    "\n",
    "ds_custom = Dataset.from_dict({\"conversations\": [\n",
    "    [{\"role\": \"user\", \"content\": \"Sen kimsin?\"}, {\"role\": \"assistant\", \"content\": \"Benim adım TuristGPT, codetrio tarafından geliştirilen bir yapay zeka asistanıyım. Size nasıl yardımcı olabilirim?\"}],\n",
    "    [{\"role\": \"user\", \"content\": \"Benim için neler yapabilirsin?\"}, {\"role\": \"assistant\", \"content\": \"Bir seyahat planlaması yapmana yardımcı olabilirim. Gideceğin yer hakkında bilgi verebilir, konaklama ve ulaşım seçenekleri sunabilir, gezilecek yerler hakkında önerilerde bulunabilirim.\"}],\n",
    "]})"
   ]
  },
  {
   "cell_type": "code",
   "execution_count": 56,
   "id": "487b7a73",
   "metadata": {},
   "outputs": [
    {
     "data": {
      "text/plain": [
       "Dataset({\n",
       "    features: ['conversations'],\n",
       "    num_rows: 2\n",
       "})"
      ]
     },
     "execution_count": 56,
     "metadata": {},
     "output_type": "execute_result"
    }
   ],
   "source": [
    "ds_custom"
   ]
  },
  {
   "cell_type": "code",
   "execution_count": 59,
   "id": "ad96e080",
   "metadata": {},
   "outputs": [
    {
     "data": {
      "text/plain": [
       "[{'content': 'Sen kimsin?', 'role': 'user'},\n",
       " {'content': 'Benim adım TuristGPT, codetrio tarafından geliştirilen bir yapay zeka asistanıyım. Size nasıl yardımcı olabilirim?',\n",
       "  'role': 'assistant'}]"
      ]
     },
     "execution_count": 59,
     "metadata": {},
     "output_type": "execute_result"
    }
   ],
   "source": [
    "ds_custom[0]['conversations']"
   ]
  },
  {
   "cell_type": "markdown",
   "id": "72598019",
   "metadata": {},
   "source": [
    "# Merged Dataset"
   ]
  },
  {
   "cell_type": "code",
   "execution_count": 66,
   "id": "7bc40104",
   "metadata": {},
   "outputs": [],
   "source": [
    "ds = datasets.concatenate_datasets([ds_finetome, ds_wc_tr, ds_custom])"
   ]
  },
  {
   "cell_type": "code",
   "execution_count": null,
   "id": "5ac33875",
   "metadata": {},
   "outputs": [],
   "source": [
    "import os\n",
    "os.environ[\"HF_TOKEN\"] = \"xxxx\""
   ]
  },
  {
   "cell_type": "code",
   "execution_count": 67,
   "id": "162c80ef",
   "metadata": {},
   "outputs": [
    {
     "data": {
      "application/vnd.jupyter.widget-view+json": {
       "model_id": "f2e1d6da11b84244abb6344900118338",
       "version_major": 2,
       "version_minor": 0
      },
      "text/plain": [
       "Uploading the dataset shards:   0%|          | 0/1 [00:00<?, ?it/s]"
      ]
     },
     "metadata": {},
     "output_type": "display_data"
    },
    {
     "data": {
      "application/vnd.jupyter.widget-view+json": {
       "model_id": "be4e9f79ece44d59a3662f3601fbb65b",
       "version_major": 2,
       "version_minor": 0
      },
      "text/plain": [
       "Creating parquet from Arrow format:   0%|          | 0/17 [00:00<?, ?ba/s]"
      ]
     },
     "metadata": {},
     "output_type": "display_data"
    },
    {
     "data": {
      "text/plain": [
       "CommitInfo(commit_url='https://huggingface.co/datasets/habanoz/FineTume10k-WildChatTr6k/commit/1a6791842adda667b245a36e170d3a9c6f457b9e', commit_message='Upload dataset', commit_description='', oid='1a6791842adda667b245a36e170d3a9c6f457b9e', pr_url=None, pr_revision=None, pr_num=None)"
      ]
     },
     "execution_count": 67,
     "metadata": {},
     "output_type": "execute_result"
    }
   ],
   "source": [
    "ds.push_to_hub(\"habanoz/FineTume10k-WildChatTr6k\", private=False)"
   ]
  },
  {
   "cell_type": "code",
   "execution_count": null,
   "id": "297135ed",
   "metadata": {},
   "outputs": [],
   "source": []
  },
  {
   "cell_type": "code",
   "execution_count": null,
   "id": "31e825ec",
   "metadata": {},
   "outputs": [],
   "source": []
  },
  {
   "cell_type": "markdown",
   "id": "768006a1",
   "metadata": {},
   "source": [
    "# Analyse Data"
   ]
  },
  {
   "cell_type": "code",
   "execution_count": 5,
   "id": "942de10e",
   "metadata": {},
   "outputs": [],
   "source": [
    "import datasets"
   ]
  },
  {
   "cell_type": "code",
   "execution_count": 6,
   "id": "5035cea0",
   "metadata": {},
   "outputs": [],
   "source": [
    "ds_ftwctr = datasets.load_dataset(\"habanoz/FineTume10k-WildChatTr6k\")"
   ]
  },
  {
   "cell_type": "code",
   "execution_count": 7,
   "id": "4ec4bbd2",
   "metadata": {},
   "outputs": [],
   "source": [
    "ds_ftwctr = ds_ftwctr[\"train\"]"
   ]
  },
  {
   "cell_type": "code",
   "execution_count": 8,
   "id": "53a78daf",
   "metadata": {},
   "outputs": [
    {
     "data": {
      "text/plain": [
       "Dataset({\n",
       "    features: ['conversations'],\n",
       "    num_rows: 16106\n",
       "})"
      ]
     },
     "execution_count": 8,
     "metadata": {},
     "output_type": "execute_result"
    }
   ],
   "source": [
    "ds_ftwctr"
   ]
  },
  {
   "cell_type": "code",
   "execution_count": 2,
   "id": "f779b3ba",
   "metadata": {},
   "outputs": [],
   "source": [
    "from transformers import AutoTokenizer"
   ]
  },
  {
   "cell_type": "code",
   "execution_count": 10,
   "id": "295bfd66",
   "metadata": {},
   "outputs": [
    {
     "data": {
      "application/vnd.jupyter.widget-view+json": {
       "model_id": "01603401dde84d5c94bd1c2b83827af6",
       "version_major": 2,
       "version_minor": 0
      },
      "text/plain": [
       "tokenizer_config.json: 0.00B [00:00, ?B/s]"
      ]
     },
     "metadata": {},
     "output_type": "display_data"
    },
    {
     "data": {
      "application/vnd.jupyter.widget-view+json": {
       "model_id": "efa4d760d3ce41c9843716adc4b8af6f",
       "version_major": 2,
       "version_minor": 0
      },
      "text/plain": [
       "vocab.json: 0.00B [00:00, ?B/s]"
      ]
     },
     "metadata": {},
     "output_type": "display_data"
    },
    {
     "data": {
      "application/vnd.jupyter.widget-view+json": {
       "model_id": "636a00f5942d49aaaf1f97afe435137c",
       "version_major": 2,
       "version_minor": 0
      },
      "text/plain": [
       "merges.txt: 0.00B [00:00, ?B/s]"
      ]
     },
     "metadata": {},
     "output_type": "display_data"
    },
    {
     "data": {
      "application/vnd.jupyter.widget-view+json": {
       "model_id": "a8a876752a964d36b4a0aa646f2988ab",
       "version_major": 2,
       "version_minor": 0
      },
      "text/plain": [
       "tokenizer.json: 0.00B [00:00, ?B/s]"
      ]
     },
     "metadata": {},
     "output_type": "display_data"
    }
   ],
   "source": [
    "tokenizer = AutoTokenizer.from_pretrained(\"Qwen/Qwen3-8B-Base\")"
   ]
  },
  {
   "cell_type": "code",
   "execution_count": 11,
   "id": "73b0743c",
   "metadata": {},
   "outputs": [
    {
     "data": {
      "text/plain": [
       "'{%- if tools %}\\n    {{- \\'<|im_start|>system\\\\n\\' }}\\n    {%- if messages[0].role == \\'system\\' %}\\n        {{- messages[0].content + \\'\\\\n\\\\n\\' }}\\n    {%- endif %}\\n    {{- \"# Tools\\\\n\\\\nYou may call one or more functions to assist with the user query.\\\\n\\\\nYou are provided with function signatures within <tools></tools> XML tags:\\\\n<tools>\" }}\\n    {%- for tool in tools %}\\n        {{- \"\\\\n\" }}\\n        {{- tool | tojson }}\\n    {%- endfor %}\\n    {{- \"\\\\n</tools>\\\\n\\\\nFor each function call, return a json object with function name and arguments within <tool_call></tool_call> XML tags:\\\\n<tool_call>\\\\n{\\\\\"name\\\\\": <function-name>, \\\\\"arguments\\\\\": <args-json-object>}\\\\n</tool_call><|im_end|>\\\\n\" }}\\n{%- else %}\\n    {%- if messages[0].role == \\'system\\' %}\\n        {{- \\'<|im_start|>system\\\\n\\' + messages[0].content + \\'<|im_end|>\\\\n\\' }}\\n    {%- endif %}\\n{%- endif %}\\n{%- set ns = namespace(multi_step_tool=true, last_query_index=messages|length - 1) %}\\n{%- for message in messages[::-1] %}\\n    {%- set index = (messages|length - 1) - loop.index0 %}\\n    {%- if ns.multi_step_tool and message.role == \"user\" and not(message.content.startswith(\\'<tool_response>\\') and message.content.endswith(\\'</tool_response>\\')) %}\\n        {%- set ns.multi_step_tool = false %}\\n        {%- set ns.last_query_index = index %}\\n    {%- endif %}\\n{%- endfor %}\\n{%- for message in messages %}\\n    {%- if (message.role == \"user\") or (message.role == \"system\" and not loop.first) %}\\n        {{- \\'<|im_start|>\\' + message.role + \\'\\\\n\\' + message.content + \\'<|im_end|>\\' + \\'\\\\n\\' }}\\n    {%- elif message.role == \"assistant\" %}\\n        {%- set content = message.content %}\\n        {%- set reasoning_content = \\'\\' %}\\n        {%- if message.reasoning_content is defined and message.reasoning_content is not none %}\\n            {%- set reasoning_content = message.reasoning_content %}\\n        {%- else %}\\n            {%- if \\'</think>\\' in message.content %}\\n                {%- set content = message.content.split(\\'</think>\\')[-1].lstrip(\\'\\\\n\\') %}\\n                {%- set reasoning_content = message.content.split(\\'</think>\\')[0].rstrip(\\'\\\\n\\').split(\\'<think>\\')[-1].lstrip(\\'\\\\n\\') %}\\n            {%- endif %}\\n        {%- endif %}\\n        {%- if loop.index0 > ns.last_query_index %}\\n            {%- if loop.last or (not loop.last and reasoning_content) %}\\n                {{- \\'<|im_start|>\\' + message.role + \\'\\\\n<think>\\\\n\\' + reasoning_content.strip(\\'\\\\n\\') + \\'\\\\n</think>\\\\n\\\\n\\' + content.lstrip(\\'\\\\n\\') }}\\n            {%- else %}\\n                {{- \\'<|im_start|>\\' + message.role + \\'\\\\n\\' + content }}\\n            {%- endif %}\\n        {%- else %}\\n            {{- \\'<|im_start|>\\' + message.role + \\'\\\\n\\' + content }}\\n        {%- endif %}\\n        {%- if message.tool_calls %}\\n            {%- for tool_call in message.tool_calls %}\\n                {%- if (loop.first and content) or (not loop.first) %}\\n                    {{- \\'\\\\n\\' }}\\n                {%- endif %}\\n                {%- if tool_call.function %}\\n                    {%- set tool_call = tool_call.function %}\\n                {%- endif %}\\n                {{- \\'<tool_call>\\\\n{\"name\": \"\\' }}\\n                {{- tool_call.name }}\\n                {{- \\'\", \"arguments\": \\' }}\\n                {%- if tool_call.arguments is string %}\\n                    {{- tool_call.arguments }}\\n                {%- else %}\\n                    {{- tool_call.arguments | tojson }}\\n                {%- endif %}\\n                {{- \\'}\\\\n</tool_call>\\' }}\\n            {%- endfor %}\\n        {%- endif %}\\n        {{- \\'<|im_end|>\\\\n\\' }}\\n    {%- elif message.role == \"tool\" %}\\n        {%- if loop.first or (messages[loop.index0 - 1].role != \"tool\") %}\\n            {{- \\'<|im_start|>user\\' }}\\n        {%- endif %}\\n        {{- \\'\\\\n<tool_response>\\\\n\\' }}\\n        {{- message.content }}\\n        {{- \\'\\\\n</tool_response>\\' }}\\n        {%- if loop.last or (messages[loop.index0 + 1].role != \"tool\") %}\\n            {{- \\'<|im_end|>\\\\n\\' }}\\n        {%- endif %}\\n    {%- endif %}\\n{%- endfor %}\\n{%- if add_generation_prompt %}\\n    {{- \\'<|im_start|>assistant\\\\n\\' }}\\n    {%- if enable_thinking is defined and enable_thinking is false %}\\n        {{- \\'<think>\\\\n\\\\n</think>\\\\n\\\\n\\' }}\\n    {%- endif %}\\n{%- endif %}'"
      ]
     },
     "execution_count": 11,
     "metadata": {},
     "output_type": "execute_result"
    }
   ],
   "source": [
    "tokenizer.chat_template"
   ]
  },
  {
   "cell_type": "code",
   "execution_count": 14,
   "id": "382888a4",
   "metadata": {},
   "outputs": [
    {
     "data": {
      "application/vnd.jupyter.widget-view+json": {
       "model_id": "8993b6d3b97a4943a5e820dbe01db175",
       "version_major": 2,
       "version_minor": 0
      },
      "text/plain": [
       "Map:   0%|          | 0/16106 [00:00<?, ? examples/s]"
      ]
     },
     "metadata": {},
     "output_type": "display_data"
    }
   ],
   "source": [
    "ds_ftwctr = ds_ftwctr.map(lambda x: {\"input_ids\": tokenizer.apply_chat_template(x[\"conversations\"], tokenize=True)})"
   ]
  },
  {
   "cell_type": "code",
   "execution_count": 15,
   "id": "52a124e7",
   "metadata": {},
   "outputs": [
    {
     "data": {
      "text/plain": [
       "Dataset({\n",
       "    features: ['conversations', 'input_ids'],\n",
       "    num_rows: 16106\n",
       "})"
      ]
     },
     "execution_count": 15,
     "metadata": {},
     "output_type": "execute_result"
    }
   ],
   "source": [
    "ds_ftwctr"
   ]
  },
  {
   "cell_type": "code",
   "execution_count": 16,
   "id": "c6e24d17",
   "metadata": {},
   "outputs": [
    {
     "data": {
      "text/plain": [
       "'<|im_start|>user\\nGive three types of computer graphics.<|im_end|>\\n<|im_start|>assistant\\n<think>\\n\\n</think>\\n\\n1. Raster Graphics: These are also called bitmap graphics and are composed of pixels arranged in a grid. Each pixel can have a different color and shade. Raster graphics excel at representing photographic images and digital painting.\\n\\n2. Vector Graphics: These graphics are constructed using mathematical formulas representing geometric shapes like lines, curves, and polygons. They are resolution-independent, meaning they can be scaled up or down in size without losing quality. Vector graphics are commonly used for logos, icons, typography and illustrations.\\n\\n3. 3D Graphics: These graphics are used to create three-dimensional digital representations of objects. 3D graphics use techniques like modeling, rendering, and shading to simulate depth and surface properties. These graphics are used in animation, video games, architecture, engineering, and virtual reality.<|im_end|>\\n'"
      ]
     },
     "execution_count": 16,
     "metadata": {},
     "output_type": "execute_result"
    }
   ],
   "source": [
    "tokenizer.apply_chat_template(ds_ftwctr[0][\"conversations\"], tokenize=False)"
   ]
  },
  {
   "cell_type": "code",
   "execution_count": 17,
   "id": "f2b41f4a",
   "metadata": {},
   "outputs": [
    {
     "data": {
      "application/vnd.jupyter.widget-view+json": {
       "model_id": "bd81c248ed384a479ef1fa50fcc821e3",
       "version_major": 2,
       "version_minor": 0
      },
      "text/plain": [
       "Map:   0%|          | 0/16106 [00:00<?, ? examples/s]"
      ]
     },
     "metadata": {},
     "output_type": "display_data"
    }
   ],
   "source": [
    "ds_ftwctr = ds_ftwctr.map(lambda x: {\"len\": len(x[\"input_ids\"])})"
   ]
  },
  {
   "cell_type": "code",
   "execution_count": 18,
   "id": "5de0f767",
   "metadata": {},
   "outputs": [
    {
     "data": {
      "text/plain": [
       "Dataset({\n",
       "    features: ['conversations', 'input_ids', 'len'],\n",
       "    num_rows: 16106\n",
       "})"
      ]
     },
     "execution_count": 18,
     "metadata": {},
     "output_type": "execute_result"
    }
   ],
   "source": [
    "ds_ftwctr"
   ]
  },
  {
   "cell_type": "code",
   "execution_count": 19,
   "id": "3d88925b",
   "metadata": {},
   "outputs": [],
   "source": [
    "dsp = ds_ftwctr.to_pandas()"
   ]
  },
  {
   "cell_type": "code",
   "execution_count": 30,
   "id": "c679be7a",
   "metadata": {},
   "outputs": [
    {
     "data": {
      "text/plain": [
       "0.500       510.00\n",
       "0.750       968.00\n",
       "0.900      1946.00\n",
       "0.950      3124.00\n",
       "0.990      7092.90\n",
       "0.999     31061.09\n",
       "1.000    110925.00\n",
       "Name: len, dtype: float64"
      ]
     },
     "execution_count": 30,
     "metadata": {},
     "output_type": "execute_result"
    }
   ],
   "source": [
    "dsp[\"len\"].quantile([0.5, 0.75, 0.9 , 0.95, 0.99, 0.999, 1.00])"
   ]
  },
  {
   "cell_type": "code",
   "execution_count": 31,
   "id": "6bf08063",
   "metadata": {},
   "outputs": [
    {
     "data": {
      "application/vnd.jupyter.widget-view+json": {
       "model_id": "0e939f9306a74c0883f31c006781e6a4",
       "version_major": 2,
       "version_minor": 0
      },
      "text/plain": [
       "Filter:   0%|          | 0/16106 [00:00<?, ? examples/s]"
      ]
     },
     "metadata": {},
     "output_type": "display_data"
    }
   ],
   "source": [
    "ds_ftwctr_8192 = ds_ftwctr.filter(lambda x: x['len']<=8192)"
   ]
  },
  {
   "cell_type": "code",
   "execution_count": 32,
   "id": "09e1c787",
   "metadata": {},
   "outputs": [
    {
     "data": {
      "text/plain": [
       "Dataset({\n",
       "    features: ['conversations', 'input_ids', 'len'],\n",
       "    num_rows: 15970\n",
       "})"
      ]
     },
     "execution_count": 32,
     "metadata": {},
     "output_type": "execute_result"
    }
   ],
   "source": [
    "ds_ftwctr_8192"
   ]
  },
  {
   "cell_type": "code",
   "execution_count": 33,
   "id": "6aab123a",
   "metadata": {},
   "outputs": [],
   "source": [
    "ds_ftwctr_8192 = ds_ftwctr_8192.remove_columns(['input_ids', 'len'])"
   ]
  },
  {
   "cell_type": "code",
   "execution_count": 34,
   "id": "1011f77f",
   "metadata": {},
   "outputs": [
    {
     "data": {
      "application/vnd.jupyter.widget-view+json": {
       "model_id": "01dfbb11f4c846dcae80e1263d5f675f",
       "version_major": 2,
       "version_minor": 0
      },
      "text/plain": [
       "Uploading the dataset shards:   0%|          | 0/1 [00:00<?, ?it/s]"
      ]
     },
     "metadata": {},
     "output_type": "display_data"
    },
    {
     "data": {
      "application/vnd.jupyter.widget-view+json": {
       "model_id": "f51e5bd8fa1b4cc79d8bbe4fa46cf087",
       "version_major": 2,
       "version_minor": 0
      },
      "text/plain": [
       "Creating parquet from Arrow format:   0%|          | 0/16 [00:00<?, ?ba/s]"
      ]
     },
     "metadata": {},
     "output_type": "display_data"
    },
    {
     "name": "stderr",
     "output_type": "stream",
     "text": [
      "Uploading files as a binary IO buffer is not supported by Xet Storage. Falling back to HTTP upload.\n"
     ]
    },
    {
     "data": {
      "text/plain": [
       "CommitInfo(commit_url='https://huggingface.co/datasets/habanoz/FineTume10k-WildChatTr6k-8192/commit/9b1702d0643a31baf64a9a8af57ae531f6bc4818', commit_message='Upload dataset', commit_description='', oid='9b1702d0643a31baf64a9a8af57ae531f6bc4818', pr_url=None, repo_url=RepoUrl('https://huggingface.co/datasets/habanoz/FineTume10k-WildChatTr6k-8192', endpoint='https://huggingface.co', repo_type='dataset', repo_id='habanoz/FineTume10k-WildChatTr6k-8192'), pr_revision=None, pr_num=None)"
      ]
     },
     "execution_count": 34,
     "metadata": {},
     "output_type": "execute_result"
    }
   ],
   "source": [
    "ds_ftwctr_8192.push_to_hub(\"habanoz/FineTume10k-WildChatTr6k-8192\", private=False)"
   ]
  },
  {
   "cell_type": "code",
   "execution_count": null,
   "id": "f976fce9",
   "metadata": {},
   "outputs": [],
   "source": []
  }
 ],
 "metadata": {
  "kernelspec": {
   "display_name": "myenv",
   "language": "python",
   "name": "python3"
  },
  "language_info": {
   "codemirror_mode": {
    "name": "ipython",
    "version": 3
   },
   "file_extension": ".py",
   "mimetype": "text/x-python",
   "name": "python",
   "nbconvert_exporter": "python",
   "pygments_lexer": "ipython3",
   "version": "3.11.9"
  }
 },
 "nbformat": 4,
 "nbformat_minor": 5
}
