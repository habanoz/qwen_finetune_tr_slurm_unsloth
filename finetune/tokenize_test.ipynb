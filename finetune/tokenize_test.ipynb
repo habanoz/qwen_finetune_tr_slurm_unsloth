{
 "cells": [
  {
   "cell_type": "code",
   "execution_count": 18,
   "id": "f17280c4",
   "metadata": {},
   "outputs": [],
   "source": [
    "from datasets import load_dataset\n",
    "import json"
   ]
  },
  {
   "cell_type": "code",
   "execution_count": 2,
   "id": "5a7d65f8",
   "metadata": {},
   "outputs": [
    {
     "data": {
      "application/vnd.jupyter.widget-view+json": {
       "model_id": "c33a2070843843ccbfa0eb020a7b868c",
       "version_major": 2,
       "version_minor": 0
      },
      "text/plain": [
       "Downloading readme:   0%|          | 0.00/453 [00:00<?, ?B/s]"
      ]
     },
     "metadata": {},
     "output_type": "display_data"
    },
    {
     "data": {
      "application/vnd.jupyter.widget-view+json": {
       "model_id": "9ae4cb16bf1a409d8b815f73aedcd1d3",
       "version_major": 2,
       "version_minor": 0
      },
      "text/plain": [
       "Downloading data:   0%|          | 0.00/49.3M [00:00<?, ?B/s]"
      ]
     },
     "metadata": {},
     "output_type": "display_data"
    },
    {
     "data": {
      "application/vnd.jupyter.widget-view+json": {
       "model_id": "e83957fd917a4d50817083ddd545e0e2",
       "version_major": 2,
       "version_minor": 0
      },
      "text/plain": [
       "Generating train split:   0%|          | 0/28530 [00:00<?, ? examples/s]"
      ]
     },
     "metadata": {},
     "output_type": "display_data"
    }
   ],
   "source": [
    "ds = load_dataset(\"habanoz/finetune_mix_v1\")"
   ]
  },
  {
   "cell_type": "code",
   "execution_count": 3,
   "id": "e9eff02f",
   "metadata": {},
   "outputs": [],
   "source": [
    "from transformers import AutoTokenizer"
   ]
  },
  {
   "cell_type": "code",
   "execution_count": 4,
   "id": "a9643096",
   "metadata": {},
   "outputs": [
    {
     "data": {
      "application/vnd.jupyter.widget-view+json": {
       "model_id": "ca4b57fdaf9e43f79adea4646c3d0e3d",
       "version_major": 2,
       "version_minor": 0
      },
      "text/plain": [
       "tokenizer_config.json: 0.00B [00:00, ?B/s]"
      ]
     },
     "metadata": {},
     "output_type": "display_data"
    },
    {
     "data": {
      "application/vnd.jupyter.widget-view+json": {
       "model_id": "65ae40fa73a34e3984563737a5934c9d",
       "version_major": 2,
       "version_minor": 0
      },
      "text/plain": [
       "vocab.json: 0.00B [00:00, ?B/s]"
      ]
     },
     "metadata": {},
     "output_type": "display_data"
    },
    {
     "data": {
      "application/vnd.jupyter.widget-view+json": {
       "model_id": "3a4e220435c148839d06980cd1d3b5fc",
       "version_major": 2,
       "version_minor": 0
      },
      "text/plain": [
       "merges.txt: 0.00B [00:00, ?B/s]"
      ]
     },
     "metadata": {},
     "output_type": "display_data"
    },
    {
     "data": {
      "application/vnd.jupyter.widget-view+json": {
       "model_id": "78ab20dbdebf461e8e7dba3ee92c1530",
       "version_major": 2,
       "version_minor": 0
      },
      "text/plain": [
       "tokenizer.json:   0%|          | 0.00/11.4M [00:00<?, ?B/s]"
      ]
     },
     "metadata": {},
     "output_type": "display_data"
    }
   ],
   "source": [
    "tokenizer = AutoTokenizer.from_pretrained(\"Qwen/Qwen3-8B\")"
   ]
  },
  {
   "cell_type": "code",
   "execution_count": 38,
   "id": "1b4d8366",
   "metadata": {},
   "outputs": [],
   "source": [
    "ds_sub = ds[\"train\"].take(2)"
   ]
  },
  {
   "cell_type": "code",
   "execution_count": 39,
   "id": "00e3536f",
   "metadata": {},
   "outputs": [
    {
     "data": {
      "text/plain": [
       "Dataset({\n",
       "    features: ['conversations', 'tools'],\n",
       "    num_rows: 2\n",
       "})"
      ]
     },
     "execution_count": 39,
     "metadata": {},
     "output_type": "execute_result"
    }
   ],
   "source": [
    "ds_sub"
   ]
  },
  {
   "cell_type": "code",
   "execution_count": 74,
   "id": "f8daaa6d",
   "metadata": {},
   "outputs": [],
   "source": [
    "def formatting_prompts_func(example):\n",
    "    convos = [msg|{'tool_calls':json.loads(msg['tool_calls']) if msg['tool_calls'] else None } for msg in example[\"conversations\"]]\n",
    "    tools = json.loads(example[\"tools\"])\n",
    "    text = tokenizer.apply_chat_template(convos, tokenize = False, add_generation_prompt = False, tools=tools)\n",
    "    print(text)\n",
    "    return { \"text\" : text }"
   ]
  },
  {
   "cell_type": "code",
   "execution_count": 75,
   "id": "2d088b08",
   "metadata": {},
   "outputs": [
    {
     "data": {
      "application/vnd.jupyter.widget-view+json": {
       "model_id": "248acd7b7f404932a89434bcc65526ab",
       "version_major": 2,
       "version_minor": 0
      },
      "text/plain": [
       "Map:   0%|          | 0/2 [00:00<?, ? examples/s]"
      ]
     },
     "metadata": {},
     "output_type": "display_data"
    },
    {
     "name": "stdout",
     "output_type": "stream",
     "text": [
      "<|im_start|>user\n",
      "Can brain cells move? By movement I mean long distance migration (preferably within the brain only).<|im_end|>\n",
      "<|im_start|>assistant\n",
      "<think>\n",
      "\n",
      "</think>\n",
      "\n",
      "The question is relatively broad and one should take into account that the brain not only consists of neurons, but also glial cells (supportive cells) and pre-mitotic neuronal stem cells. Furthermore, as critical fellow-scientists have indicated, developmental stage is very important, as the developing embryonic brain is very different from the adult brain.\n",
      "However, after sifting through various publications, the answer to the question is actually remarkably simple: Yes, brain cells migrate.\n",
      "In  the adult brain glial cells migrate in the brain (Klämbt, 2009). Glial cells are involved in a myriad of functions, but a notable example of migrating glial cells are the oligodendrocytes that migrate relative long distances to find their target axons onto which they wrap themselves to form the insulating myelin sheath (Tsai and Miller, 2002).\n",
      "Neuronal stem cells migrate over long distances in response to injury (Imitola et al., 2004) and they migrate from specific stem-cell locations (e.g., hippocampus and subventricular zone) to other regions (Clarke, 2003).\n",
      "Post-mitotic, but non-differentiated neurons have been shown to migrate in the adult brain in fish (Scott et al., 2012), and in mammals and non-human primates as well (Sawada et al., 2011).\n",
      "Not surprisingly, glial cells, stem cells and neurons also migrate during embryonic development. Most notably, post-mitotic neurons destined to fulfill peripheral functions have to migrate over relatively long distances from the neural crest to their target locations (Neuroscience, 2nd ed, Neuronal Migration).<|im_end|>\n",
      "\n",
      "<|im_start|>user\n",
      "In our computer systems lecture we were introduced to the MIPS processor. It was (re)developed over the course of the term and has in fact been quite easy to understand. It uses a RISC design, that is its elementary commands are regularly encoded and there are only few of them in order to keep the wires simple.\n",
      "It was mentioned that CISC follows a different philosophy. I looked briefly at the x86 instruction set and was shocked. I can not image how anyone would want to build a processor that uses so complex a command set!\n",
      "So I figure there have to be good arguments why large portions of the processor market use CISC architectures. What are they? <|im_end|>\n",
      "<|im_start|>assistant\n",
      "<think>\n",
      "\n",
      "</think>\n",
      "\n",
      "There is a general historical trend.\n",
      "In the olden days, memories were small, and so programs were perforce small. Also, compilers were not very smart, and many programs were written in assembler, so it was considered a good thing to be able to write a program using few instructions. Instruction pipelines were simple, and processors grabbed one instruction at a time to execute it. The machinery inside the processor was quite complex anyway; decoding instructions was not felt to be much of a burden. \n",
      "In the 1970s, CPU and compiler designers realized that having such complex instructions was not so helpful after all. It was difficult to design processors in which those instructions were really efficient, and it was difficult to design compilers that really took advantage of these instructions. Chip area and compiler complexity was better spent on more generic pursuits such as more general-purpose registers. The Wikipedia article on RISC explains this in more detail.\n",
      "MIPS is the ultimate RISC architecture, which is why it's taught so often.\n",
      "The x86 family is a bit different. It was originally a CISC architecture meant for systems with very small memory (no room for large instructions), and has undergone many successive versions. Today's x86 instruction set is not only complicated because it's CISC, but because it's really a 8088 with a 80386 with a Pentium possibly with an x86_64 processor.\n",
      "In today's world, RISC and CISC are no longer the black-and-white distinction they might have been once. Most CPU architectures have evolved to different shades of grey.\n",
      "On the RISC side, some modern MIPS variants have added multiplication and division instructions, with a non-uniform encoding. ARM processors have become more complex: many of them have a 16-bit instruction set called Thumb in addition to the “original” 32-bit instructions, not to mention Jazelle to execute JVM instructions on the CPU. Modern ARM processors also have SIMD instructions for multimedia applications: some complex instructions do pay after all.\n",
      "On the CISC side, all recent processors are to some extent RISC inside. They have microcode to define all these complex macro instructions. The sheer complexity of the processor makes the design of each model take several years, even with a RISC design, what with the large number of components, with pipelining and predictive execution and whatnot.\n",
      "So why do the fastest processors remain CISC outside? Part of it, in the case of the x86 (32-bit and 64-bit) family, is historical compatibility. But that's not the whole of it. In the early 2000s, Intel tried pushing the Itanium architecture. Itanium is an extreme case of complex instructions (not really CISC, though: its design has been dubbed EPIC). It even does away with the old-fashioned idea of executing instructions in sequence: all instructions are executed in parallel until the next barrier. One of the reasons Itanium didn't take is that nobody, whether at Intel or elsewhere, could write a decent compiler for it. Now a good old mostly-sequential processor like x86_64, that's something we understand.<|im_end|>\n",
      "\n"
     ]
    }
   ],
   "source": [
    "ds_sub_new = ds_sub.map(formatting_prompts_func, batched=False, batch_size=4)"
   ]
  },
  {
   "cell_type": "code",
   "execution_count": 70,
   "id": "bc66542f",
   "metadata": {},
   "outputs": [
    {
     "data": {
      "text/plain": [
       "Dataset({\n",
       "    features: ['conversations', 'tools', 'text'],\n",
       "    num_rows: 2\n",
       "})"
      ]
     },
     "execution_count": 70,
     "metadata": {},
     "output_type": "execute_result"
    }
   ],
   "source": [
    "ds_sub_new"
   ]
  },
  {
   "cell_type": "code",
   "execution_count": 62,
   "id": "de5c0ef1",
   "metadata": {},
   "outputs": [
    {
     "data": {
      "text/plain": [
       "'<|im_start|>user\\nCan brain cells move? By movement I mean long distance migration (preferably within the brain only).<|im_end|>\\n<|im_start|>assistant\\n<think>\\n\\n</think>\\n\\nThe question is relatively broad and one should take into account that the brain not only consists of neurons, but also glial cells (supportive cells) and pre-mitotic neuronal stem cells. Furthermore, as critical fellow-scientists have indicated, developmental stage is very important, as the developing embryonic brain is very different from the adult brain.\\nHowever, after sifting through various publications, the answer to the question is actually remarkably simple: Yes, brain cells migrate.\\nIn  the adult brain glial cells migrate in the brain (Klämbt, 2009). Glial cells are involved in a myriad of functions, but a notable example of migrating glial cells are the oligodendrocytes that migrate relative long distances to find their target axons onto which they wrap themselves to form the insulating myelin sheath (Tsai and Miller, 2002).\\nNeuronal stem cells migrate over long distances in response to injury (Imitola et al., 2004) and they migrate from specific stem-cell locations (e.g., hippocampus and subventricular zone) to other regions (Clarke, 2003).\\nPost-mitotic, but non-differentiated neurons have been shown to migrate in the adult brain in fish (Scott et al., 2012), and in mammals and non-human primates as well (Sawada et al., 2011).\\nNot surprisingly, glial cells, stem cells and neurons also migrate during embryonic development. Most notably, post-mitotic neurons destined to fulfill peripheral functions have to migrate over relatively long distances from the neural crest to their target locations (Neuroscience, 2nd ed, Neuronal Migration).<|im_end|>\\n'"
      ]
     },
     "execution_count": 62,
     "metadata": {},
     "output_type": "execute_result"
    }
   ],
   "source": [
    "ds_sub_new['text'][0]"
   ]
  },
  {
   "cell_type": "code",
   "execution_count": 67,
   "id": "2aeecd81",
   "metadata": {},
   "outputs": [
    {
     "data": {
      "text/plain": [
       "['<|im_start|>user\\nCan brain cells move? By movement I mean long distance migration (preferably within the brain only).<|im_end|>\\n<|im_start|>assistant\\n<think>\\n\\n</think>\\n\\nThe question is relatively broad and one should take into account that the brain not only consists of neurons, but also glial cells (supportive cells) and pre-mitotic neuronal stem cells. Furthermore, as critical fellow-scientists have indicated, developmental stage is very important, as the developing embryonic brain is very different from the adult brain.\\nHowever, after sifting through various publications, the answer to the question is actually remarkably simple: Yes, brain cells migrate.\\nIn  the adult brain glial cells migrate in the brain (Klämbt, 2009). Glial cells are involved in a myriad of functions, but a notable example of migrating glial cells are the oligodendrocytes that migrate relative long distances to find their target axons onto which they wrap themselves to form the insulating myelin sheath (Tsai and Miller, 2002).\\nNeuronal stem cells migrate over long distances in response to injury (Imitola et al., 2004) and they migrate from specific stem-cell locations (e.g., hippocampus and subventricular zone) to other regions (Clarke, 2003).\\nPost-mitotic, but non-differentiated neurons have been shown to migrate in the adult brain in fish (Scott et al., 2012), and in mammals and non-human primates as well (Sawada et al., 2011).\\nNot surprisingly, glial cells, stem cells and neurons also migrate during embryonic development. Most notably, post-mitotic neurons destined to fulfill peripheral functions have to migrate over relatively long distances from the neural crest to their target locations (Neuroscience, 2nd ed, Neuronal Migration).<|im_end|>\\n']"
      ]
     },
     "execution_count": 67,
     "metadata": {},
     "output_type": "execute_result"
    }
   ],
   "source": [
    "ds_sub_new['text'][0]"
   ]
  },
  {
   "cell_type": "code",
   "execution_count": 51,
   "id": "1badf00d",
   "metadata": {},
   "outputs": [],
   "source": [
    "ds_sub_tools = ds[\"train\"].filter(lambda x: x['tools']!='null').take(2)"
   ]
  },
  {
   "cell_type": "code",
   "execution_count": 52,
   "id": "edab0bbb",
   "metadata": {},
   "outputs": [
    {
     "data": {
      "text/plain": [
       "{'conversations': [{'content': \"Tokyo'da gezilecek en iyi 7 yeri öğrenebilir miyim?\",\n",
       "   'role': 'user',\n",
       "   'tool_calls': None},\n",
       "  {'content': '',\n",
       "   'role': 'assistant',\n",
       "   'tool_calls': '[{\"name\": \"list_attractions\", \"arguments\": {\"city\": \"Tokyo\", \"limit\": 7}}]'}],\n",
       " 'tools': '[{\"name\": \"list_attractions\", \"description\": \"List top attractions for the given city. Returns an array of attraction objects (name, address, shortDescription, rating, category).\", \"parameters\": {\"type\": \"object\", \"properties\": {\"city\": {\"type\": \"string\", \"description\": \"City name or query (e.g., \\'Paris, France\\' or \\'Seattle, WA\\').\"}, \"limit\": {\"type\": \"integer\", \"description\": \"Maximum number of attractions to return.\", \"minimum\": 1, \"default\": 10}}, \"required\": [\"city\"]}}, {\"name\": \"search_hotel\", \"description\": \"Search for hotels for the given check-in/check-out dates and number of guests. Returns an array of hotel objects (name, address, rating, availableRooms, price {amount, currency}, bookingUrl). Dates should be ISO 8601 (YYYY-MM-DD).\", \"parameters\": {\"type\": \"object\", \"properties\": {\"checkInDate\": {\"type\": \"string\", \"description\": \"Check-in date in YYYY-MM-DD (ISO 8601).\", \"format\": \"date\"}, \"checkOutDate\": {\"type\": \"string\", \"description\": \"Check-out date in YYYY-MM-DD (ISO 8601).\", \"format\": \"date\"}, \"guests\": {\"type\": \"integer\", \"description\": \"Number of guests (integer >= 1).\", \"minimum\": 1}}, \"required\": [\"checkInDate\", \"checkOutDate\", \"guests\"]}}, {\"name\": \"search_web\", \"description\": \"Search the web for the given query. Returns an array of result strings (title + URL).\", \"parameters\": {\"type\": \"object\", \"properties\": {\"query\": {\"type\": \"string\", \"description\": \"Search query text\"}}, \"required\": [\"query\"]}}, {\"name\": \"search_youtube\", \"description\": \"Search YouTube for videos related to the query and transcribe them to text. Primarily can be used to find travel blog videos and extract travel details in text. Returns an array of video objects: { title, url, transcript (string) }.\", \"parameters\": {\"type\": \"object\", \"properties\": {\"query\": {\"type\": \"string\", \"description\": \"Search query text (e.g., \\'London in 5 days\\', \\'weekend Paris tour\\').\"}}, \"required\": [\"query\"]}}, {\"name\": \"search_flight\", \"description\": \"Search for round-trip flights for the given dates and number of passengers. Returns an array of flight objects (airline, flightNumber, departureDateTime, arrivalDateTime, duration, stops, price {amount, currency}, bookingUrl). Dates should be ISO 8601 (YYYY-MM-DD).\", \"parameters\": {\"type\": \"object\", \"properties\": {\"departureDate\": {\"type\": \"string\", \"description\": \"Outbound departure date in YYYY-MM-DD (ISO 8601).\", \"format\": \"date\"}, \"returnDate\": {\"type\": \"string\", \"description\": \"Return date in YYYY-MM-DD (ISO 8601).\", \"format\": \"date\"}, \"passengers\": {\"type\": \"integer\", \"description\": \"Number of passengers (integer >= 1).\", \"minimum\": 1}}, \"required\": [\"departureDate\", \"returnDate\", \"passengers\"]}}]'}"
      ]
     },
     "execution_count": 52,
     "metadata": {},
     "output_type": "execute_result"
    }
   ],
   "source": [
    "ds_sub_tools[0]"
   ]
  },
  {
   "cell_type": "code",
   "execution_count": 53,
   "id": "64f9ed46",
   "metadata": {},
   "outputs": [
    {
     "data": {
      "application/vnd.jupyter.widget-view+json": {
       "model_id": "6691e23dfd3840a3a5863062996af312",
       "version_major": 2,
       "version_minor": 0
      },
      "text/plain": [
       "Map:   0%|          | 0/2 [00:00<?, ? examples/s]"
      ]
     },
     "metadata": {},
     "output_type": "display_data"
    },
    {
     "name": "stdout",
     "output_type": "stream",
     "text": [
      "[{'content': \"Tokyo'da gezilecek en iyi 7 yeri öğrenebilir miyim?\", 'role': 'user', 'tool_calls': None}, {'content': '', 'role': 'assistant', 'tool_calls': [{'name': 'list_attractions', 'arguments': {'city': 'Tokyo', 'limit': 7}}]}]\n",
      "[{'name': 'list_attractions', 'description': 'List top attractions for the given city. Returns an array of attraction objects (name, address, shortDescription, rating, category).', 'parameters': {'type': 'object', 'properties': {'city': {'type': 'string', 'description': \"City name or query (e.g., 'Paris, France' or 'Seattle, WA').\"}, 'limit': {'type': 'integer', 'description': 'Maximum number of attractions to return.', 'minimum': 1, 'default': 10}}, 'required': ['city']}}, {'name': 'search_hotel', 'description': 'Search for hotels for the given check-in/check-out dates and number of guests. Returns an array of hotel objects (name, address, rating, availableRooms, price {amount, currency}, bookingUrl). Dates should be ISO 8601 (YYYY-MM-DD).', 'parameters': {'type': 'object', 'properties': {'checkInDate': {'type': 'string', 'description': 'Check-in date in YYYY-MM-DD (ISO 8601).', 'format': 'date'}, 'checkOutDate': {'type': 'string', 'description': 'Check-out date in YYYY-MM-DD (ISO 8601).', 'format': 'date'}, 'guests': {'type': 'integer', 'description': 'Number of guests (integer >= 1).', 'minimum': 1}}, 'required': ['checkInDate', 'checkOutDate', 'guests']}}, {'name': 'search_web', 'description': 'Search the web for the given query. Returns an array of result strings (title + URL).', 'parameters': {'type': 'object', 'properties': {'query': {'type': 'string', 'description': 'Search query text'}}, 'required': ['query']}}, {'name': 'search_youtube', 'description': 'Search YouTube for videos related to the query and transcribe them to text. Primarily can be used to find travel blog videos and extract travel details in text. Returns an array of video objects: { title, url, transcript (string) }.', 'parameters': {'type': 'object', 'properties': {'query': {'type': 'string', 'description': \"Search query text (e.g., 'London in 5 days', 'weekend Paris tour').\"}}, 'required': ['query']}}, {'name': 'search_flight', 'description': 'Search for round-trip flights for the given dates and number of passengers. Returns an array of flight objects (airline, flightNumber, departureDateTime, arrivalDateTime, duration, stops, price {amount, currency}, bookingUrl). Dates should be ISO 8601 (YYYY-MM-DD).', 'parameters': {'type': 'object', 'properties': {'departureDate': {'type': 'string', 'description': 'Outbound departure date in YYYY-MM-DD (ISO 8601).', 'format': 'date'}, 'returnDate': {'type': 'string', 'description': 'Return date in YYYY-MM-DD (ISO 8601).', 'format': 'date'}, 'passengers': {'type': 'integer', 'description': 'Number of passengers (integer >= 1).', 'minimum': 1}}, 'required': ['departureDate', 'returnDate', 'passengers']}}]\n",
      "<|im_start|>system\n",
      "# Tools\n",
      "\n",
      "You may call one or more functions to assist with the user query.\n",
      "\n",
      "You are provided with function signatures within <tools></tools> XML tags:\n",
      "<tools>\n",
      "{\"name\": \"list_attractions\", \"description\": \"List top attractions for the given city. Returns an array of attraction objects (name, address, shortDescription, rating, category).\", \"parameters\": {\"type\": \"object\", \"properties\": {\"city\": {\"type\": \"string\", \"description\": \"City name or query (e.g., 'Paris, France' or 'Seattle, WA').\"}, \"limit\": {\"type\": \"integer\", \"description\": \"Maximum number of attractions to return.\", \"minimum\": 1, \"default\": 10}}, \"required\": [\"city\"]}}\n",
      "{\"name\": \"search_hotel\", \"description\": \"Search for hotels for the given check-in/check-out dates and number of guests. Returns an array of hotel objects (name, address, rating, availableRooms, price {amount, currency}, bookingUrl). Dates should be ISO 8601 (YYYY-MM-DD).\", \"parameters\": {\"type\": \"object\", \"properties\": {\"checkInDate\": {\"type\": \"string\", \"description\": \"Check-in date in YYYY-MM-DD (ISO 8601).\", \"format\": \"date\"}, \"checkOutDate\": {\"type\": \"string\", \"description\": \"Check-out date in YYYY-MM-DD (ISO 8601).\", \"format\": \"date\"}, \"guests\": {\"type\": \"integer\", \"description\": \"Number of guests (integer >= 1).\", \"minimum\": 1}}, \"required\": [\"checkInDate\", \"checkOutDate\", \"guests\"]}}\n",
      "{\"name\": \"search_web\", \"description\": \"Search the web for the given query. Returns an array of result strings (title + URL).\", \"parameters\": {\"type\": \"object\", \"properties\": {\"query\": {\"type\": \"string\", \"description\": \"Search query text\"}}, \"required\": [\"query\"]}}\n",
      "{\"name\": \"search_youtube\", \"description\": \"Search YouTube for videos related to the query and transcribe them to text. Primarily can be used to find travel blog videos and extract travel details in text. Returns an array of video objects: { title, url, transcript (string) }.\", \"parameters\": {\"type\": \"object\", \"properties\": {\"query\": {\"type\": \"string\", \"description\": \"Search query text (e.g., 'London in 5 days', 'weekend Paris tour').\"}}, \"required\": [\"query\"]}}\n",
      "{\"name\": \"search_flight\", \"description\": \"Search for round-trip flights for the given dates and number of passengers. Returns an array of flight objects (airline, flightNumber, departureDateTime, arrivalDateTime, duration, stops, price {amount, currency}, bookingUrl). Dates should be ISO 8601 (YYYY-MM-DD).\", \"parameters\": {\"type\": \"object\", \"properties\": {\"departureDate\": {\"type\": \"string\", \"description\": \"Outbound departure date in YYYY-MM-DD (ISO 8601).\", \"format\": \"date\"}, \"returnDate\": {\"type\": \"string\", \"description\": \"Return date in YYYY-MM-DD (ISO 8601).\", \"format\": \"date\"}, \"passengers\": {\"type\": \"integer\", \"description\": \"Number of passengers (integer >= 1).\", \"minimum\": 1}}, \"required\": [\"departureDate\", \"returnDate\", \"passengers\"]}}\n",
      "</tools>\n",
      "\n",
      "For each function call, return a json object with function name and arguments within <tool_call></tool_call> XML tags:\n",
      "<tool_call>\n",
      "{\"name\": <function-name>, \"arguments\": <args-json-object>}\n",
      "</tool_call><|im_end|>\n",
      "<|im_start|>user\n",
      "Tokyo'da gezilecek en iyi 7 yeri öğrenebilir miyim?<|im_end|>\n",
      "<|im_start|>assistant\n",
      "<think>\n",
      "\n",
      "</think>\n",
      "\n",
      "<tool_call>\n",
      "{\"name\": \"list_attractions\", \"arguments\": {\"city\": \"Tokyo\", \"limit\": 7}}\n",
      "</tool_call><|im_end|>\n",
      "\n",
      "[{'content': \"Venedik'te romantik bir hafta sonu için yapılacaklar listesi nedir?\", 'role': 'user', 'tool_calls': None}, {'content': '', 'role': 'assistant', 'tool_calls': [{'name': 'search_youtube', 'arguments': {'query': 'Venedik romantik hafta sonu önerileri'}}]}]\n",
      "[{'name': 'search_flight', 'description': 'Search for round-trip flights for the given dates and number of passengers. Returns an array of flight objects (airline, flightNumber, departureDateTime, arrivalDateTime, duration, stops, price {amount, currency}, bookingUrl). Dates should be ISO 8601 (YYYY-MM-DD).', 'parameters': {'type': 'object', 'properties': {'departureDate': {'type': 'string', 'description': 'Outbound departure date in YYYY-MM-DD (ISO 8601).', 'format': 'date'}, 'returnDate': {'type': 'string', 'description': 'Return date in YYYY-MM-DD (ISO 8601).', 'format': 'date'}, 'passengers': {'type': 'integer', 'description': 'Number of passengers (integer >= 1).', 'minimum': 1}}, 'required': ['departureDate', 'returnDate', 'passengers']}}, {'name': 'search_web', 'description': 'Search the web for the given query. Returns an array of result strings (title + URL).', 'parameters': {'type': 'object', 'properties': {'query': {'type': 'string', 'description': 'Search query text'}}, 'required': ['query']}}, {'name': 'search_hotel', 'description': 'Search for hotels for the given check-in/check-out dates and number of guests. Returns an array of hotel objects (name, address, rating, availableRooms, price {amount, currency}, bookingUrl). Dates should be ISO 8601 (YYYY-MM-DD).', 'parameters': {'type': 'object', 'properties': {'checkInDate': {'type': 'string', 'description': 'Check-in date in YYYY-MM-DD (ISO 8601).', 'format': 'date'}, 'checkOutDate': {'type': 'string', 'description': 'Check-out date in YYYY-MM-DD (ISO 8601).', 'format': 'date'}, 'guests': {'type': 'integer', 'description': 'Number of guests (integer >= 1).', 'minimum': 1}}, 'required': ['checkInDate', 'checkOutDate', 'guests']}}, {'name': 'search_youtube', 'description': 'Search YouTube for videos related to the query and transcribe them to text. Primarily can be used to find travel blog videos and extract travel details in text. Returns an array of video objects: { title, url, transcript (string) }.', 'parameters': {'type': 'object', 'properties': {'query': {'type': 'string', 'description': \"Search query text (e.g., 'London in 5 days', 'weekend Paris tour').\"}}, 'required': ['query']}}, {'name': 'list_attractions', 'description': 'List top attractions for the given city. Returns an array of attraction objects (name, address, shortDescription, rating, category).', 'parameters': {'type': 'object', 'properties': {'city': {'type': 'string', 'description': \"City name or query (e.g., 'Paris, France' or 'Seattle, WA').\"}, 'limit': {'type': 'integer', 'description': 'Maximum number of attractions to return.', 'minimum': 1, 'default': 10}}, 'required': ['city']}}]\n",
      "<|im_start|>system\n",
      "# Tools\n",
      "\n",
      "You may call one or more functions to assist with the user query.\n",
      "\n",
      "You are provided with function signatures within <tools></tools> XML tags:\n",
      "<tools>\n",
      "{\"name\": \"search_flight\", \"description\": \"Search for round-trip flights for the given dates and number of passengers. Returns an array of flight objects (airline, flightNumber, departureDateTime, arrivalDateTime, duration, stops, price {amount, currency}, bookingUrl). Dates should be ISO 8601 (YYYY-MM-DD).\", \"parameters\": {\"type\": \"object\", \"properties\": {\"departureDate\": {\"type\": \"string\", \"description\": \"Outbound departure date in YYYY-MM-DD (ISO 8601).\", \"format\": \"date\"}, \"returnDate\": {\"type\": \"string\", \"description\": \"Return date in YYYY-MM-DD (ISO 8601).\", \"format\": \"date\"}, \"passengers\": {\"type\": \"integer\", \"description\": \"Number of passengers (integer >= 1).\", \"minimum\": 1}}, \"required\": [\"departureDate\", \"returnDate\", \"passengers\"]}}\n",
      "{\"name\": \"search_web\", \"description\": \"Search the web for the given query. Returns an array of result strings (title + URL).\", \"parameters\": {\"type\": \"object\", \"properties\": {\"query\": {\"type\": \"string\", \"description\": \"Search query text\"}}, \"required\": [\"query\"]}}\n",
      "{\"name\": \"search_hotel\", \"description\": \"Search for hotels for the given check-in/check-out dates and number of guests. Returns an array of hotel objects (name, address, rating, availableRooms, price {amount, currency}, bookingUrl). Dates should be ISO 8601 (YYYY-MM-DD).\", \"parameters\": {\"type\": \"object\", \"properties\": {\"checkInDate\": {\"type\": \"string\", \"description\": \"Check-in date in YYYY-MM-DD (ISO 8601).\", \"format\": \"date\"}, \"checkOutDate\": {\"type\": \"string\", \"description\": \"Check-out date in YYYY-MM-DD (ISO 8601).\", \"format\": \"date\"}, \"guests\": {\"type\": \"integer\", \"description\": \"Number of guests (integer >= 1).\", \"minimum\": 1}}, \"required\": [\"checkInDate\", \"checkOutDate\", \"guests\"]}}\n",
      "{\"name\": \"search_youtube\", \"description\": \"Search YouTube for videos related to the query and transcribe them to text. Primarily can be used to find travel blog videos and extract travel details in text. Returns an array of video objects: { title, url, transcript (string) }.\", \"parameters\": {\"type\": \"object\", \"properties\": {\"query\": {\"type\": \"string\", \"description\": \"Search query text (e.g., 'London in 5 days', 'weekend Paris tour').\"}}, \"required\": [\"query\"]}}\n",
      "{\"name\": \"list_attractions\", \"description\": \"List top attractions for the given city. Returns an array of attraction objects (name, address, shortDescription, rating, category).\", \"parameters\": {\"type\": \"object\", \"properties\": {\"city\": {\"type\": \"string\", \"description\": \"City name or query (e.g., 'Paris, France' or 'Seattle, WA').\"}, \"limit\": {\"type\": \"integer\", \"description\": \"Maximum number of attractions to return.\", \"minimum\": 1, \"default\": 10}}, \"required\": [\"city\"]}}\n",
      "</tools>\n",
      "\n",
      "For each function call, return a json object with function name and arguments within <tool_call></tool_call> XML tags:\n",
      "<tool_call>\n",
      "{\"name\": <function-name>, \"arguments\": <args-json-object>}\n",
      "</tool_call><|im_end|>\n",
      "<|im_start|>user\n",
      "Venedik'te romantik bir hafta sonu için yapılacaklar listesi nedir?<|im_end|>\n",
      "<|im_start|>assistant\n",
      "<think>\n",
      "\n",
      "</think>\n",
      "\n",
      "<tool_call>\n",
      "{\"name\": \"search_youtube\", \"arguments\": {\"query\": \"Venedik romantik hafta sonu önerileri\"}}\n",
      "</tool_call><|im_end|>\n",
      "\n"
     ]
    },
    {
     "data": {
      "text/plain": [
       "Dataset({\n",
       "    features: ['conversations', 'tools', 'text'],\n",
       "    num_rows: 2\n",
       "})"
      ]
     },
     "execution_count": 53,
     "metadata": {},
     "output_type": "execute_result"
    }
   ],
   "source": [
    "ds_sub_tools.map(formatting_prompts_func, batched=False, batch_size=4)"
   ]
  },
  {
   "cell_type": "code",
   "execution_count": null,
   "id": "aeb6efd9",
   "metadata": {},
   "outputs": [],
   "source": []
  },
  {
   "cell_type": "code",
   "execution_count": null,
   "id": "5de2e3fb",
   "metadata": {},
   "outputs": [],
   "source": []
  }
 ],
 "metadata": {
  "kernelspec": {
   "display_name": "myenv",
   "language": "python",
   "name": "python3"
  },
  "language_info": {
   "codemirror_mode": {
    "name": "ipython",
    "version": 3
   },
   "file_extension": ".py",
   "mimetype": "text/x-python",
   "name": "python",
   "nbconvert_exporter": "python",
   "pygments_lexer": "ipython3",
   "version": "3.11.9"
  }
 },
 "nbformat": 4,
 "nbformat_minor": 5
}
