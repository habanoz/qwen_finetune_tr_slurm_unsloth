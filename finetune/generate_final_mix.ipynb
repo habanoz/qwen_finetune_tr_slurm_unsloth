{
 "cells": [
  {
   "cell_type": "code",
   "execution_count": 1,
   "id": "b35fc9d6",
   "metadata": {},
   "outputs": [],
   "source": [
    "from datasets import load_dataset, concatenate_datasets\n",
    "import json"
   ]
  },
  {
   "cell_type": "code",
   "execution_count": 2,
   "id": "227cae60",
   "metadata": {},
   "outputs": [],
   "source": [
    "import json\n",
    "from datasets import Dataset\n",
    "\n",
    "def normalize(example):\n",
    "    # Add tools column if missing\n",
    "    if \"tools\" not in example:\n",
    "        example[\"tools\"] = \"null\"\n",
    "\n",
    "    # Normalize conversations so each dict has tool_calls\n",
    "    for msg in example[\"conversations\"]:\n",
    "        if \"tool_calls\" not in msg:\n",
    "            msg[\"tool_calls\"] = \"null\"\n",
    "    return example"
   ]
  },
  {
   "cell_type": "markdown",
   "id": "50370edd",
   "metadata": {},
   "source": [
    "### lima"
   ]
  },
  {
   "cell_type": "code",
   "execution_count": 3,
   "id": "661f908d",
   "metadata": {},
   "outputs": [],
   "source": [
    "ds_lima=load_dataset(\"habanoz/lima-chat-format\")['train']"
   ]
  },
  {
   "cell_type": "code",
   "execution_count": 5,
   "id": "ed345ba6",
   "metadata": {},
   "outputs": [
    {
     "data": {
      "text/plain": [
       "Dataset({\n",
       "    features: ['category', 'conversation'],\n",
       "    num_rows: 1030\n",
       "})"
      ]
     },
     "execution_count": 5,
     "metadata": {},
     "output_type": "execute_result"
    }
   ],
   "source": [
    "ds_lima"
   ]
  },
  {
   "cell_type": "code",
   "execution_count": 6,
   "id": "b1c7f20f",
   "metadata": {},
   "outputs": [
    {
     "data": {
      "application/vnd.jupyter.widget-view+json": {
       "model_id": "dbb4aabd214f488f9ac636f486ff3a94",
       "version_major": 2,
       "version_minor": 0
      },
      "text/plain": [
       "Map:   0%|          | 0/1030 [00:00<?, ? examples/s]"
      ]
     },
     "metadata": {},
     "output_type": "display_data"
    },
    {
     "data": {
      "text/plain": [
       "Dataset({\n",
       "    features: ['conversations', 'tools'],\n",
       "    num_rows: 1030\n",
       "})"
      ]
     },
     "execution_count": 6,
     "metadata": {},
     "output_type": "execute_result"
    }
   ],
   "source": [
    "ds_lima = ds_lima.rename_column(\"conversation\",\"conversations\").remove_columns([\"category\"]).map(normalize)\n",
    "ds_lima"
   ]
  },
  {
   "cell_type": "markdown",
   "id": "81e741e8",
   "metadata": {},
   "source": [
    "### xlam"
   ]
  },
  {
   "cell_type": "code",
   "execution_count": 14,
   "id": "f6e1815b",
   "metadata": {},
   "outputs": [],
   "source": [
    "ds_xlam=load_dataset(\"Salesforce/xlam-function-calling-60k\")['train']"
   ]
  },
  {
   "cell_type": "code",
   "execution_count": 15,
   "id": "fc51f9a8",
   "metadata": {},
   "outputs": [
    {
     "data": {
      "text/plain": [
       "Dataset({\n",
       "    features: ['id', 'query', 'answers', 'tools'],\n",
       "    num_rows: 60000\n",
       "})"
      ]
     },
     "execution_count": 15,
     "metadata": {},
     "output_type": "execute_result"
    }
   ],
   "source": [
    "ds_xlam"
   ]
  },
  {
   "cell_type": "code",
   "execution_count": 16,
   "id": "a43ef085",
   "metadata": {},
   "outputs": [
    {
     "data": {
      "text/plain": [
       "{'id': 0,\n",
       " 'query': 'Where can I find live giveaways for beta access and games?',\n",
       " 'answers': '[{\"name\": \"live_giveaways_by_type\", \"arguments\": {\"type\": \"beta\"}}, {\"name\": \"live_giveaways_by_type\", \"arguments\": {\"type\": \"game\"}}]',\n",
       " 'tools': '[{\"name\": \"live_giveaways_by_type\", \"description\": \"Retrieve live giveaways from the GamerPower API based on the specified type.\", \"parameters\": {\"type\": {\"description\": \"The type of giveaways to retrieve (e.g., game, loot, beta).\", \"type\": \"str\", \"default\": \"game\"}}}]'}"
      ]
     },
     "execution_count": 16,
     "metadata": {},
     "output_type": "execute_result"
    }
   ],
   "source": [
    "ds_xlam[0]"
   ]
  },
  {
   "cell_type": "code",
   "execution_count": 17,
   "id": "f38cb51d",
   "metadata": {},
   "outputs": [
    {
     "data": {
      "application/vnd.jupyter.widget-view+json": {
       "model_id": "919651f1abce4a61924b861dd1413701",
       "version_major": 2,
       "version_minor": 0
      },
      "text/plain": [
       "Map:   0%|          | 0/60000 [00:00<?, ? examples/s]"
      ]
     },
     "metadata": {},
     "output_type": "display_data"
    }
   ],
   "source": [
    "ds_xlam = ds_xlam.map(lambda x: {'conversations': [  {'role':'user','content':x['query']}, {'role':'assistant','content':\"\", \"tool_calls\": x['answers'] } ] })"
   ]
  },
  {
   "cell_type": "code",
   "execution_count": 18,
   "id": "daa4c2e3",
   "metadata": {},
   "outputs": [
    {
     "data": {
      "text/plain": [
       "{'id': 0,\n",
       " 'query': 'Where can I find live giveaways for beta access and games?',\n",
       " 'answers': '[{\"name\": \"live_giveaways_by_type\", \"arguments\": {\"type\": \"beta\"}}, {\"name\": \"live_giveaways_by_type\", \"arguments\": {\"type\": \"game\"}}]',\n",
       " 'tools': '[{\"name\": \"live_giveaways_by_type\", \"description\": \"Retrieve live giveaways from the GamerPower API based on the specified type.\", \"parameters\": {\"type\": {\"description\": \"The type of giveaways to retrieve (e.g., game, loot, beta).\", \"type\": \"str\", \"default\": \"game\"}}}]',\n",
       " 'conversations': [{'content': 'Where can I find live giveaways for beta access and games?',\n",
       "   'role': 'user',\n",
       "   'tool_calls': None},\n",
       "  {'content': '',\n",
       "   'role': 'assistant',\n",
       "   'tool_calls': '[{\"name\": \"live_giveaways_by_type\", \"arguments\": {\"type\": \"beta\"}}, {\"name\": \"live_giveaways_by_type\", \"arguments\": {\"type\": \"game\"}}]'}]}"
      ]
     },
     "execution_count": 18,
     "metadata": {},
     "output_type": "execute_result"
    }
   ],
   "source": [
    "ds_xlam[0]"
   ]
  },
  {
   "cell_type": "code",
   "execution_count": 19,
   "id": "14de61db",
   "metadata": {},
   "outputs": [
    {
     "data": {
      "text/plain": [
       "Dataset({\n",
       "    features: ['tools', 'conversations'],\n",
       "    num_rows: 60000\n",
       "})"
      ]
     },
     "execution_count": 19,
     "metadata": {},
     "output_type": "execute_result"
    }
   ],
   "source": [
    "ds_xlam= ds_xlam.remove_columns([\"id\",\"query\",\"answers\"])\n",
    "ds_xlam"
   ]
  },
  {
   "cell_type": "code",
   "execution_count": 20,
   "id": "e3c7d494",
   "metadata": {},
   "outputs": [
    {
     "data": {
      "text/plain": [
       "Dataset({\n",
       "    features: ['tools', 'conversations'],\n",
       "    num_rows: 2000\n",
       "})"
      ]
     },
     "execution_count": 20,
     "metadata": {},
     "output_type": "execute_result"
    }
   ],
   "source": [
    "ds_xlam = ds_xlam.shuffle(122).select(range(2000))\n",
    "ds_xlam"
   ]
  },
  {
   "cell_type": "markdown",
   "id": "f75fa69c",
   "metadata": {},
   "source": [
    "## Culter TR"
   ]
  },
  {
   "cell_type": "code",
   "execution_count": 21,
   "id": "6dd275e7",
   "metadata": {},
   "outputs": [
    {
     "data": {
      "application/vnd.jupyter.widget-view+json": {
       "model_id": "3377244f119441569ae0ab91a3d2fcfe",
       "version_major": 2,
       "version_minor": 0
      },
      "text/plain": [
       "Map:   0%|          | 0/8430 [00:00<?, ? examples/s]"
      ]
     },
     "metadata": {},
     "output_type": "display_data"
    },
    {
     "data": {
      "text/plain": [
       "Dataset({\n",
       "    features: ['conversations', 'tools'],\n",
       "    num_rows: 8430\n",
       "})"
      ]
     },
     "execution_count": 21,
     "metadata": {},
     "output_type": "execute_result"
    }
   ],
   "source": [
    "ds_cultur_tr = load_dataset(\"habanoz/cultur_articles_tr\")['train'].rename_column(\"conversation\",\"conversations\").map(normalize)\n",
    "ds_cultur_tr"
   ]
  },
  {
   "cell_type": "markdown",
   "id": "6fe1b764",
   "metadata": {},
   "source": [
    "## Wildchat TR"
   ]
  },
  {
   "cell_type": "code",
   "execution_count": 22,
   "id": "8971e6c5",
   "metadata": {},
   "outputs": [
    {
     "data": {
      "application/vnd.jupyter.widget-view+json": {
       "model_id": "4af74c0c45034ce4a63e86f3a9aa8902",
       "version_major": 2,
       "version_minor": 0
      },
      "text/plain": [
       "Map:   0%|          | 0/5838 [00:00<?, ? examples/s]"
      ]
     },
     "metadata": {},
     "output_type": "display_data"
    },
    {
     "data": {
      "text/plain": [
       "Dataset({\n",
       "    features: ['conversations', 'tools'],\n",
       "    num_rows: 5838\n",
       "})"
      ]
     },
     "execution_count": 22,
     "metadata": {},
     "output_type": "execute_result"
    }
   ],
   "source": [
    "wildchattr_10k_ds = load_dataset(\"habanoz/WildChat-turkce-cleaned\")['train'].rename_column(\"conversation\",\"conversations\").map(normalize)\n",
    "wildchattr_10k_ds"
   ]
  },
  {
   "cell_type": "markdown",
   "id": "faba09af",
   "metadata": {},
   "source": [
    "## Finetome"
   ]
  },
  {
   "cell_type": "code",
   "execution_count": 23,
   "id": "d53fda14",
   "metadata": {},
   "outputs": [
    {
     "data": {
      "text/plain": [
       "Dataset({\n",
       "    features: ['conversations', 'tools'],\n",
       "    num_rows: 10000\n",
       "})"
      ]
     },
     "execution_count": 23,
     "metadata": {},
     "output_type": "execute_result"
    }
   ],
   "source": [
    "finetome100k_10k_ds = load_dataset(\"habanoz/FineTome-10k-dedup-clean\")['train'].map(normalize)\n",
    "finetome100k_10k_ds"
   ]
  },
  {
   "cell_type": "code",
   "execution_count": 24,
   "id": "293bb89b",
   "metadata": {},
   "outputs": [
    {
     "data": {
      "text/plain": [
       "{'conversations': [{'content': 'What is the current flowing in a circular loop of radius r if two protons, each carrying a charge q, are moving along the loop with a constant speed v? The protons are always positioned at diametrically opposite ends and complete one revolution around the center in a time t, where t = 2πr/v.',\n",
       "   'role': 'user',\n",
       "   'tool_calls': 'null'},\n",
       "  {'content': 'The current in the loop can be calculated using the net charge passing a given point on the loop per unit time. Since there are two protons moving in opposite directions, whenever one proton passes a point, the other proton is simultaneously passing the diametrically opposite point, thus contributing its charge in the opposite direction. As a result, the net charge passing any point on the loop in time t is $2q$. Therefore, the current in the loop, denoted by I, is given by the equation:\\n\\\\[ I = \\\\frac{2q}{t} \\\\]',\n",
       "   'role': 'assistant',\n",
       "   'tool_calls': 'null'}],\n",
       " 'tools': 'null'}"
      ]
     },
     "execution_count": 24,
     "metadata": {},
     "output_type": "execute_result"
    }
   ],
   "source": [
    "finetome100k_10k_ds[0]"
   ]
  },
  {
   "cell_type": "markdown",
   "id": "134a85e4",
   "metadata": {},
   "source": [
    "## Travel Function Calls"
   ]
  },
  {
   "cell_type": "code",
   "execution_count": 25,
   "id": "8380a538",
   "metadata": {},
   "outputs": [],
   "source": [
    "travel_function_call_ds = load_dataset(\"habanoz/travel_function_call_dataset\")['train']\n"
   ]
  },
  {
   "cell_type": "code",
   "execution_count": 27,
   "id": "e15df414",
   "metadata": {},
   "outputs": [
    {
     "data": {
      "text/plain": [
       "{'question': \"Tokyo'da gezilecek en iyi 7 yeri öğrenebilir miyim?\",\n",
       " 'function_calls': '[{\"name\": \"list_attractions\", \"arguments\": {\"city\": \"Tokyo\", \"limit\": 7}}]',\n",
       " 'available_functions': '[{\"name\": \"list_attractions\", \"description\": \"List top attractions for the given city. Returns an array of attraction objects (name, address, shortDescription, rating, category).\", \"parameters\": {\"type\": \"object\", \"properties\": {\"city\": {\"type\": \"string\", \"description\": \"City name or query (e.g., \\'Paris, France\\' or \\'Seattle, WA\\').\"}, \"limit\": {\"type\": \"integer\", \"description\": \"Maximum number of attractions to return.\", \"minimum\": 1, \"default\": 10}}, \"required\": [\"city\"]}}, {\"name\": \"search_hotel\", \"description\": \"Search for hotels for the given check-in/check-out dates and number of guests. Returns an array of hotel objects (name, address, rating, availableRooms, price {amount, currency}, bookingUrl). Dates should be ISO 8601 (YYYY-MM-DD).\", \"parameters\": {\"type\": \"object\", \"properties\": {\"checkInDate\": {\"type\": \"string\", \"description\": \"Check-in date in YYYY-MM-DD (ISO 8601).\", \"format\": \"date\"}, \"checkOutDate\": {\"type\": \"string\", \"description\": \"Check-out date in YYYY-MM-DD (ISO 8601).\", \"format\": \"date\"}, \"guests\": {\"type\": \"integer\", \"description\": \"Number of guests (integer >= 1).\", \"minimum\": 1}}, \"required\": [\"checkInDate\", \"checkOutDate\", \"guests\"]}}, {\"name\": \"search_web\", \"description\": \"Search the web for the given query. Returns an array of result strings (title + URL).\", \"parameters\": {\"type\": \"object\", \"properties\": {\"query\": {\"type\": \"string\", \"description\": \"Search query text\"}}, \"required\": [\"query\"]}}, {\"name\": \"search_youtube\", \"description\": \"Search YouTube for videos related to the query and transcribe them to text. Primarily can be used to find travel blog videos and extract travel details in text. Returns an array of video objects: { title, url, transcript (string) }.\", \"parameters\": {\"type\": \"object\", \"properties\": {\"query\": {\"type\": \"string\", \"description\": \"Search query text (e.g., \\'London in 5 days\\', \\'weekend Paris tour\\').\"}}, \"required\": [\"query\"]}}, {\"name\": \"search_flight\", \"description\": \"Search for round-trip flights for the given dates and number of passengers. Returns an array of flight objects (airline, flightNumber, departureDateTime, arrivalDateTime, duration, stops, price {amount, currency}, bookingUrl). Dates should be ISO 8601 (YYYY-MM-DD).\", \"parameters\": {\"type\": \"object\", \"properties\": {\"departureDate\": {\"type\": \"string\", \"description\": \"Outbound departure date in YYYY-MM-DD (ISO 8601).\", \"format\": \"date\"}, \"returnDate\": {\"type\": \"string\", \"description\": \"Return date in YYYY-MM-DD (ISO 8601).\", \"format\": \"date\"}, \"passengers\": {\"type\": \"integer\", \"description\": \"Number of passengers (integer >= 1).\", \"minimum\": 1}}, \"required\": [\"departureDate\", \"returnDate\", \"passengers\"]}}]'}"
      ]
     },
     "execution_count": 27,
     "metadata": {},
     "output_type": "execute_result"
    }
   ],
   "source": [
    "travel_function_call_ds[0]"
   ]
  },
  {
   "cell_type": "code",
   "execution_count": 28,
   "id": "e4556385",
   "metadata": {},
   "outputs": [
    {
     "data": {
      "application/vnd.jupyter.widget-view+json": {
       "model_id": "dc339434ebe4445da78027adcaff59de",
       "version_major": 2,
       "version_minor": 0
      },
      "text/plain": [
       "Map:   0%|          | 0/236 [00:00<?, ? examples/s]"
      ]
     },
     "metadata": {},
     "output_type": "display_data"
    },
    {
     "data": {
      "text/plain": [
       "Dataset({\n",
       "    features: ['tools', 'conversations'],\n",
       "    num_rows: 236\n",
       "})"
      ]
     },
     "execution_count": 28,
     "metadata": {},
     "output_type": "execute_result"
    }
   ],
   "source": [
    "travel_function_call_ds = travel_function_call_ds.map(lambda x: {'conversations': [  {'role':'user','content':x['question']}, {'role':'assistant','content':\"\", \"tool_calls\": x['function_calls'] } ] }).rename_column(\"available_functions\",\"tools\").remove_columns(['question', 'function_calls'])\n",
    "travel_function_call_ds"
   ]
  },
  {
   "cell_type": "code",
   "execution_count": 29,
   "id": "7a6fd54b",
   "metadata": {},
   "outputs": [
    {
     "data": {
      "text/plain": [
       "{'tools': '[{\"name\": \"search_flight\", \"description\": \"Search for round-trip flights for the given dates and number of passengers. Returns an array of flight objects (airline, flightNumber, departureDateTime, arrivalDateTime, duration, stops, price {amount, currency}, bookingUrl). Dates should be ISO 8601 (YYYY-MM-DD).\", \"parameters\": {\"type\": \"object\", \"properties\": {\"departureDate\": {\"type\": \"string\", \"description\": \"Outbound departure date in YYYY-MM-DD (ISO 8601).\", \"format\": \"date\"}, \"returnDate\": {\"type\": \"string\", \"description\": \"Return date in YYYY-MM-DD (ISO 8601).\", \"format\": \"date\"}, \"passengers\": {\"type\": \"integer\", \"description\": \"Number of passengers (integer >= 1).\", \"minimum\": 1}}, \"required\": [\"departureDate\", \"returnDate\", \"passengers\"]}}, {\"name\": \"search_web\", \"description\": \"Search the web for the given query. Returns an array of result strings (title + URL).\", \"parameters\": {\"type\": \"object\", \"properties\": {\"query\": {\"type\": \"string\", \"description\": \"Search query text\"}}, \"required\": [\"query\"]}}, {\"name\": \"search_hotel\", \"description\": \"Search for hotels for the given check-in/check-out dates and number of guests. Returns an array of hotel objects (name, address, rating, availableRooms, price {amount, currency}, bookingUrl). Dates should be ISO 8601 (YYYY-MM-DD).\", \"parameters\": {\"type\": \"object\", \"properties\": {\"checkInDate\": {\"type\": \"string\", \"description\": \"Check-in date in YYYY-MM-DD (ISO 8601).\", \"format\": \"date\"}, \"checkOutDate\": {\"type\": \"string\", \"description\": \"Check-out date in YYYY-MM-DD (ISO 8601).\", \"format\": \"date\"}, \"guests\": {\"type\": \"integer\", \"description\": \"Number of guests (integer >= 1).\", \"minimum\": 1}}, \"required\": [\"checkInDate\", \"checkOutDate\", \"guests\"]}}, {\"name\": \"search_youtube\", \"description\": \"Search YouTube for videos related to the query and transcribe them to text. Primarily can be used to find travel blog videos and extract travel details in text. Returns an array of video objects: { title, url, transcript (string) }.\", \"parameters\": {\"type\": \"object\", \"properties\": {\"query\": {\"type\": \"string\", \"description\": \"Search query text (e.g., \\'London in 5 days\\', \\'weekend Paris tour\\').\"}}, \"required\": [\"query\"]}}, {\"name\": \"list_attractions\", \"description\": \"List top attractions for the given city. Returns an array of attraction objects (name, address, shortDescription, rating, category).\", \"parameters\": {\"type\": \"object\", \"properties\": {\"city\": {\"type\": \"string\", \"description\": \"City name or query (e.g., \\'Paris, France\\' or \\'Seattle, WA\\').\"}, \"limit\": {\"type\": \"integer\", \"description\": \"Maximum number of attractions to return.\", \"minimum\": 1, \"default\": 10}}, \"required\": [\"city\"]}}]',\n",
       " 'conversations': [{'content': \"Venedik'te romantik bir hafta sonu için yapılacaklar listesi nedir?\",\n",
       "   'role': 'user',\n",
       "   'tool_calls': None},\n",
       "  {'content': '',\n",
       "   'role': 'assistant',\n",
       "   'tool_calls': '[{\"name\": \"search_youtube\", \"arguments\": {\"query\": \"Venedik romantik hafta sonu önerileri\"}}]'}]}"
      ]
     },
     "execution_count": 29,
     "metadata": {},
     "output_type": "execute_result"
    }
   ],
   "source": [
    "travel_function_call_ds[1]"
   ]
  },
  {
   "cell_type": "code",
   "execution_count": null,
   "id": "16a6673c",
   "metadata": {},
   "outputs": [],
   "source": []
  },
  {
   "cell_type": "markdown",
   "id": "1645f4e5",
   "metadata": {},
   "source": [
    "## Planning Dataset"
   ]
  },
  {
   "cell_type": "code",
   "execution_count": 31,
   "id": "2b9b4d3c",
   "metadata": {},
   "outputs": [
    {
     "data": {
      "application/vnd.jupyter.widget-view+json": {
       "model_id": "8bb8e1b80def4e318e05bcb2dd67846f",
       "version_major": 2,
       "version_minor": 0
      },
      "text/plain": [
       "Downloading readme:   0%|          | 0.00/353 [00:00<?, ?B/s]"
      ]
     },
     "metadata": {},
     "output_type": "display_data"
    },
    {
     "data": {
      "application/vnd.jupyter.widget-view+json": {
       "model_id": "820f3dceb0744b75a937d3268e9e6198",
       "version_major": 2,
       "version_minor": 0
      },
      "text/plain": [
       "Downloading data:   0%|          | 0.00/3.22M [00:00<?, ?B/s]"
      ]
     },
     "metadata": {},
     "output_type": "display_data"
    },
    {
     "data": {
      "application/vnd.jupyter.widget-view+json": {
       "model_id": "2eab59f55cf04bfabe6e584914abffd7",
       "version_major": 2,
       "version_minor": 0
      },
      "text/plain": [
       "Generating train split:   0%|          | 0/996 [00:00<?, ? examples/s]"
      ]
     },
     "metadata": {},
     "output_type": "display_data"
    },
    {
     "data": {
      "text/plain": [
       "Dataset({\n",
       "    features: ['conversations'],\n",
       "    num_rows: 996\n",
       "})"
      ]
     },
     "execution_count": 31,
     "metadata": {},
     "output_type": "execute_result"
    }
   ],
   "source": [
    "planning_ds = load_dataset(\"habanoz/planning_dataset_v1\")['train']\n",
    "planning_ds"
   ]
  },
  {
   "cell_type": "code",
   "execution_count": 33,
   "id": "7876c112",
   "metadata": {},
   "outputs": [
    {
     "data": {
      "application/vnd.jupyter.widget-view+json": {
       "model_id": "5aa670d296ea4ec1af9189d903b1f711",
       "version_major": 2,
       "version_minor": 0
      },
      "text/plain": [
       "Map:   0%|          | 0/996 [00:00<?, ? examples/s]"
      ]
     },
     "metadata": {},
     "output_type": "display_data"
    }
   ],
   "source": [
    "planning_ds = planning_ds.map(normalize)"
   ]
  },
  {
   "cell_type": "code",
   "execution_count": 35,
   "id": "b0e4825f",
   "metadata": {},
   "outputs": [
    {
     "name": "stdout",
     "output_type": "stream",
     "text": [
      "Lima 1030\n",
      "Culter TR 8430\n",
      "Wildchat TR-cleaned 5838\n",
      "Finetome100k-cleaned 10000\n",
      "Travel function call 236\n",
      "Xlam function call 2000\n",
      "Planning 996\n",
      "Total 28530\n"
     ]
    }
   ],
   "source": [
    "print(\"Lima\", len(ds_lima))\n",
    "print(\"Culter TR\", len(ds_cultur_tr))\n",
    "print(\"Wildchat TR-cleaned\", len(wildchattr_10k_ds))\n",
    "print(\"Finetome100k-cleaned\", len(finetome100k_10k_ds))\n",
    "print(\"Travel function call\", len(travel_function_call_ds))\n",
    "print(\"Xlam function call\", len(ds_xlam))\n",
    "print(\"Planning\", len(planning_ds))\n",
    "\n",
    "\n",
    "print(\"Total\", len(ds_lima)+len(ds_xlam)+len(ds_cultur_tr)+len(wildchattr_10k_ds)+len(finetome100k_10k_ds)+len(travel_function_call_ds) + len(planning_ds))"
   ]
  },
  {
   "cell_type": "markdown",
   "id": "12971303",
   "metadata": {},
   "source": [
    "## Combine"
   ]
  },
  {
   "cell_type": "code",
   "execution_count": 41,
   "id": "adc95ddf",
   "metadata": {},
   "outputs": [
    {
     "data": {
      "text/plain": [
       "Dataset({\n",
       "    features: ['conversations', 'tools'],\n",
       "    num_rows: 28530\n",
       "})"
      ]
     },
     "execution_count": 41,
     "metadata": {},
     "output_type": "execute_result"
    }
   ],
   "source": [
    "ds_final = concatenate_datasets([ds_lima, ds_cultur_tr, wildchattr_10k_ds, finetome100k_10k_ds, travel_function_call_ds,  ds_xlam, planning_ds])\n",
    "ds_final"
   ]
  },
  {
   "cell_type": "code",
   "execution_count": null,
   "id": "223b1f26",
   "metadata": {},
   "outputs": [
    {
     "data": {
      "application/vnd.jupyter.widget-view+json": {
       "model_id": "9304afda851d401091fad828563fed02",
       "version_major": 2,
       "version_minor": 0
      },
      "text/plain": [
       "Uploading the dataset shards:   0%|          | 0/1 [00:00<?, ?it/s]"
      ]
     },
     "metadata": {},
     "output_type": "display_data"
    },
    {
     "data": {
      "application/vnd.jupyter.widget-view+json": {
       "model_id": "7ad77a13fa5240b58e33ff0b4a5c398a",
       "version_major": 2,
       "version_minor": 0
      },
      "text/plain": [
       "Creating parquet from Arrow format:   0%|          | 0/29 [00:00<?, ?ba/s]"
      ]
     },
     "metadata": {},
     "output_type": "display_data"
    },
    {
     "name": "stderr",
     "output_type": "stream",
     "text": [
      "Uploading files as a binary IO buffer is not supported by Xet Storage. Falling back to HTTP upload.\n"
     ]
    },
    {
     "data": {
      "text/plain": [
       "CommitInfo(commit_url='https://huggingface.co/datasets/habanoz/finetune_mix_v1/commit/463a34a021e4abffac4daa9d4461109e2bf659aa', commit_message='Upload dataset', commit_description='', oid='463a34a021e4abffac4daa9d4461109e2bf659aa', pr_url=None, repo_url=RepoUrl('https://huggingface.co/datasets/habanoz/finetune_mix_v1', endpoint='https://huggingface.co', repo_type='dataset', repo_id='habanoz/finetune_mix_v1'), pr_revision=None, pr_num=None)"
      ]
     },
     "execution_count": 43,
     "metadata": {},
     "output_type": "execute_result"
    }
   ],
   "source": [
    "ds_final.push_to_hub(\"habanoz/finetune_mix_v1\", private=False, token=\"\")"
   ]
  },
  {
   "cell_type": "markdown",
   "id": "1348ef16",
   "metadata": {},
   "source": [
    "## Stats"
   ]
  },
  {
   "cell_type": "code",
   "execution_count": 37,
   "id": "71a6a9f6",
   "metadata": {},
   "outputs": [],
   "source": [
    "ds_final = concatenate_datasets([ds_lima, ds_cultur_tr, wildchattr_10k_ds, finetome100k_10k_ds, planning_ds])"
   ]
  },
  {
   "cell_type": "code",
   "execution_count": 38,
   "id": "7aa12951",
   "metadata": {},
   "outputs": [
    {
     "data": {
      "text/plain": [
       "Dataset({\n",
       "    features: ['conversations', 'tools'],\n",
       "    num_rows: 26294\n",
       "})"
      ]
     },
     "execution_count": 38,
     "metadata": {},
     "output_type": "execute_result"
    }
   ],
   "source": [
    "ds_final"
   ]
  },
  {
   "cell_type": "code",
   "execution_count": 39,
   "id": "7d6c0315",
   "metadata": {},
   "outputs": [
    {
     "name": "stdout",
     "output_type": "stream",
     "text": [
      "Total conversations: 26294\n",
      "Average turns per conversation: 3.33\n",
      "Max turns in a conversation: 116\n",
      "Min turns in a conversation: 2\n",
      "p90: 5.0\n",
      "Average user message length (words): 113.74\n",
      "Average assistant message length (words): 186.46\n"
     ]
    },
    {
     "data": {
      "image/png": "[encoded data removed]",
      "text/plain": [
       "<Figure size 640x480 with 1 Axes>"
      ]
     },
     "metadata": {},
     "output_type": "display_data"
    }
   ],
   "source": [
    "from datasets import load_dataset\n",
    "import numpy as np\n",
    "import matplotlib.pyplot as plt\n",
    "\n",
    "dataset = ds_final\n",
    "# --- General stats ---\n",
    "num_conversations = len(dataset)\n",
    "\n",
    "# Conversation lengths (number of turns)\n",
    "conv_lengths = [len(conv) for conv in dataset[\"conversations\"]]\n",
    "\n",
    "avg_turns = np.mean(conv_lengths)\n",
    "max_turns = np.max(conv_lengths)\n",
    "min_turns = np.min(conv_lengths)\n",
    "p90 = np.percentile(conv_lengths, 90)\n",
    "\n",
    "# Count user vs assistant messages and message lengths\n",
    "user_msg_lengths, assistant_msg_lengths = [], []\n",
    "for conv in dataset[\"conversations\"]:\n",
    "    for turn in conv:\n",
    "        role = turn.get(\"role\", \"\")\n",
    "        text = turn.get(\"content\", \"\")\n",
    "        if role == \"user\":\n",
    "            user_msg_lengths.append(len(text.split()))\n",
    "        elif role == \"assistant\":\n",
    "            assistant_msg_lengths.append(len(text.split()))\n",
    "\n",
    "avg_user_len = np.mean(user_msg_lengths)\n",
    "avg_assistant_len = np.mean(assistant_msg_lengths)\n",
    "\n",
    "# --- Print stats ---\n",
    "print(f\"Total conversations: {num_conversations}\")\n",
    "print(f\"Average turns per conversation: {avg_turns:.2f}\")\n",
    "print(f\"Max turns in a conversation: {max_turns}\")\n",
    "print(f\"Min turns in a conversation: {min_turns}\")\n",
    "print(f\"p90: {p90}\")\n",
    "print(f\"Average user message length (words): {avg_user_len:.2f}\")\n",
    "print(f\"Average assistant message length (words): {avg_assistant_len:.2f}\")\n",
    "\n",
    "# --- Plot distribution of conversation lengths ---\n",
    "plt.hist(conv_lengths, bins=30)\n",
    "plt.xlabel(\"Number of turns\")\n",
    "plt.ylabel(\"Frequency\")\n",
    "plt.title(\"Conversation Length Distribution\")\n",
    "plt.show()"
   ]
  },
  {
   "cell_type": "code",
   "execution_count": 40,
   "id": "2fb9093a",
   "metadata": {},
   "outputs": [
    {
     "data": {
      "image/png": "[encoded data removed]",
      "text/plain": [
       "<Figure size 1400x400 with 3 Axes>"
      ]
     },
     "metadata": {},
     "output_type": "display_data"
    }
   ],
   "source": [
    "all_msg_lengths = user_msg_lengths + assistant_msg_lengths\n",
    "\n",
    "# --- Plot histograms ---\n",
    "plt.figure(figsize=(14, 4))\n",
    "\n",
    "# User messages\n",
    "plt.subplot(1, 3, 1)\n",
    "plt.hist(user_msg_lengths, bins=40, alpha=0.7, color=\"blue\")\n",
    "plt.xlabel(\"Words per user message\")\n",
    "plt.ylabel(\"Frequency\")\n",
    "plt.title(\"User Message Lengths\")\n",
    "\n",
    "# Assistant messages\n",
    "plt.subplot(1, 3, 2)\n",
    "plt.hist(assistant_msg_lengths, bins=40, alpha=0.7, color=\"green\")\n",
    "plt.xlabel(\"Words per assistant message\")\n",
    "plt.title(\"Assistant Message Lengths\")\n",
    "\n",
    "# Combined\n",
    "plt.subplot(1, 3, 3)\n",
    "plt.hist(all_msg_lengths, bins=40, alpha=0.7, color=\"purple\")\n",
    "plt.xlabel(\"Words per message\")\n",
    "plt.title(\"All Messages Lengths\")\n",
    "\n",
    "plt.tight_layout()\n",
    "plt.show()"
   ]
  },
  {
   "cell_type": "code",
   "execution_count": null,
   "id": "a2c95e4c",
   "metadata": {},
   "outputs": [],
   "source": []
  },
  {
   "cell_type": "code",
   "execution_count": null,
   "id": "dedde645",
   "metadata": {},
   "outputs": [],
   "source": []
  },
  {
   "cell_type": "code",
   "execution_count": null,
   "id": "5f122a56",
   "metadata": {},
   "outputs": [],
   "source": []
  }
 ],
 "metadata": {
  "kernelspec": {
   "display_name": "myenv",
   "language": "python",
   "name": "python3"
  },
  "language_info": {
   "codemirror_mode": {
    "name": "ipython",
    "version": 3
   },
   "file_extension": ".py",
   "mimetype": "text/x-python",
   "name": "python",
   "nbconvert_exporter": "python",
   "pygments_lexer": "ipython3",
   "version": "3.11.9"
  }
 },
 "nbformat": 4,
 "nbformat_minor": 5
}
