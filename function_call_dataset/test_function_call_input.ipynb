{
 "cells": [
  {
   "cell_type": "code",
   "execution_count": null,
   "id": "5564904d",
   "metadata": {},
   "outputs": [],
   "source": []
  },
  {
   "cell_type": "code",
   "execution_count": 1,
   "id": "4e31c642",
   "metadata": {},
   "outputs": [],
   "source": [
    "from transformers import AutoTokenizer, AutoModelForCausalLM\n",
    "\n",
    "tokenizer = AutoTokenizer.from_pretrained(\"Qwen/Qwen3-1.7B-Base\")"
   ]
  },
  {
   "cell_type": "code",
   "execution_count": 7,
   "id": "b73dd956",
   "metadata": {},
   "outputs": [],
   "source": [
    "tools = [\n",
    "  {\n",
    "    \"name\": \"search_web\",\n",
    "    \"description\": \"Search the web for the given query. Returns an array of result strings (title + URL).\",\n",
    "    \"parameters\": {\n",
    "      \"type\": \"object\",\n",
    "      \"properties\": {\n",
    "        \"query\": {\n",
    "          \"type\": \"string\",\n",
    "          \"description\": \"Search query text\"\n",
    "        }\n",
    "      },\n",
    "      \"required\": [\n",
    "        \"query\"\n",
    "      ]\n",
    "    }\n",
    "  },\n",
    "  {\n",
    "    \"name\": \"search_youtube\",\n",
    "    \"description\": \"Search YouTube for videos related to the query and transcribe them to text. Primarily can be used to find travel blog videos and extract travel details in text. Returns an array of video objects: { title, url, transcript (string) }.\",\n",
    "    \"parameters\": {\n",
    "      \"type\": \"object\",\n",
    "      \"properties\": {\n",
    "        \"query\": {\n",
    "          \"type\": \"string\",\n",
    "          \"description\": \"Search query text (e.g., 'London in 5 days', 'weekend Paris tour').\"\n",
    "        }\n",
    "      },\n",
    "      \"required\": [\n",
    "        \"query\"\n",
    "      ]\n",
    "    }\n",
    "  }\n",
    "]"
   ]
  },
  {
   "cell_type": "code",
   "execution_count": 9,
   "id": "f41efb8c",
   "metadata": {},
   "outputs": [],
   "source": [
    "messages = [\n",
    "  {\"role\": \"system\", \"content\": \"You are a bot that responds to weather queries. You should reply with the unit used in the queried location.\"},\n",
    "  {\"role\": \"user\", \"content\": \"Hey, what's the temperature in Paris right now?\"}\n",
    "]\n",
    "tool_call = {\"name\": \"get_current_temperature\", \"arguments\": {\"location\": \"Paris, France\", \"unit\": \"celsius\"}}\n",
    "messages.append({\"role\": \"assistant\", \"content\":\"\",\"tool_calls\": [{\"type\": \"function\", \"function\": tool_call}]})\n",
    "messages.append({\"role\": \"tool\", \"content\": \"22\"})"
   ]
  },
  {
   "cell_type": "code",
   "execution_count": 10,
   "id": "f9b9a8a0",
   "metadata": {},
   "outputs": [],
   "source": [
    "inputs = tokenizer.apply_chat_template(\n",
    "\tmessages,\n",
    "\tadd_generation_prompt=False,\n",
    "\ttokenize=False,\n",
    "    tools=tools\n",
    ")"
   ]
  },
  {
   "cell_type": "code",
   "execution_count": 13,
   "id": "adb8670c",
   "metadata": {},
   "outputs": [
    {
     "name": "stdout",
     "output_type": "stream",
     "text": [
      "<|im_start|>system\n",
      "You are a bot that responds to weather queries. You should reply with the unit used in the queried location.\n",
      "\n",
      "# Tools\n",
      "\n",
      "You may call one or more functions to assist with the user query.\n",
      "\n",
      "You are provided with function signatures within <tools></tools> XML tags:\n",
      "<tools>\n",
      "{\"name\": \"search_web\", \"description\": \"Search the web for the given query. Returns an array of result strings (title + URL).\", \"parameters\": {\"type\": \"object\", \"properties\": {\"query\": {\"type\": \"string\", \"description\": \"Search query text\"}}, \"required\": [\"query\"]}}\n",
      "{\"name\": \"search_youtube\", \"description\": \"Search YouTube for videos related to the query and transcribe them to text. Primarily can be used to find travel blog videos and extract travel details in text. Returns an array of video objects: { title, url, transcript (string) }.\", \"parameters\": {\"type\": \"object\", \"properties\": {\"query\": {\"type\": \"string\", \"description\": \"Search query text (e.g., 'London in 5 days', 'weekend Paris tour').\"}}, \"required\": [\"query\"]}}\n",
      "</tools>\n",
      "\n",
      "For each function call, return a json object with function name and arguments within <tool_call></tool_call> XML tags:\n",
      "<tool_call>\n",
      "{\"name\": <function-name>, \"arguments\": <args-json-object>}\n",
      "</tool_call><|im_end|>\n",
      "<|im_start|>user\n",
      "Hey, what's the temperature in Paris right now?<|im_end|>\n",
      "<|im_start|>assistant\n",
      "<tool_call>\n",
      "{\"name\": \"get_current_temperature\", \"arguments\": {\"location\": \"Paris, France\", \"unit\": \"celsius\"}}\n",
      "</tool_call><|im_end|>\n",
      "<|im_start|>user\n",
      "<tool_response>\n",
      "22\n",
      "</tool_response><|im_end|>\n",
      "\n"
     ]
    }
   ],
   "source": [
    "\n",
    "print(inputs)"
   ]
  },
  {
   "cell_type": "code",
   "execution_count": null,
   "id": "a9593682",
   "metadata": {},
   "outputs": [],
   "source": []
  }
 ],
 "metadata": {
  "kernelspec": {
   "display_name": "myenv",
   "language": "python",
   "name": "python3"
  },
  "language_info": {
   "codemirror_mode": {
    "name": "ipython",
    "version": 3
   },
   "file_extension": ".py",
   "mimetype": "text/x-python",
   "name": "python",
   "nbconvert_exporter": "python",
   "pygments_lexer": "ipython3",
   "version": "3.11.9"
  }
 },
 "nbformat": 4,
 "nbformat_minor": 5
}
